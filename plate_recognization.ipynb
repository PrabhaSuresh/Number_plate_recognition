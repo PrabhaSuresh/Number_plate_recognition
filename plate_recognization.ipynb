{
 "cells": [
  {
   "cell_type": "code",
   "execution_count": 1,
   "metadata": {},
   "outputs": [
    {
     "data": {
      "text/plain": [
       "'C:\\\\Prabha\\\\Automatic_numbeplate_detection\\\\model\\\\runs\\\\detect\\\\train4\\\\weights\\\\best.pt'"
      ]
     },
     "execution_count": 1,
     "metadata": {},
     "output_type": "execute_result"
    }
   ],
   "source": [
    "r'C:\\Prabha\\Automatic_numbeplate_detection\\model\\runs\\detect\\train4\\weights\\best.pt'"
   ]
  },
  {
   "cell_type": "code",
   "execution_count": 2,
   "metadata": {},
   "outputs": [],
   "source": [
    "pytesseract.pytesseract.tesseract_cmd = r'C:\\Program Files\\Tesseract-OCR\\tesseract.exe'"
   ]
  },
  {
   "cell_type": "code",
   "execution_count": 4,
   "metadata": {},
   "outputs": [
    {
     "name": "stdout",
     "output_type": "stream",
     "text": [
      "\n",
      "0: 640x640 1 license, 6.9ms\n",
      "Speed: 6.9ms preprocess, 6.9ms inference, 0.0ms postprocess per image at shape (1, 3, 640, 640)\n"
     ]
    }
   ],
   "source": [
    "import cv2\n",
    "import csv\n",
    "import pytesseract\n",
    "from ultralytics import YOLO\n",
    "\n",
    "model = YOLO(r'C:\\Prabha\\Automatic_numbeplate_detection\\model\\runs\\detect\\train4\\weights\\best.pt')\n",
    "\n",
    "image_path = r'C:\\Users\\aksha\\Downloads\\R.jpeg'\n",
    "image = cv2.imread(image_path)\n",
    "\n",
    "csv_file_path = 'recognized_number_plates_single_image.csv'\n",
    "resized_image = cv2.resize(image, (640, 640))\n",
    "\n",
    "results = model(resized_image)\n",
    "detections = results[0].boxes.xyxy.cpu().numpy()\n",
    "\n",
    "with open(csv_file_path, mode='w', newline='') as file:\n",
    "    writer = csv.writer(file)\n",
    "    writer.writerow(['Image', 'Number Plate'])\n",
    "\n",
    "    number_plate_images = []\n",
    "    for detection in detections:\n",
    "        x1, y1, x2, y2 = detection[:4]\n",
    "        number_plate_image = resized_image[int(y1):int(y2), int(x1):int(x2)]\n",
    "        number_plate_images.append(number_plate_image)\n",
    "\n",
    "    def ocr_image(image):\n",
    "        return pytesseract.image_to_string(image, config='--psm 8')\n",
    "\n",
    "    for number_plate_image in number_plate_images:\n",
    "        number_plate_text = ocr_image(number_plate_image).strip()\n",
    "        if number_plate_text:\n",
    "            writer.writerow([image_path, number_plate_text])\n",
    "            break\n"
   ]
  },
  {
   "cell_type": "code",
   "execution_count": null,
   "metadata": {},
   "outputs": [],
   "source": []
  }
 ],
 "metadata": {
  "kernelspec": {
   "display_name": "yolov8",
   "language": "python",
   "name": "python3"
  },
  "language_info": {
   "codemirror_mode": {
    "name": "ipython",
    "version": 3
   },
   "file_extension": ".py",
   "mimetype": "text/x-python",
   "name": "python",
   "nbconvert_exporter": "python",
   "pygments_lexer": "ipython3",
   "version": "3.10.14"
  }
 },
 "nbformat": 4,
 "nbformat_minor": 2
}
