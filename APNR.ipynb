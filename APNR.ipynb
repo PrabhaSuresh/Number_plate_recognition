{
 "cells": [
  {
   "cell_type": "code",
   "execution_count": 2,
   "metadata": {},
   "outputs": [],
   "source": [
    "\n",
    "from ultralytics import YOLO\n",
    "import torch"
   ]
  },
  {
   "cell_type": "code",
   "execution_count": 3,
   "metadata": {},
   "outputs": [
    {
     "data": {
      "text/plain": [
       "'cuda'"
      ]
     },
     "execution_count": 3,
     "metadata": {},
     "output_type": "execute_result"
    }
   ],
   "source": [
    "device = 'cuda' if torch.cuda.is_available() else 'cpu'\n",
    "device"
   ]
  },
  {
   "cell_type": "code",
   "execution_count": null,
   "metadata": {},
   "outputs": [
    {
     "name": "stdout",
     "output_type": "stream",
     "text": [
      "Ultralytics YOLOv8.2.60  Python-3.10.14 torch-2.3.1 CUDA:0 (NVIDIA GeForce RTX 2050, 4096MiB)\n",
      "\u001b[34m\u001b[1mengine\\trainer: \u001b[0mtask=detect, mode=train, model=yolov8n.pt, data=D:\\Prabha\\Automatic_numbeplate_detection\\Dataset\\data.yaml, epochs=230, time=None, patience=100, batch=16, imgsz=640, save=True, save_period=-1, cache=False, device=None, workers=8, project=None, name=train2, exist_ok=False, pretrained=True, optimizer=auto, verbose=True, seed=0, deterministic=True, single_cls=False, rect=False, cos_lr=False, close_mosaic=10, resume=False, amp=True, fraction=1.0, profile=False, freeze=None, multi_scale=False, overlap_mask=True, mask_ratio=4, dropout=0.0, val=True, split=val, save_json=False, save_hybrid=False, conf=None, iou=0.7, max_det=300, half=False, dnn=False, plots=True, source=None, vid_stride=1, stream_buffer=False, visualize=False, augment=False, agnostic_nms=False, classes=None, retina_masks=False, embed=None, show=False, save_frames=False, save_txt=False, save_conf=False, save_crop=False, show_labels=True, show_conf=True, show_boxes=True, line_width=None, format=torchscript, keras=False, optimize=False, int8=False, dynamic=False, simplify=False, opset=None, workspace=4, nms=False, lr0=0.01, lrf=0.01, momentum=0.937, weight_decay=0.0005, warmup_epochs=3.0, warmup_momentum=0.8, warmup_bias_lr=0.1, box=7.5, cls=0.5, dfl=1.5, pose=12.0, kobj=1.0, label_smoothing=0.0, nbs=64, hsv_h=0.015, hsv_s=0.7, hsv_v=0.4, degrees=0.0, translate=0.1, scale=0.5, shear=0.0, perspective=0.0, flipud=0.0, fliplr=0.5, bgr=0.0, mosaic=1.0, mixup=0.0, copy_paste=0.0, auto_augment=randaugment, erasing=0.4, crop_fraction=1.0, cfg=None, tracker=botsort.yaml, save_dir=runs\\detect\\train2\n",
      "Overriding model.yaml nc=80 with nc=1\n",
      "\n",
      "                   from  n    params  module                                       arguments                     \n",
      "  0                  -1  1       464  ultralytics.nn.modules.conv.Conv             [3, 16, 3, 2]                 \n",
      "  1                  -1  1      4672  ultralytics.nn.modules.conv.Conv             [16, 32, 3, 2]                \n",
      "  2                  -1  1      7360  ultralytics.nn.modules.block.C2f             [32, 32, 1, True]             \n",
      "  3                  -1  1     18560  ultralytics.nn.modules.conv.Conv             [32, 64, 3, 2]                \n",
      "  4                  -1  2     49664  ultralytics.nn.modules.block.C2f             [64, 64, 2, True]             \n",
      "  5                  -1  1     73984  ultralytics.nn.modules.conv.Conv             [64, 128, 3, 2]               \n",
      "  6                  -1  2    197632  ultralytics.nn.modules.block.C2f             [128, 128, 2, True]           \n",
      "  7                  -1  1    295424  ultralytics.nn.modules.conv.Conv             [128, 256, 3, 2]              \n",
      "  8                  -1  1    460288  ultralytics.nn.modules.block.C2f             [256, 256, 1, True]           \n",
      "  9                  -1  1    164608  ultralytics.nn.modules.block.SPPF            [256, 256, 5]                 \n",
      " 10                  -1  1         0  torch.nn.modules.upsampling.Upsample         [None, 2, 'nearest']          \n",
      " 11             [-1, 6]  1         0  ultralytics.nn.modules.conv.Concat           [1]                           \n",
      " 12                  -1  1    148224  ultralytics.nn.modules.block.C2f             [384, 128, 1]                 \n",
      " 13                  -1  1         0  torch.nn.modules.upsampling.Upsample         [None, 2, 'nearest']          \n",
      " 14             [-1, 4]  1         0  ultralytics.nn.modules.conv.Concat           [1]                           \n",
      " 15                  -1  1     37248  ultralytics.nn.modules.block.C2f             [192, 64, 1]                  \n",
      " 16                  -1  1     36992  ultralytics.nn.modules.conv.Conv             [64, 64, 3, 2]                \n",
      " 17            [-1, 12]  1         0  ultralytics.nn.modules.conv.Concat           [1]                           \n",
      " 18                  -1  1    123648  ultralytics.nn.modules.block.C2f             [192, 128, 1]                 \n",
      " 19                  -1  1    147712  ultralytics.nn.modules.conv.Conv             [128, 128, 3, 2]              \n",
      " 20             [-1, 9]  1         0  ultralytics.nn.modules.conv.Concat           [1]                           \n",
      " 21                  -1  1    493056  ultralytics.nn.modules.block.C2f             [384, 256, 1]                 \n",
      " 22        [15, 18, 21]  1    751507  ultralytics.nn.modules.head.Detect           [1, [64, 128, 256]]           \n",
      "Model summary: 225 layers, 3,011,043 parameters, 3,011,027 gradients, 8.2 GFLOPs\n",
      "\n",
      "Transferred 319/355 items from pretrained weights\n",
      "Freezing layer 'model.22.dfl.conv.weight'\n",
      "\u001b[34m\u001b[1mAMP: \u001b[0mrunning Automatic Mixed Precision (AMP) checks with YOLOv8n...\n",
      "\u001b[34m\u001b[1mAMP: \u001b[0mchecks passed \n"
     ]
    },
    {
     "name": "stderr",
     "output_type": "stream",
     "text": [
      "\u001b[34m\u001b[1mtrain: \u001b[0mScanning D:\\Prabha\\Automatic_numbeplate_detection\\Dataset\\train\\labels.cache... 418 images, 0 backgrounds, 0 corrupt: 100%|██████████| 418/418 [00:00<?, ?it/s]\n",
      "\u001b[34m\u001b[1mval: \u001b[0mScanning D:\\Prabha\\Automatic_numbeplate_detection\\Dataset\\valid\\labels.cache... 119 images, 0 backgrounds, 0 corrupt: 100%|██████████| 119/119 [00:00<?, ?it/s]\n"
     ]
    },
    {
     "name": "stdout",
     "output_type": "stream",
     "text": [
      "Plotting labels to runs\\detect\\train2\\labels.jpg... \n",
      "\u001b[34m\u001b[1moptimizer:\u001b[0m 'optimizer=auto' found, ignoring 'lr0=0.01' and 'momentum=0.937' and determining best 'optimizer', 'lr0' and 'momentum' automatically... \n",
      "\u001b[34m\u001b[1moptimizer:\u001b[0m AdamW(lr=0.002, momentum=0.9) with parameter groups 57 weight(decay=0.0), 64 weight(decay=0.0005), 63 bias(decay=0.0)\n",
      "Image sizes 640 train, 640 val\n",
      "Using 8 dataloader workers\n",
      "Logging results to \u001b[1mruns\\detect\\train2\u001b[0m\n",
      "Starting training for 230 epochs...\n",
      "\n",
      "      Epoch    GPU_mem   box_loss   cls_loss   dfl_loss  Instances       Size\n"
     ]
    },
    {
     "name": "stderr",
     "output_type": "stream",
     "text": [
      "      1/230      2.41G      1.154      1.969      1.406          6        640: 100%|██████████| 27/27 [00:29<00:00,  1.09s/it]\n",
      "                 Class     Images  Instances      Box(P          R      mAP50  mAP50-95): 100%|██████████| 4/4 [00:03<00:00,  1.29it/s]"
     ]
    },
    {
     "name": "stdout",
     "output_type": "stream",
     "text": [
      "                   all        119        180      0.885      0.644      0.798      0.448\n"
     ]
    },
    {
     "name": "stderr",
     "output_type": "stream",
     "text": [
      "\n"
     ]
    },
    {
     "name": "stdout",
     "output_type": "stream",
     "text": [
      "\n",
      "      Epoch    GPU_mem   box_loss   cls_loss   dfl_loss  Instances       Size\n"
     ]
    },
    {
     "name": "stderr",
     "output_type": "stream",
     "text": [
      "      2/230      2.41G      1.186      1.445      1.473          5        640: 100%|██████████| 27/27 [00:18<00:00,  1.48it/s]\n",
      "                 Class     Images  Instances      Box(P          R      mAP50  mAP50-95): 100%|██████████| 4/4 [00:02<00:00,  1.84it/s]"
     ]
    },
    {
     "name": "stdout",
     "output_type": "stream",
     "text": [
      "                   all        119        180      0.638      0.444      0.536      0.259\n"
     ]
    },
    {
     "name": "stderr",
     "output_type": "stream",
     "text": [
      "\n"
     ]
    },
    {
     "name": "stdout",
     "output_type": "stream",
     "text": [
      "\n",
      "      Epoch    GPU_mem   box_loss   cls_loss   dfl_loss  Instances       Size\n"
     ]
    },
    {
     "name": "stderr",
     "output_type": "stream",
     "text": [
      "      3/230      2.43G      1.153      1.341       1.45          4        640: 100%|██████████| 27/27 [00:10<00:00,  2.46it/s]\n",
      "                 Class     Images  Instances      Box(P          R      mAP50  mAP50-95): 100%|██████████| 4/4 [00:01<00:00,  2.24it/s]"
     ]
    },
    {
     "name": "stdout",
     "output_type": "stream",
     "text": [
      "                   all        119        180      0.335      0.372      0.242     0.0792\n"
     ]
    },
    {
     "name": "stderr",
     "output_type": "stream",
     "text": [
      "\n"
     ]
    },
    {
     "name": "stdout",
     "output_type": "stream",
     "text": [
      "\n",
      "      Epoch    GPU_mem   box_loss   cls_loss   dfl_loss  Instances       Size\n"
     ]
    },
    {
     "name": "stderr",
     "output_type": "stream",
     "text": [
      "      4/230       2.4G      1.186      1.262      1.428          7        640: 100%|██████████| 27/27 [00:10<00:00,  2.46it/s]\n",
      "                 Class     Images  Instances      Box(P          R      mAP50  mAP50-95): 100%|██████████| 4/4 [00:02<00:00,  1.80it/s]"
     ]
    },
    {
     "name": "stdout",
     "output_type": "stream",
     "text": [
      "                   all        119        180      0.274      0.417      0.274      0.102\n"
     ]
    },
    {
     "name": "stderr",
     "output_type": "stream",
     "text": [
      "\n"
     ]
    },
    {
     "name": "stdout",
     "output_type": "stream",
     "text": [
      "\n",
      "      Epoch    GPU_mem   box_loss   cls_loss   dfl_loss  Instances       Size\n"
     ]
    },
    {
     "name": "stderr",
     "output_type": "stream",
     "text": [
      "      5/230      2.43G       1.18      1.182        1.4         18        640: 100%|██████████| 27/27 [00:09<00:00,  2.84it/s]\n",
      "                 Class     Images  Instances      Box(P          R      mAP50  mAP50-95): 100%|██████████| 4/4 [00:01<00:00,  3.30it/s]"
     ]
    },
    {
     "name": "stdout",
     "output_type": "stream",
     "text": [
      "                   all        119        180      0.575      0.672      0.626      0.309\n"
     ]
    },
    {
     "name": "stderr",
     "output_type": "stream",
     "text": [
      "\n"
     ]
    },
    {
     "name": "stdout",
     "output_type": "stream",
     "text": [
      "\n",
      "      Epoch    GPU_mem   box_loss   cls_loss   dfl_loss  Instances       Size\n"
     ]
    },
    {
     "name": "stderr",
     "output_type": "stream",
     "text": [
      "      6/230       2.4G      1.167      1.126      1.451          5        640: 100%|██████████| 27/27 [00:08<00:00,  3.21it/s]\n",
      "                 Class     Images  Instances      Box(P          R      mAP50  mAP50-95): 100%|██████████| 4/4 [00:01<00:00,  3.33it/s]"
     ]
    },
    {
     "name": "stdout",
     "output_type": "stream",
     "text": [
      "                   all        119        180      0.523      0.689       0.61      0.298\n"
     ]
    },
    {
     "name": "stderr",
     "output_type": "stream",
     "text": [
      "\n"
     ]
    },
    {
     "name": "stdout",
     "output_type": "stream",
     "text": [
      "\n",
      "      Epoch    GPU_mem   box_loss   cls_loss   dfl_loss  Instances       Size\n"
     ]
    },
    {
     "name": "stderr",
     "output_type": "stream",
     "text": [
      "      7/230      2.42G      1.114     0.9934      1.387         14        640: 100%|██████████| 27/27 [00:08<00:00,  3.20it/s]\n",
      "                 Class     Images  Instances      Box(P          R      mAP50  mAP50-95): 100%|██████████| 4/4 [00:01<00:00,  3.37it/s]"
     ]
    },
    {
     "name": "stdout",
     "output_type": "stream",
     "text": [
      "                   all        119        180      0.647       0.61      0.665      0.386\n"
     ]
    },
    {
     "name": "stderr",
     "output_type": "stream",
     "text": [
      "\n"
     ]
    },
    {
     "name": "stdout",
     "output_type": "stream",
     "text": [
      "\n",
      "      Epoch    GPU_mem   box_loss   cls_loss   dfl_loss  Instances       Size\n"
     ]
    },
    {
     "name": "stderr",
     "output_type": "stream",
     "text": [
      "      8/230      2.39G      1.136      1.004       1.38          9        640: 100%|██████████| 27/27 [00:08<00:00,  3.22it/s]\n",
      "                 Class     Images  Instances      Box(P          R      mAP50  mAP50-95): 100%|██████████| 4/4 [00:01<00:00,  3.44it/s]"
     ]
    },
    {
     "name": "stdout",
     "output_type": "stream",
     "text": [
      "                   all        119        180      0.787      0.833      0.856      0.539\n"
     ]
    },
    {
     "name": "stderr",
     "output_type": "stream",
     "text": [
      "\n"
     ]
    },
    {
     "name": "stdout",
     "output_type": "stream",
     "text": [
      "\n",
      "      Epoch    GPU_mem   box_loss   cls_loss   dfl_loss  Instances       Size\n"
     ]
    },
    {
     "name": "stderr",
     "output_type": "stream",
     "text": [
      "      9/230       2.4G      1.063     0.9357      1.344          7        640: 100%|██████████| 27/27 [00:08<00:00,  3.25it/s]\n",
      "                 Class     Images  Instances      Box(P          R      mAP50  mAP50-95): 100%|██████████| 4/4 [00:01<00:00,  3.41it/s]"
     ]
    },
    {
     "name": "stdout",
     "output_type": "stream",
     "text": [
      "                   all        119        180      0.825      0.739      0.813      0.488\n"
     ]
    },
    {
     "name": "stderr",
     "output_type": "stream",
     "text": [
      "\n"
     ]
    },
    {
     "name": "stdout",
     "output_type": "stream",
     "text": [
      "\n",
      "      Epoch    GPU_mem   box_loss   cls_loss   dfl_loss  Instances       Size\n"
     ]
    },
    {
     "name": "stderr",
     "output_type": "stream",
     "text": [
      "     10/230      2.38G      1.079     0.9465      1.361          4        640: 100%|██████████| 27/27 [00:08<00:00,  3.22it/s]\n",
      "                 Class     Images  Instances      Box(P          R      mAP50  mAP50-95): 100%|██████████| 4/4 [00:01<00:00,  3.45it/s]"
     ]
    },
    {
     "name": "stdout",
     "output_type": "stream",
     "text": [
      "                   all        119        180       0.81      0.878      0.887      0.508\n"
     ]
    },
    {
     "name": "stderr",
     "output_type": "stream",
     "text": [
      "\n"
     ]
    },
    {
     "name": "stdout",
     "output_type": "stream",
     "text": [
      "\n",
      "      Epoch    GPU_mem   box_loss   cls_loss   dfl_loss  Instances       Size\n"
     ]
    },
    {
     "name": "stderr",
     "output_type": "stream",
     "text": [
      "     11/230      2.38G      1.065     0.8851      1.354          5        640: 100%|██████████| 27/27 [00:08<00:00,  3.19it/s]\n",
      "                 Class     Images  Instances      Box(P          R      mAP50  mAP50-95): 100%|██████████| 4/4 [00:01<00:00,  3.39it/s]"
     ]
    },
    {
     "name": "stdout",
     "output_type": "stream",
     "text": [
      "                   all        119        180      0.819      0.828      0.873      0.533\n"
     ]
    },
    {
     "name": "stderr",
     "output_type": "stream",
     "text": [
      "\n"
     ]
    },
    {
     "name": "stdout",
     "output_type": "stream",
     "text": [
      "\n",
      "      Epoch    GPU_mem   box_loss   cls_loss   dfl_loss  Instances       Size\n"
     ]
    },
    {
     "name": "stderr",
     "output_type": "stream",
     "text": [
      "     12/230      2.41G      1.066     0.8652      1.321          8        640: 100%|██████████| 27/27 [00:08<00:00,  3.20it/s]\n",
      "                 Class     Images  Instances      Box(P          R      mAP50  mAP50-95): 100%|██████████| 4/4 [00:01<00:00,  3.50it/s]"
     ]
    },
    {
     "name": "stdout",
     "output_type": "stream",
     "text": [
      "                   all        119        180      0.736      0.711      0.775      0.417\n"
     ]
    },
    {
     "name": "stderr",
     "output_type": "stream",
     "text": [
      "\n"
     ]
    },
    {
     "name": "stdout",
     "output_type": "stream",
     "text": [
      "\n",
      "      Epoch    GPU_mem   box_loss   cls_loss   dfl_loss  Instances       Size\n"
     ]
    },
    {
     "name": "stderr",
     "output_type": "stream",
     "text": [
      "     13/230      2.38G      1.081     0.8753      1.357          4        640: 100%|██████████| 27/27 [00:08<00:00,  3.24it/s]\n",
      "                 Class     Images  Instances      Box(P          R      mAP50  mAP50-95): 100%|██████████| 4/4 [00:01<00:00,  3.43it/s]"
     ]
    },
    {
     "name": "stdout",
     "output_type": "stream",
     "text": [
      "                   all        119        180       0.82      0.872      0.882       0.54\n"
     ]
    },
    {
     "name": "stderr",
     "output_type": "stream",
     "text": [
      "\n"
     ]
    },
    {
     "name": "stdout",
     "output_type": "stream",
     "text": [
      "\n",
      "      Epoch    GPU_mem   box_loss   cls_loss   dfl_loss  Instances       Size\n"
     ]
    },
    {
     "name": "stderr",
     "output_type": "stream",
     "text": [
      "     14/230       2.4G      1.049     0.8537      1.331          5        640: 100%|██████████| 27/27 [00:08<00:00,  3.21it/s]\n",
      "                 Class     Images  Instances      Box(P          R      mAP50  mAP50-95): 100%|██████████| 4/4 [00:01<00:00,  3.37it/s]"
     ]
    },
    {
     "name": "stdout",
     "output_type": "stream",
     "text": [
      "                   all        119        180      0.921      0.846      0.912      0.627\n"
     ]
    },
    {
     "name": "stderr",
     "output_type": "stream",
     "text": [
      "\n"
     ]
    },
    {
     "name": "stdout",
     "output_type": "stream",
     "text": [
      "\n",
      "      Epoch    GPU_mem   box_loss   cls_loss   dfl_loss  Instances       Size\n"
     ]
    },
    {
     "name": "stderr",
     "output_type": "stream",
     "text": [
      "     15/230      2.42G     0.9663      0.779      1.279          7        640: 100%|██████████| 27/27 [00:08<00:00,  3.20it/s]\n",
      "                 Class     Images  Instances      Box(P          R      mAP50  mAP50-95): 100%|██████████| 4/4 [00:01<00:00,  3.41it/s]"
     ]
    },
    {
     "name": "stdout",
     "output_type": "stream",
     "text": [
      "                   all        119        180      0.829      0.867      0.889      0.558\n"
     ]
    },
    {
     "name": "stderr",
     "output_type": "stream",
     "text": [
      "\n"
     ]
    },
    {
     "name": "stdout",
     "output_type": "stream",
     "text": [
      "\n",
      "      Epoch    GPU_mem   box_loss   cls_loss   dfl_loss  Instances       Size\n"
     ]
    },
    {
     "name": "stderr",
     "output_type": "stream",
     "text": [
      "     16/230       2.4G      1.019     0.8061      1.317          8        640: 100%|██████████| 27/27 [00:08<00:00,  3.22it/s]\n",
      "                 Class     Images  Instances      Box(P          R      mAP50  mAP50-95): 100%|██████████| 4/4 [00:01<00:00,  3.40it/s]"
     ]
    },
    {
     "name": "stdout",
     "output_type": "stream",
     "text": [
      "                   all        119        180      0.912      0.864      0.936       0.56\n"
     ]
    },
    {
     "name": "stderr",
     "output_type": "stream",
     "text": [
      "\n"
     ]
    },
    {
     "name": "stdout",
     "output_type": "stream",
     "text": [
      "\n",
      "      Epoch    GPU_mem   box_loss   cls_loss   dfl_loss  Instances       Size\n"
     ]
    },
    {
     "name": "stderr",
     "output_type": "stream",
     "text": [
      "     17/230      2.42G     0.9501     0.7455      1.267         12        640: 100%|██████████| 27/27 [00:08<00:00,  3.22it/s]\n",
      "                 Class     Images  Instances      Box(P          R      mAP50  mAP50-95): 100%|██████████| 4/4 [00:01<00:00,  3.44it/s]"
     ]
    },
    {
     "name": "stdout",
     "output_type": "stream",
     "text": [
      "                   all        119        180      0.869      0.845      0.907      0.622\n"
     ]
    },
    {
     "name": "stderr",
     "output_type": "stream",
     "text": [
      "\n"
     ]
    },
    {
     "name": "stdout",
     "output_type": "stream",
     "text": [
      "\n",
      "      Epoch    GPU_mem   box_loss   cls_loss   dfl_loss  Instances       Size\n"
     ]
    },
    {
     "name": "stderr",
     "output_type": "stream",
     "text": [
      "     18/230      2.42G     0.9623     0.7945      1.296          5        640: 100%|██████████| 27/27 [00:08<00:00,  3.21it/s]\n",
      "                 Class     Images  Instances      Box(P          R      mAP50  mAP50-95): 100%|██████████| 4/4 [00:01<00:00,  3.51it/s]"
     ]
    },
    {
     "name": "stdout",
     "output_type": "stream",
     "text": [
      "                   all        119        180      0.938      0.846      0.934      0.637\n"
     ]
    },
    {
     "name": "stderr",
     "output_type": "stream",
     "text": [
      "\n"
     ]
    },
    {
     "name": "stdout",
     "output_type": "stream",
     "text": [
      "\n",
      "      Epoch    GPU_mem   box_loss   cls_loss   dfl_loss  Instances       Size\n"
     ]
    },
    {
     "name": "stderr",
     "output_type": "stream",
     "text": [
      "     19/230      2.37G     0.9599     0.7467      1.259          6        640: 100%|██████████| 27/27 [00:08<00:00,  3.17it/s]\n",
      "                 Class     Images  Instances      Box(P          R      mAP50  mAP50-95): 100%|██████████| 4/4 [00:01<00:00,  3.15it/s]"
     ]
    },
    {
     "name": "stdout",
     "output_type": "stream",
     "text": [
      "                   all        119        180      0.868        0.8      0.885      0.505\n"
     ]
    },
    {
     "name": "stderr",
     "output_type": "stream",
     "text": [
      "\n"
     ]
    },
    {
     "name": "stdout",
     "output_type": "stream",
     "text": [
      "\n",
      "      Epoch    GPU_mem   box_loss   cls_loss   dfl_loss  Instances       Size\n"
     ]
    },
    {
     "name": "stderr",
     "output_type": "stream",
     "text": [
      "     20/230       2.4G      0.925     0.7003      1.259          8        640: 100%|██████████| 27/27 [00:08<00:00,  3.01it/s]\n",
      "                 Class     Images  Instances      Box(P          R      mAP50  mAP50-95): 100%|██████████| 4/4 [00:01<00:00,  3.22it/s]"
     ]
    },
    {
     "name": "stdout",
     "output_type": "stream",
     "text": [
      "                   all        119        180      0.903      0.883      0.942      0.631\n"
     ]
    },
    {
     "name": "stderr",
     "output_type": "stream",
     "text": [
      "\n"
     ]
    },
    {
     "name": "stdout",
     "output_type": "stream",
     "text": [
      "\n",
      "      Epoch    GPU_mem   box_loss   cls_loss   dfl_loss  Instances       Size\n"
     ]
    },
    {
     "name": "stderr",
     "output_type": "stream",
     "text": [
      "     21/230      2.38G     0.9783      0.731      1.274          4        640: 100%|██████████| 27/27 [00:08<00:00,  3.13it/s]\n",
      "                 Class     Images  Instances      Box(P          R      mAP50  mAP50-95): 100%|██████████| 4/4 [00:01<00:00,  3.47it/s]"
     ]
    },
    {
     "name": "stdout",
     "output_type": "stream",
     "text": [
      "                   all        119        180      0.956      0.851      0.947      0.659\n"
     ]
    },
    {
     "name": "stderr",
     "output_type": "stream",
     "text": [
      "\n"
     ]
    },
    {
     "name": "stdout",
     "output_type": "stream",
     "text": [
      "\n",
      "      Epoch    GPU_mem   box_loss   cls_loss   dfl_loss  Instances       Size\n"
     ]
    },
    {
     "name": "stderr",
     "output_type": "stream",
     "text": [
      "     22/230      2.41G     0.9487     0.7139      1.264         10        640: 100%|██████████| 27/27 [00:08<00:00,  3.22it/s]\n",
      "                 Class     Images  Instances      Box(P          R      mAP50  mAP50-95): 100%|██████████| 4/4 [00:01<00:00,  3.48it/s]"
     ]
    },
    {
     "name": "stdout",
     "output_type": "stream",
     "text": [
      "                   all        119        180      0.802      0.811      0.848      0.459\n"
     ]
    },
    {
     "name": "stderr",
     "output_type": "stream",
     "text": [
      "\n"
     ]
    },
    {
     "name": "stdout",
     "output_type": "stream",
     "text": [
      "\n",
      "      Epoch    GPU_mem   box_loss   cls_loss   dfl_loss  Instances       Size\n"
     ]
    },
    {
     "name": "stderr",
     "output_type": "stream",
     "text": [
      "     23/230      2.39G      0.976     0.7266      1.275         11        640: 100%|██████████| 27/27 [00:08<00:00,  3.21it/s]\n",
      "                 Class     Images  Instances      Box(P          R      mAP50  mAP50-95): 100%|██████████| 4/4 [00:01<00:00,  3.23it/s]"
     ]
    },
    {
     "name": "stdout",
     "output_type": "stream",
     "text": [
      "                   all        119        180      0.935       0.88      0.951      0.663\n"
     ]
    },
    {
     "name": "stderr",
     "output_type": "stream",
     "text": [
      "\n"
     ]
    },
    {
     "name": "stdout",
     "output_type": "stream",
     "text": [
      "\n",
      "      Epoch    GPU_mem   box_loss   cls_loss   dfl_loss  Instances       Size\n"
     ]
    },
    {
     "name": "stderr",
     "output_type": "stream",
     "text": [
      "     24/230       2.4G     0.9543     0.7747      1.262          3        640: 100%|██████████| 27/27 [00:08<00:00,  3.23it/s]\n",
      "                 Class     Images  Instances      Box(P          R      mAP50  mAP50-95): 100%|██████████| 4/4 [00:01<00:00,  3.50it/s]"
     ]
    },
    {
     "name": "stdout",
     "output_type": "stream",
     "text": [
      "                   all        119        180       0.86      0.928      0.919      0.573\n"
     ]
    },
    {
     "name": "stderr",
     "output_type": "stream",
     "text": [
      "\n"
     ]
    },
    {
     "name": "stdout",
     "output_type": "stream",
     "text": [
      "\n",
      "      Epoch    GPU_mem   box_loss   cls_loss   dfl_loss  Instances       Size\n"
     ]
    },
    {
     "name": "stderr",
     "output_type": "stream",
     "text": [
      "     25/230      2.38G     0.9603     0.7132      1.277          4        640: 100%|██████████| 27/27 [00:08<00:00,  3.23it/s]\n",
      "                 Class     Images  Instances      Box(P          R      mAP50  mAP50-95): 100%|██████████| 4/4 [00:01<00:00,  3.52it/s]"
     ]
    },
    {
     "name": "stdout",
     "output_type": "stream",
     "text": [
      "                   all        119        180      0.852      0.894      0.925      0.627\n"
     ]
    },
    {
     "name": "stderr",
     "output_type": "stream",
     "text": [
      "\n"
     ]
    },
    {
     "name": "stdout",
     "output_type": "stream",
     "text": [
      "\n",
      "      Epoch    GPU_mem   box_loss   cls_loss   dfl_loss  Instances       Size\n"
     ]
    },
    {
     "name": "stderr",
     "output_type": "stream",
     "text": [
      "     26/230      2.42G     0.9589     0.7262      1.276          8        640: 100%|██████████| 27/27 [00:08<00:00,  3.22it/s]\n",
      "                 Class     Images  Instances      Box(P          R      mAP50  mAP50-95): 100%|██████████| 4/4 [00:01<00:00,  3.46it/s]"
     ]
    },
    {
     "name": "stdout",
     "output_type": "stream",
     "text": [
      "                   all        119        180      0.862      0.905      0.927      0.634\n"
     ]
    },
    {
     "name": "stderr",
     "output_type": "stream",
     "text": [
      "\n"
     ]
    },
    {
     "name": "stdout",
     "output_type": "stream",
     "text": [
      "\n",
      "      Epoch    GPU_mem   box_loss   cls_loss   dfl_loss  Instances       Size\n"
     ]
    },
    {
     "name": "stderr",
     "output_type": "stream",
     "text": [
      "     27/230      2.42G     0.9131     0.6757      1.232          8        640: 100%|██████████| 27/27 [00:08<00:00,  3.20it/s]\n",
      "                 Class     Images  Instances      Box(P          R      mAP50  mAP50-95): 100%|██████████| 4/4 [00:01<00:00,  3.47it/s]"
     ]
    },
    {
     "name": "stdout",
     "output_type": "stream",
     "text": [
      "                   all        119        180      0.941      0.892      0.939      0.649\n"
     ]
    },
    {
     "name": "stderr",
     "output_type": "stream",
     "text": [
      "\n"
     ]
    },
    {
     "name": "stdout",
     "output_type": "stream",
     "text": [
      "\n",
      "      Epoch    GPU_mem   box_loss   cls_loss   dfl_loss  Instances       Size\n"
     ]
    },
    {
     "name": "stderr",
     "output_type": "stream",
     "text": [
      "     28/230      2.42G     0.8898     0.6653      1.221          7        640: 100%|██████████| 27/27 [00:08<00:00,  3.23it/s]\n",
      "                 Class     Images  Instances      Box(P          R      mAP50  mAP50-95): 100%|██████████| 4/4 [00:01<00:00,  3.29it/s]"
     ]
    },
    {
     "name": "stdout",
     "output_type": "stream",
     "text": [
      "                   all        119        180      0.886       0.95      0.955      0.643\n"
     ]
    },
    {
     "name": "stderr",
     "output_type": "stream",
     "text": [
      "\n"
     ]
    },
    {
     "name": "stdout",
     "output_type": "stream",
     "text": [
      "\n",
      "      Epoch    GPU_mem   box_loss   cls_loss   dfl_loss  Instances       Size\n"
     ]
    },
    {
     "name": "stderr",
     "output_type": "stream",
     "text": [
      "     29/230      2.38G     0.9307     0.6817      1.241          6        640: 100%|██████████| 27/27 [00:08<00:00,  3.23it/s]\n",
      "                 Class     Images  Instances      Box(P          R      mAP50  mAP50-95): 100%|██████████| 4/4 [00:01<00:00,  3.39it/s]"
     ]
    },
    {
     "name": "stdout",
     "output_type": "stream",
     "text": [
      "                   all        119        180      0.932      0.939      0.957      0.656\n"
     ]
    },
    {
     "name": "stderr",
     "output_type": "stream",
     "text": [
      "\n"
     ]
    },
    {
     "name": "stdout",
     "output_type": "stream",
     "text": [
      "\n",
      "      Epoch    GPU_mem   box_loss   cls_loss   dfl_loss  Instances       Size\n"
     ]
    },
    {
     "name": "stderr",
     "output_type": "stream",
     "text": [
      "     30/230      2.38G     0.9003     0.6524      1.233          6        640: 100%|██████████| 27/27 [00:08<00:00,  3.22it/s]\n",
      "                 Class     Images  Instances      Box(P          R      mAP50  mAP50-95): 100%|██████████| 4/4 [00:01<00:00,  3.42it/s]"
     ]
    },
    {
     "name": "stdout",
     "output_type": "stream",
     "text": [
      "                   all        119        180      0.899      0.922      0.954      0.662\n"
     ]
    },
    {
     "name": "stderr",
     "output_type": "stream",
     "text": [
      "\n"
     ]
    },
    {
     "name": "stdout",
     "output_type": "stream",
     "text": [
      "\n",
      "      Epoch    GPU_mem   box_loss   cls_loss   dfl_loss  Instances       Size\n"
     ]
    },
    {
     "name": "stderr",
     "output_type": "stream",
     "text": [
      "     31/230      2.38G     0.8957     0.6444       1.24          9        640: 100%|██████████| 27/27 [00:08<00:00,  3.23it/s]\n",
      "                 Class     Images  Instances      Box(P          R      mAP50  mAP50-95): 100%|██████████| 4/4 [00:01<00:00,  3.41it/s]"
     ]
    },
    {
     "name": "stdout",
     "output_type": "stream",
     "text": [
      "                   all        119        180      0.951      0.965      0.979      0.681\n"
     ]
    },
    {
     "name": "stderr",
     "output_type": "stream",
     "text": [
      "\n"
     ]
    },
    {
     "name": "stdout",
     "output_type": "stream",
     "text": [
      "\n",
      "      Epoch    GPU_mem   box_loss   cls_loss   dfl_loss  Instances       Size\n"
     ]
    },
    {
     "name": "stderr",
     "output_type": "stream",
     "text": [
      "     32/230      2.38G     0.8867     0.6178      1.201          5        640: 100%|██████████| 27/27 [00:08<00:00,  3.21it/s]\n",
      "                 Class     Images  Instances      Box(P          R      mAP50  mAP50-95): 100%|██████████| 4/4 [00:01<00:00,  3.47it/s]"
     ]
    },
    {
     "name": "stdout",
     "output_type": "stream",
     "text": [
      "                   all        119        180      0.951      0.917      0.966      0.672\n"
     ]
    },
    {
     "name": "stderr",
     "output_type": "stream",
     "text": [
      "\n"
     ]
    },
    {
     "name": "stdout",
     "output_type": "stream",
     "text": [
      "\n",
      "      Epoch    GPU_mem   box_loss   cls_loss   dfl_loss  Instances       Size\n"
     ]
    },
    {
     "name": "stderr",
     "output_type": "stream",
     "text": [
      "     33/230       2.4G     0.8695     0.6107      1.207          5        640: 100%|██████████| 27/27 [00:08<00:00,  3.21it/s]\n",
      "                 Class     Images  Instances      Box(P          R      mAP50  mAP50-95): 100%|██████████| 4/4 [00:01<00:00,  3.47it/s]"
     ]
    },
    {
     "name": "stdout",
     "output_type": "stream",
     "text": [
      "                   all        119        180      0.938      0.926      0.969      0.691\n"
     ]
    },
    {
     "name": "stderr",
     "output_type": "stream",
     "text": [
      "\n"
     ]
    },
    {
     "name": "stdout",
     "output_type": "stream",
     "text": [
      "\n",
      "      Epoch    GPU_mem   box_loss   cls_loss   dfl_loss  Instances       Size\n"
     ]
    },
    {
     "name": "stderr",
     "output_type": "stream",
     "text": [
      "     34/230       2.4G      0.877     0.6276      1.209          9        640: 100%|██████████| 27/27 [00:08<00:00,  3.23it/s]\n",
      "                 Class     Images  Instances      Box(P          R      mAP50  mAP50-95): 100%|██████████| 4/4 [00:01<00:00,  3.39it/s]"
     ]
    },
    {
     "name": "stdout",
     "output_type": "stream",
     "text": [
      "                   all        119        180      0.954      0.931      0.967      0.696\n"
     ]
    },
    {
     "name": "stderr",
     "output_type": "stream",
     "text": [
      "\n"
     ]
    },
    {
     "name": "stdout",
     "output_type": "stream",
     "text": [
      "\n",
      "      Epoch    GPU_mem   box_loss   cls_loss   dfl_loss  Instances       Size\n"
     ]
    },
    {
     "name": "stderr",
     "output_type": "stream",
     "text": [
      "     35/230      2.39G     0.8558     0.6455      1.238          3        640: 100%|██████████| 27/27 [00:08<00:00,  3.22it/s]\n",
      "                 Class     Images  Instances      Box(P          R      mAP50  mAP50-95): 100%|██████████| 4/4 [00:01<00:00,  3.46it/s]"
     ]
    },
    {
     "name": "stdout",
     "output_type": "stream",
     "text": [
      "                   all        119        180      0.965       0.95      0.965      0.676\n"
     ]
    },
    {
     "name": "stderr",
     "output_type": "stream",
     "text": [
      "\n"
     ]
    },
    {
     "name": "stdout",
     "output_type": "stream",
     "text": [
      "\n",
      "      Epoch    GPU_mem   box_loss   cls_loss   dfl_loss  Instances       Size\n"
     ]
    },
    {
     "name": "stderr",
     "output_type": "stream",
     "text": [
      "     36/230      2.43G     0.9175     0.6349      1.225          7        640: 100%|██████████| 27/27 [00:08<00:00,  3.24it/s]\n",
      "                 Class     Images  Instances      Box(P          R      mAP50  mAP50-95): 100%|██████████| 4/4 [00:01<00:00,  3.41it/s]"
     ]
    },
    {
     "name": "stdout",
     "output_type": "stream",
     "text": [
      "                   all        119        180      0.943      0.917      0.949       0.68\n"
     ]
    },
    {
     "name": "stderr",
     "output_type": "stream",
     "text": [
      "\n"
     ]
    },
    {
     "name": "stdout",
     "output_type": "stream",
     "text": [
      "\n",
      "      Epoch    GPU_mem   box_loss   cls_loss   dfl_loss  Instances       Size\n"
     ]
    },
    {
     "name": "stderr",
     "output_type": "stream",
     "text": [
      "     37/230      2.41G     0.9325      0.664      1.248         11        640: 100%|██████████| 27/27 [00:08<00:00,  3.23it/s]\n",
      "                 Class     Images  Instances      Box(P          R      mAP50  mAP50-95): 100%|██████████| 4/4 [00:01<00:00,  3.53it/s]"
     ]
    },
    {
     "name": "stdout",
     "output_type": "stream",
     "text": [
      "                   all        119        180      0.928      0.911      0.942      0.627\n"
     ]
    },
    {
     "name": "stderr",
     "output_type": "stream",
     "text": [
      "\n"
     ]
    },
    {
     "name": "stdout",
     "output_type": "stream",
     "text": [
      "\n",
      "      Epoch    GPU_mem   box_loss   cls_loss   dfl_loss  Instances       Size\n"
     ]
    },
    {
     "name": "stderr",
     "output_type": "stream",
     "text": [
      "     38/230       2.4G     0.8669     0.6134      1.216          4        640: 100%|██████████| 27/27 [00:08<00:00,  3.23it/s]\n",
      "                 Class     Images  Instances      Box(P          R      mAP50  mAP50-95): 100%|██████████| 4/4 [00:01<00:00,  3.46it/s]"
     ]
    },
    {
     "name": "stdout",
     "output_type": "stream",
     "text": [
      "                   all        119        180      0.946      0.894      0.965      0.669\n"
     ]
    },
    {
     "name": "stderr",
     "output_type": "stream",
     "text": [
      "\n"
     ]
    },
    {
     "name": "stdout",
     "output_type": "stream",
     "text": [
      "\n",
      "      Epoch    GPU_mem   box_loss   cls_loss   dfl_loss  Instances       Size\n"
     ]
    },
    {
     "name": "stderr",
     "output_type": "stream",
     "text": [
      "     39/230      2.38G      0.892     0.6144      1.221         10        640: 100%|██████████| 27/27 [00:08<00:00,  3.24it/s]\n",
      "                 Class     Images  Instances      Box(P          R      mAP50  mAP50-95): 100%|██████████| 4/4 [00:01<00:00,  3.53it/s]"
     ]
    },
    {
     "name": "stdout",
     "output_type": "stream",
     "text": [
      "                   all        119        180      0.954      0.929      0.971      0.693\n"
     ]
    },
    {
     "name": "stderr",
     "output_type": "stream",
     "text": [
      "\n"
     ]
    },
    {
     "name": "stdout",
     "output_type": "stream",
     "text": [
      "\n",
      "      Epoch    GPU_mem   box_loss   cls_loss   dfl_loss  Instances       Size\n"
     ]
    },
    {
     "name": "stderr",
     "output_type": "stream",
     "text": [
      "     40/230      2.43G     0.8773     0.6179      1.218          8        640: 100%|██████████| 27/27 [00:08<00:00,  3.19it/s]\n",
      "                 Class     Images  Instances      Box(P          R      mAP50  mAP50-95): 100%|██████████| 4/4 [00:01<00:00,  3.43it/s]"
     ]
    },
    {
     "name": "stdout",
     "output_type": "stream",
     "text": [
      "                   all        119        180      0.906      0.917      0.947      0.665\n"
     ]
    },
    {
     "name": "stderr",
     "output_type": "stream",
     "text": [
      "\n"
     ]
    },
    {
     "name": "stdout",
     "output_type": "stream",
     "text": [
      "\n",
      "      Epoch    GPU_mem   box_loss   cls_loss   dfl_loss  Instances       Size\n"
     ]
    },
    {
     "name": "stderr",
     "output_type": "stream",
     "text": [
      "     41/230       2.4G     0.8364     0.6052      1.191          6        640: 100%|██████████| 27/27 [00:08<00:00,  3.23it/s]\n",
      "                 Class     Images  Instances      Box(P          R      mAP50  mAP50-95): 100%|██████████| 4/4 [00:01<00:00,  3.42it/s]"
     ]
    },
    {
     "name": "stdout",
     "output_type": "stream",
     "text": [
      "                   all        119        180      0.977      0.933      0.969      0.701\n"
     ]
    },
    {
     "name": "stderr",
     "output_type": "stream",
     "text": [
      "\n"
     ]
    },
    {
     "name": "stdout",
     "output_type": "stream",
     "text": [
      "\n",
      "      Epoch    GPU_mem   box_loss   cls_loss   dfl_loss  Instances       Size\n"
     ]
    },
    {
     "name": "stderr",
     "output_type": "stream",
     "text": [
      "     42/230      2.38G     0.8605     0.5914      1.188          8        640: 100%|██████████| 27/27 [00:08<00:00,  3.22it/s]\n",
      "                 Class     Images  Instances      Box(P          R      mAP50  mAP50-95): 100%|██████████| 4/4 [00:01<00:00,  3.35it/s]"
     ]
    },
    {
     "name": "stdout",
     "output_type": "stream",
     "text": [
      "                   all        119        180      0.932      0.911      0.962       0.67\n"
     ]
    },
    {
     "name": "stderr",
     "output_type": "stream",
     "text": [
      "\n"
     ]
    },
    {
     "name": "stdout",
     "output_type": "stream",
     "text": [
      "\n",
      "      Epoch    GPU_mem   box_loss   cls_loss   dfl_loss  Instances       Size\n"
     ]
    },
    {
     "name": "stderr",
     "output_type": "stream",
     "text": [
      "     43/230      2.39G     0.8512     0.6093      1.191          7        640: 100%|██████████| 27/27 [00:08<00:00,  3.20it/s]\n",
      "                 Class     Images  Instances      Box(P          R      mAP50  mAP50-95): 100%|██████████| 4/4 [00:01<00:00,  3.45it/s]"
     ]
    },
    {
     "name": "stdout",
     "output_type": "stream",
     "text": [
      "                   all        119        180      0.918       0.95      0.965      0.723\n"
     ]
    },
    {
     "name": "stderr",
     "output_type": "stream",
     "text": [
      "\n"
     ]
    },
    {
     "name": "stdout",
     "output_type": "stream",
     "text": [
      "\n",
      "      Epoch    GPU_mem   box_loss   cls_loss   dfl_loss  Instances       Size\n"
     ]
    },
    {
     "name": "stderr",
     "output_type": "stream",
     "text": [
      "     44/230      2.38G     0.8627      0.602      1.185          5        640: 100%|██████████| 27/27 [00:08<00:00,  3.25it/s]\n",
      "                 Class     Images  Instances      Box(P          R      mAP50  mAP50-95): 100%|██████████| 4/4 [00:01<00:00,  3.49it/s]"
     ]
    },
    {
     "name": "stdout",
     "output_type": "stream",
     "text": [
      "                   all        119        180      0.944      0.937      0.968      0.698\n"
     ]
    },
    {
     "name": "stderr",
     "output_type": "stream",
     "text": [
      "\n"
     ]
    },
    {
     "name": "stdout",
     "output_type": "stream",
     "text": [
      "\n",
      "      Epoch    GPU_mem   box_loss   cls_loss   dfl_loss  Instances       Size\n"
     ]
    },
    {
     "name": "stderr",
     "output_type": "stream",
     "text": [
      "     45/230      2.39G     0.8191     0.5729      1.166         10        640: 100%|██████████| 27/27 [00:08<00:00,  3.22it/s]\n",
      "                 Class     Images  Instances      Box(P          R      mAP50  mAP50-95): 100%|██████████| 4/4 [00:01<00:00,  3.48it/s]"
     ]
    },
    {
     "name": "stdout",
     "output_type": "stream",
     "text": [
      "                   all        119        180      0.944      0.978       0.98      0.722\n"
     ]
    },
    {
     "name": "stderr",
     "output_type": "stream",
     "text": [
      "\n"
     ]
    },
    {
     "name": "stdout",
     "output_type": "stream",
     "text": [
      "\n",
      "      Epoch    GPU_mem   box_loss   cls_loss   dfl_loss  Instances       Size\n"
     ]
    },
    {
     "name": "stderr",
     "output_type": "stream",
     "text": [
      "     46/230      2.43G     0.8421     0.5791      1.183         12        640: 100%|██████████| 27/27 [00:08<00:00,  3.23it/s]\n",
      "                 Class     Images  Instances      Box(P          R      mAP50  mAP50-95): 100%|██████████| 4/4 [00:01<00:00,  3.45it/s]"
     ]
    },
    {
     "name": "stdout",
     "output_type": "stream",
     "text": [
      "                   all        119        180      0.957      0.906       0.97      0.724\n"
     ]
    },
    {
     "name": "stderr",
     "output_type": "stream",
     "text": [
      "\n"
     ]
    },
    {
     "name": "stdout",
     "output_type": "stream",
     "text": [
      "\n",
      "      Epoch    GPU_mem   box_loss   cls_loss   dfl_loss  Instances       Size\n"
     ]
    },
    {
     "name": "stderr",
     "output_type": "stream",
     "text": [
      "     47/230      2.39G     0.8174     0.5723      1.171         12        640: 100%|██████████| 27/27 [00:08<00:00,  3.20it/s]\n",
      "                 Class     Images  Instances      Box(P          R      mAP50  mAP50-95): 100%|██████████| 4/4 [00:01<00:00,  3.42it/s]"
     ]
    },
    {
     "name": "stdout",
     "output_type": "stream",
     "text": [
      "                   all        119        180       0.97       0.95      0.972      0.717\n"
     ]
    },
    {
     "name": "stderr",
     "output_type": "stream",
     "text": [
      "\n"
     ]
    },
    {
     "name": "stdout",
     "output_type": "stream",
     "text": [
      "\n",
      "      Epoch    GPU_mem   box_loss   cls_loss   dfl_loss  Instances       Size\n"
     ]
    },
    {
     "name": "stderr",
     "output_type": "stream",
     "text": [
      "     48/230      2.39G     0.8325      0.551      1.175          8        640: 100%|██████████| 27/27 [00:08<00:00,  3.20it/s]\n",
      "                 Class     Images  Instances      Box(P          R      mAP50  mAP50-95): 100%|██████████| 4/4 [00:01<00:00,  3.37it/s]"
     ]
    },
    {
     "name": "stdout",
     "output_type": "stream",
     "text": [
      "                   all        119        180      0.952      0.939      0.968      0.672\n"
     ]
    },
    {
     "name": "stderr",
     "output_type": "stream",
     "text": [
      "\n"
     ]
    },
    {
     "name": "stdout",
     "output_type": "stream",
     "text": [
      "\n",
      "      Epoch    GPU_mem   box_loss   cls_loss   dfl_loss  Instances       Size\n"
     ]
    },
    {
     "name": "stderr",
     "output_type": "stream",
     "text": [
      "     49/230       2.4G     0.7823     0.5449      1.145          9        640: 100%|██████████| 27/27 [00:08<00:00,  3.19it/s]\n",
      "                 Class     Images  Instances      Box(P          R      mAP50  mAP50-95): 100%|██████████| 4/4 [00:01<00:00,  3.49it/s]"
     ]
    },
    {
     "name": "stdout",
     "output_type": "stream",
     "text": [
      "                   all        119        180      0.971      0.932      0.972      0.708\n"
     ]
    },
    {
     "name": "stderr",
     "output_type": "stream",
     "text": [
      "\n"
     ]
    },
    {
     "name": "stdout",
     "output_type": "stream",
     "text": [
      "\n",
      "      Epoch    GPU_mem   box_loss   cls_loss   dfl_loss  Instances       Size\n"
     ]
    },
    {
     "name": "stderr",
     "output_type": "stream",
     "text": [
      "     50/230      2.38G     0.7901     0.5598      1.171          4        640: 100%|██████████| 27/27 [00:08<00:00,  3.20it/s]\n",
      "                 Class     Images  Instances      Box(P          R      mAP50  mAP50-95): 100%|██████████| 4/4 [00:01<00:00,  3.35it/s]"
     ]
    },
    {
     "name": "stdout",
     "output_type": "stream",
     "text": [
      "                   all        119        180      0.958      0.944      0.974      0.713\n"
     ]
    },
    {
     "name": "stderr",
     "output_type": "stream",
     "text": [
      "\n"
     ]
    },
    {
     "name": "stdout",
     "output_type": "stream",
     "text": [
      "\n",
      "      Epoch    GPU_mem   box_loss   cls_loss   dfl_loss  Instances       Size\n"
     ]
    },
    {
     "name": "stderr",
     "output_type": "stream",
     "text": [
      "     51/230      2.39G     0.7728     0.5302      1.163          8        640: 100%|██████████| 27/27 [00:08<00:00,  3.22it/s]\n",
      "                 Class     Images  Instances      Box(P          R      mAP50  mAP50-95): 100%|██████████| 4/4 [00:01<00:00,  3.63it/s]"
     ]
    },
    {
     "name": "stdout",
     "output_type": "stream",
     "text": [
      "                   all        119        180      0.961      0.972      0.978      0.706\n"
     ]
    },
    {
     "name": "stderr",
     "output_type": "stream",
     "text": [
      "\n"
     ]
    },
    {
     "name": "stdout",
     "output_type": "stream",
     "text": [
      "\n",
      "      Epoch    GPU_mem   box_loss   cls_loss   dfl_loss  Instances       Size\n"
     ]
    },
    {
     "name": "stderr",
     "output_type": "stream",
     "text": [
      "     52/230      2.43G     0.7718     0.5405      1.141          9        640: 100%|██████████| 27/27 [07:22<00:00, 16.39s/it] \n",
      "                 Class     Images  Instances      Box(P          R      mAP50  mAP50-95): 100%|██████████| 4/4 [00:01<00:00,  2.70it/s]"
     ]
    },
    {
     "name": "stdout",
     "output_type": "stream",
     "text": [
      "                   all        119        180       0.95      0.967      0.986      0.709\n"
     ]
    },
    {
     "name": "stderr",
     "output_type": "stream",
     "text": [
      "\n"
     ]
    },
    {
     "name": "stdout",
     "output_type": "stream",
     "text": [
      "\n",
      "      Epoch    GPU_mem   box_loss   cls_loss   dfl_loss  Instances       Size\n"
     ]
    },
    {
     "name": "stderr",
     "output_type": "stream",
     "text": [
      "     53/230      2.43G     0.7541      0.541      1.148          8        640: 100%|██████████| 27/27 [00:08<00:00,  3.09it/s]\n",
      "                 Class     Images  Instances      Box(P          R      mAP50  mAP50-95): 100%|██████████| 4/4 [00:01<00:00,  2.97it/s]"
     ]
    },
    {
     "name": "stdout",
     "output_type": "stream",
     "text": [
      "                   all        119        180      0.949      0.983       0.99      0.724\n"
     ]
    },
    {
     "name": "stderr",
     "output_type": "stream",
     "text": [
      "\n"
     ]
    },
    {
     "name": "stdout",
     "output_type": "stream",
     "text": [
      "\n",
      "      Epoch    GPU_mem   box_loss   cls_loss   dfl_loss  Instances       Size\n"
     ]
    },
    {
     "name": "stderr",
     "output_type": "stream",
     "text": [
      "     54/230      2.38G      0.784     0.5485      1.149          5        640: 100%|██████████| 27/27 [00:08<00:00,  3.06it/s]\n",
      "                 Class     Images  Instances      Box(P          R      mAP50  mAP50-95): 100%|██████████| 4/4 [00:01<00:00,  3.30it/s]"
     ]
    },
    {
     "name": "stdout",
     "output_type": "stream",
     "text": [
      "                   all        119        180      0.975      0.972      0.985      0.704\n"
     ]
    },
    {
     "name": "stderr",
     "output_type": "stream",
     "text": [
      "\n"
     ]
    },
    {
     "name": "stdout",
     "output_type": "stream",
     "text": [
      "\n",
      "      Epoch    GPU_mem   box_loss   cls_loss   dfl_loss  Instances       Size\n"
     ]
    },
    {
     "name": "stderr",
     "output_type": "stream",
     "text": [
      "     55/230      2.37G     0.7931     0.5493      1.189          3        640: 100%|██████████| 27/27 [00:08<00:00,  3.13it/s]\n",
      "                 Class     Images  Instances      Box(P          R      mAP50  mAP50-95): 100%|██████████| 4/4 [00:01<00:00,  3.41it/s]"
     ]
    },
    {
     "name": "stdout",
     "output_type": "stream",
     "text": [
      "                   all        119        180      0.975      0.967      0.981      0.711\n"
     ]
    },
    {
     "name": "stderr",
     "output_type": "stream",
     "text": [
      "\n"
     ]
    },
    {
     "name": "stdout",
     "output_type": "stream",
     "text": [
      "\n",
      "      Epoch    GPU_mem   box_loss   cls_loss   dfl_loss  Instances       Size\n"
     ]
    },
    {
     "name": "stderr",
     "output_type": "stream",
     "text": [
      "     56/230      2.41G     0.7742     0.5254      1.141         10        640: 100%|██████████| 27/27 [00:08<00:00,  3.19it/s]\n",
      "                 Class     Images  Instances      Box(P          R      mAP50  mAP50-95): 100%|██████████| 4/4 [00:01<00:00,  3.60it/s]"
     ]
    },
    {
     "name": "stdout",
     "output_type": "stream",
     "text": [
      "                   all        119        180      0.961      0.971      0.984      0.709\n"
     ]
    },
    {
     "name": "stderr",
     "output_type": "stream",
     "text": [
      "\n"
     ]
    },
    {
     "name": "stdout",
     "output_type": "stream",
     "text": [
      "\n",
      "      Epoch    GPU_mem   box_loss   cls_loss   dfl_loss  Instances       Size\n"
     ]
    },
    {
     "name": "stderr",
     "output_type": "stream",
     "text": [
      "     57/230      2.38G     0.7635     0.5121      1.149          9        640: 100%|██████████| 27/27 [00:08<00:00,  3.20it/s]\n",
      "                 Class     Images  Instances      Box(P          R      mAP50  mAP50-95): 100%|██████████| 4/4 [00:01<00:00,  3.46it/s]"
     ]
    },
    {
     "name": "stdout",
     "output_type": "stream",
     "text": [
      "                   all        119        180       0.95      0.983      0.985       0.73\n"
     ]
    },
    {
     "name": "stderr",
     "output_type": "stream",
     "text": [
      "\n"
     ]
    },
    {
     "name": "stdout",
     "output_type": "stream",
     "text": [
      "\n",
      "      Epoch    GPU_mem   box_loss   cls_loss   dfl_loss  Instances       Size\n"
     ]
    },
    {
     "name": "stderr",
     "output_type": "stream",
     "text": [
      "     58/230      2.42G     0.7812     0.5235      1.158          8        640: 100%|██████████| 27/27 [00:08<00:00,  3.18it/s]\n",
      "                 Class     Images  Instances      Box(P          R      mAP50  mAP50-95): 100%|██████████| 4/4 [00:01<00:00,  3.50it/s]"
     ]
    },
    {
     "name": "stdout",
     "output_type": "stream",
     "text": [
      "                   all        119        180      0.966      0.951      0.982      0.708\n"
     ]
    },
    {
     "name": "stderr",
     "output_type": "stream",
     "text": [
      "\n"
     ]
    },
    {
     "name": "stdout",
     "output_type": "stream",
     "text": [
      "\n",
      "      Epoch    GPU_mem   box_loss   cls_loss   dfl_loss  Instances       Size\n"
     ]
    },
    {
     "name": "stderr",
     "output_type": "stream",
     "text": [
      "     59/230      2.37G     0.8993     0.7762      1.311          2        640: 100%|██████████| 27/27 [00:08<00:00,  3.19it/s]\n",
      "                 Class     Images  Instances      Box(P          R      mAP50  mAP50-95): 100%|██████████| 4/4 [00:01<00:00,  3.41it/s]"
     ]
    },
    {
     "name": "stdout",
     "output_type": "stream",
     "text": [
      "                   all        119        180      0.951      0.968      0.979      0.708\n"
     ]
    },
    {
     "name": "stderr",
     "output_type": "stream",
     "text": [
      "\n"
     ]
    },
    {
     "name": "stdout",
     "output_type": "stream",
     "text": [
      "\n",
      "      Epoch    GPU_mem   box_loss   cls_loss   dfl_loss  Instances       Size\n"
     ]
    },
    {
     "name": "stderr",
     "output_type": "stream",
     "text": [
      "     60/230      2.43G      0.807     0.5523      1.179          9        640: 100%|██████████| 27/27 [00:08<00:00,  3.19it/s]\n",
      "                 Class     Images  Instances      Box(P          R      mAP50  mAP50-95): 100%|██████████| 4/4 [00:01<00:00,  3.12it/s]"
     ]
    },
    {
     "name": "stdout",
     "output_type": "stream",
     "text": [
      "                   all        119        180      0.946      0.966      0.978      0.721\n"
     ]
    },
    {
     "name": "stderr",
     "output_type": "stream",
     "text": [
      "\n"
     ]
    },
    {
     "name": "stdout",
     "output_type": "stream",
     "text": [
      "\n",
      "      Epoch    GPU_mem   box_loss   cls_loss   dfl_loss  Instances       Size\n"
     ]
    },
    {
     "name": "stderr",
     "output_type": "stream",
     "text": [
      "     61/230      2.43G     0.7722     0.5339       1.15          5        640: 100%|██████████| 27/27 [00:08<00:00,  3.10it/s]\n",
      "                 Class     Images  Instances      Box(P          R      mAP50  mAP50-95): 100%|██████████| 4/4 [00:01<00:00,  3.37it/s]"
     ]
    },
    {
     "name": "stdout",
     "output_type": "stream",
     "text": [
      "                   all        119        180      0.952      0.939      0.986      0.726\n"
     ]
    },
    {
     "name": "stderr",
     "output_type": "stream",
     "text": [
      "\n"
     ]
    },
    {
     "name": "stdout",
     "output_type": "stream",
     "text": [
      "\n",
      "      Epoch    GPU_mem   box_loss   cls_loss   dfl_loss  Instances       Size\n"
     ]
    },
    {
     "name": "stderr",
     "output_type": "stream",
     "text": [
      "     62/230      2.38G     0.7596     0.5252      1.156          4        640: 100%|██████████| 27/27 [00:08<00:00,  3.22it/s]\n",
      "                 Class     Images  Instances      Box(P          R      mAP50  mAP50-95): 100%|██████████| 4/4 [00:01<00:00,  3.48it/s]"
     ]
    },
    {
     "name": "stdout",
     "output_type": "stream",
     "text": [
      "                   all        119        180      0.977      0.958      0.981      0.705\n"
     ]
    },
    {
     "name": "stderr",
     "output_type": "stream",
     "text": [
      "\n"
     ]
    },
    {
     "name": "stdout",
     "output_type": "stream",
     "text": [
      "\n",
      "      Epoch    GPU_mem   box_loss   cls_loss   dfl_loss  Instances       Size\n"
     ]
    },
    {
     "name": "stderr",
     "output_type": "stream",
     "text": [
      "     63/230      2.39G      0.773     0.5258      1.133          5        640: 100%|██████████| 27/27 [00:08<00:00,  3.23it/s]\n",
      "                 Class     Images  Instances      Box(P          R      mAP50  mAP50-95): 100%|██████████| 4/4 [00:01<00:00,  3.51it/s]"
     ]
    },
    {
     "name": "stdout",
     "output_type": "stream",
     "text": [
      "                   all        119        180      0.956      0.956      0.978      0.721\n"
     ]
    },
    {
     "name": "stderr",
     "output_type": "stream",
     "text": [
      "\n"
     ]
    },
    {
     "name": "stdout",
     "output_type": "stream",
     "text": [
      "\n",
      "      Epoch    GPU_mem   box_loss   cls_loss   dfl_loss  Instances       Size\n"
     ]
    },
    {
     "name": "stderr",
     "output_type": "stream",
     "text": [
      "     64/230       2.4G     0.7732     0.5238      1.146         10        640: 100%|██████████| 27/27 [00:08<00:00,  3.24it/s]\n",
      "                 Class     Images  Instances      Box(P          R      mAP50  mAP50-95): 100%|██████████| 4/4 [00:01<00:00,  3.52it/s]"
     ]
    },
    {
     "name": "stdout",
     "output_type": "stream",
     "text": [
      "                   all        119        180      0.948      0.983      0.986      0.733\n"
     ]
    },
    {
     "name": "stderr",
     "output_type": "stream",
     "text": [
      "\n"
     ]
    },
    {
     "name": "stdout",
     "output_type": "stream",
     "text": [
      "\n",
      "      Epoch    GPU_mem   box_loss   cls_loss   dfl_loss  Instances       Size\n"
     ]
    },
    {
     "name": "stderr",
     "output_type": "stream",
     "text": [
      "     65/230      2.38G     0.7627     0.5177      1.145          6        640: 100%|██████████| 27/27 [00:08<00:00,  3.23it/s]\n",
      "                 Class     Images  Instances      Box(P          R      mAP50  mAP50-95): 100%|██████████| 4/4 [00:01<00:00,  3.38it/s]"
     ]
    },
    {
     "name": "stdout",
     "output_type": "stream",
     "text": [
      "                   all        119        180      0.956      0.989      0.989      0.726\n"
     ]
    },
    {
     "name": "stderr",
     "output_type": "stream",
     "text": [
      "\n"
     ]
    },
    {
     "name": "stdout",
     "output_type": "stream",
     "text": [
      "\n",
      "      Epoch    GPU_mem   box_loss   cls_loss   dfl_loss  Instances       Size\n"
     ]
    },
    {
     "name": "stderr",
     "output_type": "stream",
     "text": [
      "     66/230      2.38G     0.7785     0.5549      1.186          4        640: 100%|██████████| 27/27 [00:08<00:00,  3.06it/s]\n",
      "                 Class     Images  Instances      Box(P          R      mAP50  mAP50-95): 100%|██████████| 4/4 [00:01<00:00,  3.33it/s]"
     ]
    },
    {
     "name": "stdout",
     "output_type": "stream",
     "text": [
      "                   all        119        180      0.972      0.958      0.978      0.692\n"
     ]
    },
    {
     "name": "stderr",
     "output_type": "stream",
     "text": [
      "\n"
     ]
    },
    {
     "name": "stdout",
     "output_type": "stream",
     "text": [
      "\n",
      "      Epoch    GPU_mem   box_loss   cls_loss   dfl_loss  Instances       Size\n"
     ]
    },
    {
     "name": "stderr",
     "output_type": "stream",
     "text": [
      "     67/230      2.38G     0.7577     0.5029      1.134         10        640: 100%|██████████| 27/27 [00:08<00:00,  3.17it/s]\n",
      "                 Class     Images  Instances      Box(P          R      mAP50  mAP50-95): 100%|██████████| 4/4 [00:01<00:00,  3.49it/s]"
     ]
    },
    {
     "name": "stdout",
     "output_type": "stream",
     "text": [
      "                   all        119        180      0.968      0.956      0.981        0.7\n"
     ]
    },
    {
     "name": "stderr",
     "output_type": "stream",
     "text": [
      "\n"
     ]
    },
    {
     "name": "stdout",
     "output_type": "stream",
     "text": [
      "\n",
      "      Epoch    GPU_mem   box_loss   cls_loss   dfl_loss  Instances       Size\n"
     ]
    },
    {
     "name": "stderr",
     "output_type": "stream",
     "text": [
      "     68/230      2.39G     0.7883      0.521      1.167          9        640: 100%|██████████| 27/27 [00:08<00:00,  3.23it/s]\n",
      "                 Class     Images  Instances      Box(P          R      mAP50  mAP50-95): 100%|██████████| 4/4 [00:01<00:00,  3.48it/s]"
     ]
    },
    {
     "name": "stdout",
     "output_type": "stream",
     "text": [
      "                   all        119        180      0.961      0.948       0.97      0.727\n"
     ]
    },
    {
     "name": "stderr",
     "output_type": "stream",
     "text": [
      "\n"
     ]
    },
    {
     "name": "stdout",
     "output_type": "stream",
     "text": [
      "\n",
      "      Epoch    GPU_mem   box_loss   cls_loss   dfl_loss  Instances       Size\n"
     ]
    },
    {
     "name": "stderr",
     "output_type": "stream",
     "text": [
      "     69/230       2.4G     0.7632     0.5262       1.13          4        640: 100%|██████████| 27/27 [00:08<00:00,  3.23it/s]\n",
      "                 Class     Images  Instances      Box(P          R      mAP50  mAP50-95): 100%|██████████| 4/4 [00:01<00:00,  3.56it/s]"
     ]
    },
    {
     "name": "stdout",
     "output_type": "stream",
     "text": [
      "                   all        119        180       0.95       0.96      0.975      0.732\n"
     ]
    },
    {
     "name": "stderr",
     "output_type": "stream",
     "text": [
      "\n"
     ]
    },
    {
     "name": "stdout",
     "output_type": "stream",
     "text": [
      "\n",
      "      Epoch    GPU_mem   box_loss   cls_loss   dfl_loss  Instances       Size\n"
     ]
    },
    {
     "name": "stderr",
     "output_type": "stream",
     "text": [
      "     70/230       2.4G     0.7614     0.5046      1.128          7        640: 100%|██████████| 27/27 [00:08<00:00,  3.19it/s]\n",
      "                 Class     Images  Instances      Box(P          R      mAP50  mAP50-95): 100%|██████████| 4/4 [00:01<00:00,  3.36it/s]"
     ]
    },
    {
     "name": "stdout",
     "output_type": "stream",
     "text": [
      "                   all        119        180      0.983       0.96      0.978      0.723\n"
     ]
    },
    {
     "name": "stderr",
     "output_type": "stream",
     "text": [
      "\n"
     ]
    },
    {
     "name": "stdout",
     "output_type": "stream",
     "text": [
      "\n",
      "      Epoch    GPU_mem   box_loss   cls_loss   dfl_loss  Instances       Size\n"
     ]
    },
    {
     "name": "stderr",
     "output_type": "stream",
     "text": [
      "     71/230      2.42G     0.7454     0.5021      1.135         14        640: 100%|██████████| 27/27 [00:08<00:00,  3.20it/s]\n",
      "                 Class     Images  Instances      Box(P          R      mAP50  mAP50-95): 100%|██████████| 4/4 [00:01<00:00,  3.45it/s]"
     ]
    },
    {
     "name": "stdout",
     "output_type": "stream",
     "text": [
      "                   all        119        180      0.961      0.946      0.978      0.697\n"
     ]
    },
    {
     "name": "stderr",
     "output_type": "stream",
     "text": [
      "\n"
     ]
    },
    {
     "name": "stdout",
     "output_type": "stream",
     "text": [
      "\n",
      "      Epoch    GPU_mem   box_loss   cls_loss   dfl_loss  Instances       Size\n"
     ]
    },
    {
     "name": "stderr",
     "output_type": "stream",
     "text": [
      "     72/230      2.38G     0.7695     0.5102      1.157          5        640: 100%|██████████| 27/27 [00:08<00:00,  3.22it/s]\n",
      "                 Class     Images  Instances      Box(P          R      mAP50  mAP50-95): 100%|██████████| 4/4 [00:01<00:00,  3.41it/s]"
     ]
    },
    {
     "name": "stdout",
     "output_type": "stream",
     "text": [
      "                   all        119        180      0.959      0.933      0.968      0.687\n"
     ]
    },
    {
     "name": "stderr",
     "output_type": "stream",
     "text": [
      "\n"
     ]
    },
    {
     "name": "stdout",
     "output_type": "stream",
     "text": [
      "\n",
      "      Epoch    GPU_mem   box_loss   cls_loss   dfl_loss  Instances       Size\n"
     ]
    },
    {
     "name": "stderr",
     "output_type": "stream",
     "text": [
      "     73/230      2.42G     0.7651     0.5255       1.13         12        640: 100%|██████████| 27/27 [00:08<00:00,  3.25it/s]\n",
      "                 Class     Images  Instances      Box(P          R      mAP50  mAP50-95): 100%|██████████| 4/4 [00:01<00:00,  3.40it/s]"
     ]
    },
    {
     "name": "stdout",
     "output_type": "stream",
     "text": [
      "                   all        119        180      0.952      0.956      0.981      0.703\n"
     ]
    },
    {
     "name": "stderr",
     "output_type": "stream",
     "text": [
      "\n"
     ]
    },
    {
     "name": "stdout",
     "output_type": "stream",
     "text": [
      "\n",
      "      Epoch    GPU_mem   box_loss   cls_loss   dfl_loss  Instances       Size\n"
     ]
    },
    {
     "name": "stderr",
     "output_type": "stream",
     "text": [
      "     74/230      2.38G     0.8178     0.5477      1.158          3        640: 100%|██████████| 27/27 [00:08<00:00,  3.24it/s]\n",
      "                 Class     Images  Instances      Box(P          R      mAP50  mAP50-95): 100%|██████████| 4/4 [00:01<00:00,  3.55it/s]"
     ]
    },
    {
     "name": "stdout",
     "output_type": "stream",
     "text": [
      "                   all        119        180      0.931      0.969      0.976      0.706\n"
     ]
    },
    {
     "name": "stderr",
     "output_type": "stream",
     "text": [
      "\n"
     ]
    },
    {
     "name": "stdout",
     "output_type": "stream",
     "text": [
      "\n",
      "      Epoch    GPU_mem   box_loss   cls_loss   dfl_loss  Instances       Size\n"
     ]
    },
    {
     "name": "stderr",
     "output_type": "stream",
     "text": [
      "     75/230      2.41G     0.7641      0.522      1.139          6        640: 100%|██████████| 27/27 [00:08<00:00,  3.23it/s]\n",
      "                 Class     Images  Instances      Box(P          R      mAP50  mAP50-95): 100%|██████████| 4/4 [00:01<00:00,  3.62it/s]"
     ]
    },
    {
     "name": "stdout",
     "output_type": "stream",
     "text": [
      "                   all        119        180      0.972      0.955      0.966      0.716\n"
     ]
    },
    {
     "name": "stderr",
     "output_type": "stream",
     "text": [
      "\n"
     ]
    },
    {
     "name": "stdout",
     "output_type": "stream",
     "text": [
      "\n",
      "      Epoch    GPU_mem   box_loss   cls_loss   dfl_loss  Instances       Size\n"
     ]
    },
    {
     "name": "stderr",
     "output_type": "stream",
     "text": [
      "     76/230      2.43G     0.7447     0.5057      1.141          8        640: 100%|██████████| 27/27 [00:08<00:00,  3.21it/s]\n",
      "                 Class     Images  Instances      Box(P          R      mAP50  mAP50-95): 100%|██████████| 4/4 [00:01<00:00,  3.41it/s]"
     ]
    },
    {
     "name": "stdout",
     "output_type": "stream",
     "text": [
      "                   all        119        180      0.966      0.956      0.976      0.701\n"
     ]
    },
    {
     "name": "stderr",
     "output_type": "stream",
     "text": [
      "\n"
     ]
    },
    {
     "name": "stdout",
     "output_type": "stream",
     "text": [
      "\n",
      "      Epoch    GPU_mem   box_loss   cls_loss   dfl_loss  Instances       Size\n"
     ]
    },
    {
     "name": "stderr",
     "output_type": "stream",
     "text": [
      "     77/230       2.4G     0.7074     0.5013       1.12          6        640: 100%|██████████| 27/27 [00:08<00:00,  3.24it/s]\n",
      "                 Class     Images  Instances      Box(P          R      mAP50  mAP50-95): 100%|██████████| 4/4 [00:01<00:00,  3.43it/s]"
     ]
    },
    {
     "name": "stdout",
     "output_type": "stream",
     "text": [
      "                   all        119        180      0.961      0.968      0.983      0.706\n"
     ]
    },
    {
     "name": "stderr",
     "output_type": "stream",
     "text": [
      "\n"
     ]
    },
    {
     "name": "stdout",
     "output_type": "stream",
     "text": [
      "\n",
      "      Epoch    GPU_mem   box_loss   cls_loss   dfl_loss  Instances       Size\n"
     ]
    },
    {
     "name": "stderr",
     "output_type": "stream",
     "text": [
      "     78/230      2.43G     0.7237     0.4921      1.118          7        640: 100%|██████████| 27/27 [00:08<00:00,  3.11it/s]\n",
      "                 Class     Images  Instances      Box(P          R      mAP50  mAP50-95): 100%|██████████| 4/4 [00:01<00:00,  3.31it/s]"
     ]
    },
    {
     "name": "stdout",
     "output_type": "stream",
     "text": [
      "                   all        119        180      0.971      0.943      0.975      0.729\n"
     ]
    },
    {
     "name": "stderr",
     "output_type": "stream",
     "text": [
      "\n"
     ]
    },
    {
     "name": "stdout",
     "output_type": "stream",
     "text": [
      "\n",
      "      Epoch    GPU_mem   box_loss   cls_loss   dfl_loss  Instances       Size\n"
     ]
    },
    {
     "name": "stderr",
     "output_type": "stream",
     "text": [
      "     79/230      2.38G     0.7408     0.5009      1.131          9        640: 100%|██████████| 27/27 [00:08<00:00,  3.16it/s]\n",
      "                 Class     Images  Instances      Box(P          R      mAP50  mAP50-95): 100%|██████████| 4/4 [00:01<00:00,  3.41it/s]"
     ]
    },
    {
     "name": "stdout",
     "output_type": "stream",
     "text": [
      "                   all        119        180       0.98      0.956      0.984      0.715\n"
     ]
    },
    {
     "name": "stderr",
     "output_type": "stream",
     "text": [
      "\n"
     ]
    },
    {
     "name": "stdout",
     "output_type": "stream",
     "text": [
      "\n",
      "      Epoch    GPU_mem   box_loss   cls_loss   dfl_loss  Instances       Size\n"
     ]
    },
    {
     "name": "stderr",
     "output_type": "stream",
     "text": [
      "     80/230      2.38G      0.768       0.54        1.2          3        640: 100%|██████████| 27/27 [00:08<00:00,  3.22it/s]\n",
      "                 Class     Images  Instances      Box(P          R      mAP50  mAP50-95): 100%|██████████| 4/4 [00:01<00:00,  3.42it/s]"
     ]
    },
    {
     "name": "stdout",
     "output_type": "stream",
     "text": [
      "                   all        119        180      0.983       0.98      0.983      0.734\n"
     ]
    },
    {
     "name": "stderr",
     "output_type": "stream",
     "text": [
      "\n"
     ]
    },
    {
     "name": "stdout",
     "output_type": "stream",
     "text": [
      "\n",
      "      Epoch    GPU_mem   box_loss   cls_loss   dfl_loss  Instances       Size\n"
     ]
    },
    {
     "name": "stderr",
     "output_type": "stream",
     "text": [
      "     81/230      2.38G     0.7326     0.4921      1.149          5        640: 100%|██████████| 27/27 [00:08<00:00,  3.24it/s]\n",
      "                 Class     Images  Instances      Box(P          R      mAP50  mAP50-95): 100%|██████████| 4/4 [00:01<00:00,  3.50it/s]"
     ]
    },
    {
     "name": "stdout",
     "output_type": "stream",
     "text": [
      "                   all        119        180      0.974      0.983      0.989      0.709\n"
     ]
    },
    {
     "name": "stderr",
     "output_type": "stream",
     "text": [
      "\n"
     ]
    },
    {
     "name": "stdout",
     "output_type": "stream",
     "text": [
      "\n",
      "      Epoch    GPU_mem   box_loss   cls_loss   dfl_loss  Instances       Size\n"
     ]
    },
    {
     "name": "stderr",
     "output_type": "stream",
     "text": [
      "     82/230      2.41G     0.7413     0.4927      1.114         13        640: 100%|██████████| 27/27 [00:08<00:00,  3.20it/s]\n",
      "                 Class     Images  Instances      Box(P          R      mAP50  mAP50-95): 100%|██████████| 4/4 [00:01<00:00,  3.46it/s]"
     ]
    },
    {
     "name": "stdout",
     "output_type": "stream",
     "text": [
      "                   all        119        180      0.972      0.983      0.993       0.74\n"
     ]
    },
    {
     "name": "stderr",
     "output_type": "stream",
     "text": [
      "\n"
     ]
    },
    {
     "name": "stdout",
     "output_type": "stream",
     "text": [
      "\n",
      "      Epoch    GPU_mem   box_loss   cls_loss   dfl_loss  Instances       Size\n"
     ]
    },
    {
     "name": "stderr",
     "output_type": "stream",
     "text": [
      "     83/230      2.41G     0.7149     0.4746      1.094         14        640: 100%|██████████| 27/27 [00:08<00:00,  3.20it/s]\n",
      "                 Class     Images  Instances      Box(P          R      mAP50  mAP50-95): 100%|██████████| 4/4 [00:01<00:00,  3.39it/s]"
     ]
    },
    {
     "name": "stdout",
     "output_type": "stream",
     "text": [
      "                   all        119        180      0.946      0.967      0.989      0.734\n"
     ]
    },
    {
     "name": "stderr",
     "output_type": "stream",
     "text": [
      "\n"
     ]
    },
    {
     "name": "stdout",
     "output_type": "stream",
     "text": [
      "\n",
      "      Epoch    GPU_mem   box_loss   cls_loss   dfl_loss  Instances       Size\n"
     ]
    },
    {
     "name": "stderr",
     "output_type": "stream",
     "text": [
      "     84/230      2.42G     0.7175     0.4817      1.142          3        640: 100%|██████████| 27/27 [00:08<00:00,  3.20it/s]\n",
      "                 Class     Images  Instances      Box(P          R      mAP50  mAP50-95): 100%|██████████| 4/4 [00:01<00:00,  3.49it/s]"
     ]
    },
    {
     "name": "stdout",
     "output_type": "stream",
     "text": [
      "                   all        119        180      0.994      0.954      0.979      0.706\n"
     ]
    },
    {
     "name": "stderr",
     "output_type": "stream",
     "text": [
      "\n"
     ]
    },
    {
     "name": "stdout",
     "output_type": "stream",
     "text": [
      "\n",
      "      Epoch    GPU_mem   box_loss   cls_loss   dfl_loss  Instances       Size\n"
     ]
    },
    {
     "name": "stderr",
     "output_type": "stream",
     "text": [
      "     85/230      2.42G     0.7252     0.4828       1.13          9        640: 100%|██████████| 27/27 [00:08<00:00,  3.22it/s]\n",
      "                 Class     Images  Instances      Box(P          R      mAP50  mAP50-95): 100%|██████████| 4/4 [00:01<00:00,  3.48it/s]"
     ]
    },
    {
     "name": "stdout",
     "output_type": "stream",
     "text": [
      "                   all        119        180      0.972      0.956      0.982      0.723\n"
     ]
    },
    {
     "name": "stderr",
     "output_type": "stream",
     "text": [
      "\n"
     ]
    },
    {
     "name": "stdout",
     "output_type": "stream",
     "text": [
      "\n",
      "      Epoch    GPU_mem   box_loss   cls_loss   dfl_loss  Instances       Size\n"
     ]
    },
    {
     "name": "stderr",
     "output_type": "stream",
     "text": [
      "     86/230       2.4G     0.7314     0.4838      1.111         10        640: 100%|██████████| 27/27 [00:08<00:00,  3.24it/s]\n",
      "                 Class     Images  Instances      Box(P          R      mAP50  mAP50-95): 100%|██████████| 4/4 [00:01<00:00,  3.47it/s]"
     ]
    },
    {
     "name": "stdout",
     "output_type": "stream",
     "text": [
      "                   all        119        180      0.976      0.978       0.98      0.717\n"
     ]
    },
    {
     "name": "stderr",
     "output_type": "stream",
     "text": [
      "\n"
     ]
    },
    {
     "name": "stdout",
     "output_type": "stream",
     "text": [
      "\n",
      "      Epoch    GPU_mem   box_loss   cls_loss   dfl_loss  Instances       Size\n"
     ]
    },
    {
     "name": "stderr",
     "output_type": "stream",
     "text": [
      "     87/230      2.39G     0.7014     0.4809       1.11          9        640: 100%|██████████| 27/27 [00:08<00:00,  3.22it/s]\n",
      "                 Class     Images  Instances      Box(P          R      mAP50  mAP50-95): 100%|██████████| 4/4 [00:01<00:00,  3.55it/s]"
     ]
    },
    {
     "name": "stdout",
     "output_type": "stream",
     "text": [
      "                   all        119        180      0.991      0.956      0.984      0.723\n"
     ]
    },
    {
     "name": "stderr",
     "output_type": "stream",
     "text": [
      "\n"
     ]
    },
    {
     "name": "stdout",
     "output_type": "stream",
     "text": [
      "\n",
      "      Epoch    GPU_mem   box_loss   cls_loss   dfl_loss  Instances       Size\n"
     ]
    },
    {
     "name": "stderr",
     "output_type": "stream",
     "text": [
      "     88/230      2.42G     0.7007     0.4566      1.091          5        640: 100%|██████████| 27/27 [00:08<00:00,  3.21it/s]\n",
      "                 Class     Images  Instances      Box(P          R      mAP50  mAP50-95): 100%|██████████| 4/4 [00:01<00:00,  3.35it/s]"
     ]
    },
    {
     "name": "stdout",
     "output_type": "stream",
     "text": [
      "                   all        119        180      0.977      0.949      0.973      0.725\n"
     ]
    },
    {
     "name": "stderr",
     "output_type": "stream",
     "text": [
      "\n"
     ]
    },
    {
     "name": "stdout",
     "output_type": "stream",
     "text": [
      "\n",
      "      Epoch    GPU_mem   box_loss   cls_loss   dfl_loss  Instances       Size\n"
     ]
    },
    {
     "name": "stderr",
     "output_type": "stream",
     "text": [
      "     89/230      2.42G     0.7105     0.4886      1.129          3        640: 100%|██████████| 27/27 [00:08<00:00,  3.25it/s]\n",
      "                 Class     Images  Instances      Box(P          R      mAP50  mAP50-95): 100%|██████████| 4/4 [00:01<00:00,  3.32it/s]"
     ]
    },
    {
     "name": "stdout",
     "output_type": "stream",
     "text": [
      "                   all        119        180      0.966      0.972      0.982      0.732\n"
     ]
    },
    {
     "name": "stderr",
     "output_type": "stream",
     "text": [
      "\n"
     ]
    },
    {
     "name": "stdout",
     "output_type": "stream",
     "text": [
      "\n",
      "      Epoch    GPU_mem   box_loss   cls_loss   dfl_loss  Instances       Size\n"
     ]
    },
    {
     "name": "stderr",
     "output_type": "stream",
     "text": [
      "     90/230      2.39G     0.6795     0.4469      1.095          9        640: 100%|██████████| 27/27 [00:08<00:00,  3.09it/s]\n",
      "                 Class     Images  Instances      Box(P          R      mAP50  mAP50-95): 100%|██████████| 4/4 [00:01<00:00,  3.37it/s]"
     ]
    },
    {
     "name": "stdout",
     "output_type": "stream",
     "text": [
      "                   all        119        180      0.967      0.978      0.984      0.743\n"
     ]
    },
    {
     "name": "stderr",
     "output_type": "stream",
     "text": [
      "\n"
     ]
    },
    {
     "name": "stdout",
     "output_type": "stream",
     "text": [
      "\n",
      "      Epoch    GPU_mem   box_loss   cls_loss   dfl_loss  Instances       Size\n"
     ]
    },
    {
     "name": "stderr",
     "output_type": "stream",
     "text": [
      "     91/230      2.37G      0.681     0.4442      1.092          6        640: 100%|██████████| 27/27 [00:08<00:00,  3.19it/s]\n",
      "                 Class     Images  Instances      Box(P          R      mAP50  mAP50-95): 100%|██████████| 4/4 [00:01<00:00,  3.42it/s]"
     ]
    },
    {
     "name": "stdout",
     "output_type": "stream",
     "text": [
      "                   all        119        180      0.967      0.978      0.982      0.722\n"
     ]
    },
    {
     "name": "stderr",
     "output_type": "stream",
     "text": [
      "\n"
     ]
    },
    {
     "name": "stdout",
     "output_type": "stream",
     "text": [
      "\n",
      "      Epoch    GPU_mem   box_loss   cls_loss   dfl_loss  Instances       Size\n"
     ]
    },
    {
     "name": "stderr",
     "output_type": "stream",
     "text": [
      "     92/230      2.39G     0.7063     0.4621      1.113         11        640: 100%|██████████| 27/27 [00:08<00:00,  3.24it/s]\n",
      "                 Class     Images  Instances      Box(P          R      mAP50  mAP50-95): 100%|██████████| 4/4 [00:01<00:00,  3.39it/s]"
     ]
    },
    {
     "name": "stdout",
     "output_type": "stream",
     "text": [
      "                   all        119        180      0.971      0.967      0.988       0.73\n"
     ]
    },
    {
     "name": "stderr",
     "output_type": "stream",
     "text": [
      "\n"
     ]
    },
    {
     "name": "stdout",
     "output_type": "stream",
     "text": [
      "\n",
      "      Epoch    GPU_mem   box_loss   cls_loss   dfl_loss  Instances       Size\n"
     ]
    },
    {
     "name": "stderr",
     "output_type": "stream",
     "text": [
      "     93/230      2.43G     0.7113     0.4707      1.113          3        640: 100%|██████████| 27/27 [00:08<00:00,  3.23it/s]\n",
      "                 Class     Images  Instances      Box(P          R      mAP50  mAP50-95): 100%|██████████| 4/4 [00:01<00:00,  3.49it/s]"
     ]
    },
    {
     "name": "stdout",
     "output_type": "stream",
     "text": [
      "                   all        119        180      0.972      0.966      0.984      0.739\n"
     ]
    },
    {
     "name": "stderr",
     "output_type": "stream",
     "text": [
      "\n"
     ]
    },
    {
     "name": "stdout",
     "output_type": "stream",
     "text": [
      "\n",
      "      Epoch    GPU_mem   box_loss   cls_loss   dfl_loss  Instances       Size\n"
     ]
    },
    {
     "name": "stderr",
     "output_type": "stream",
     "text": [
      "     94/230      2.38G     0.7088     0.4648      1.117          6        640: 100%|██████████| 27/27 [00:08<00:00,  3.23it/s]\n",
      "                 Class     Images  Instances      Box(P          R      mAP50  mAP50-95): 100%|██████████| 4/4 [00:01<00:00,  3.35it/s]"
     ]
    },
    {
     "name": "stdout",
     "output_type": "stream",
     "text": [
      "                   all        119        180      0.985      0.972      0.989      0.736\n"
     ]
    },
    {
     "name": "stderr",
     "output_type": "stream",
     "text": [
      "\n"
     ]
    },
    {
     "name": "stdout",
     "output_type": "stream",
     "text": [
      "\n",
      "      Epoch    GPU_mem   box_loss   cls_loss   dfl_loss  Instances       Size\n"
     ]
    },
    {
     "name": "stderr",
     "output_type": "stream",
     "text": [
      "     95/230      2.41G     0.6922      0.457      1.103          6        640: 100%|██████████| 27/27 [00:08<00:00,  3.22it/s]\n",
      "                 Class     Images  Instances      Box(P          R      mAP50  mAP50-95): 100%|██████████| 4/4 [00:01<00:00,  3.57it/s]"
     ]
    },
    {
     "name": "stdout",
     "output_type": "stream",
     "text": [
      "                   all        119        180      0.966      0.958      0.982      0.737\n"
     ]
    },
    {
     "name": "stderr",
     "output_type": "stream",
     "text": [
      "\n"
     ]
    },
    {
     "name": "stdout",
     "output_type": "stream",
     "text": [
      "\n",
      "      Epoch    GPU_mem   box_loss   cls_loss   dfl_loss  Instances       Size\n"
     ]
    },
    {
     "name": "stderr",
     "output_type": "stream",
     "text": [
      "     96/230       2.4G     0.6931     0.4727      1.096         12        640: 100%|██████████| 27/27 [00:08<00:00,  3.22it/s]\n",
      "                 Class     Images  Instances      Box(P          R      mAP50  mAP50-95): 100%|██████████| 4/4 [00:01<00:00,  3.49it/s]"
     ]
    },
    {
     "name": "stdout",
     "output_type": "stream",
     "text": [
      "                   all        119        180      0.961      0.965      0.979      0.721\n"
     ]
    },
    {
     "name": "stderr",
     "output_type": "stream",
     "text": [
      "\n"
     ]
    },
    {
     "name": "stdout",
     "output_type": "stream",
     "text": [
      "\n",
      "      Epoch    GPU_mem   box_loss   cls_loss   dfl_loss  Instances       Size\n"
     ]
    },
    {
     "name": "stderr",
     "output_type": "stream",
     "text": [
      "     97/230       2.4G     0.6908      0.455      1.095          6        640: 100%|██████████| 27/27 [00:08<00:00,  3.21it/s]\n",
      "                 Class     Images  Instances      Box(P          R      mAP50  mAP50-95): 100%|██████████| 4/4 [00:01<00:00,  3.47it/s]"
     ]
    },
    {
     "name": "stdout",
     "output_type": "stream",
     "text": [
      "                   all        119        180      0.961      0.983      0.981      0.716\n"
     ]
    },
    {
     "name": "stderr",
     "output_type": "stream",
     "text": [
      "\n"
     ]
    },
    {
     "name": "stdout",
     "output_type": "stream",
     "text": [
      "\n",
      "      Epoch    GPU_mem   box_loss   cls_loss   dfl_loss  Instances       Size\n"
     ]
    },
    {
     "name": "stderr",
     "output_type": "stream",
     "text": [
      "     98/230       2.4G     0.6787      0.485      1.113          5        640: 100%|██████████| 27/27 [00:08<00:00,  3.21it/s]\n",
      "                 Class     Images  Instances      Box(P          R      mAP50  mAP50-95): 100%|██████████| 4/4 [00:01<00:00,  3.47it/s]"
     ]
    },
    {
     "name": "stdout",
     "output_type": "stream",
     "text": [
      "                   all        119        180      0.983      0.949      0.974      0.742\n"
     ]
    },
    {
     "name": "stderr",
     "output_type": "stream",
     "text": [
      "\n"
     ]
    },
    {
     "name": "stdout",
     "output_type": "stream",
     "text": [
      "\n",
      "      Epoch    GPU_mem   box_loss   cls_loss   dfl_loss  Instances       Size\n"
     ]
    },
    {
     "name": "stderr",
     "output_type": "stream",
     "text": [
      "     99/230      2.39G     0.6421     0.4381      1.072          7        640: 100%|██████████| 27/27 [00:08<00:00,  3.21it/s]\n",
      "                 Class     Images  Instances      Box(P          R      mAP50  mAP50-95): 100%|██████████| 4/4 [00:01<00:00,  3.57it/s]"
     ]
    },
    {
     "name": "stdout",
     "output_type": "stream",
     "text": [
      "                   all        119        180      0.977      0.978      0.991      0.746\n"
     ]
    },
    {
     "name": "stderr",
     "output_type": "stream",
     "text": [
      "\n"
     ]
    },
    {
     "name": "stdout",
     "output_type": "stream",
     "text": [
      "\n",
      "      Epoch    GPU_mem   box_loss   cls_loss   dfl_loss  Instances       Size\n"
     ]
    },
    {
     "name": "stderr",
     "output_type": "stream",
     "text": [
      "    100/230       2.4G     0.6455       0.43      1.076          4        640: 100%|██████████| 27/27 [00:08<00:00,  3.22it/s]\n",
      "                 Class     Images  Instances      Box(P          R      mAP50  mAP50-95): 100%|██████████| 4/4 [00:01<00:00,  3.43it/s]"
     ]
    },
    {
     "name": "stdout",
     "output_type": "stream",
     "text": [
      "                   all        119        180      0.977      0.963      0.991      0.725\n"
     ]
    },
    {
     "name": "stderr",
     "output_type": "stream",
     "text": [
      "\n"
     ]
    },
    {
     "name": "stdout",
     "output_type": "stream",
     "text": [
      "\n",
      "      Epoch    GPU_mem   box_loss   cls_loss   dfl_loss  Instances       Size\n"
     ]
    },
    {
     "name": "stderr",
     "output_type": "stream",
     "text": [
      "    101/230      2.38G     0.6754     0.4501      1.104          5        640: 100%|██████████| 27/27 [00:08<00:00,  3.22it/s]\n",
      "                 Class     Images  Instances      Box(P          R      mAP50  mAP50-95): 100%|██████████| 4/4 [00:01<00:00,  3.51it/s]"
     ]
    },
    {
     "name": "stdout",
     "output_type": "stream",
     "text": [
      "                   all        119        180      0.973      0.987      0.992      0.722\n"
     ]
    },
    {
     "name": "stderr",
     "output_type": "stream",
     "text": [
      "\n"
     ]
    },
    {
     "name": "stdout",
     "output_type": "stream",
     "text": [
      "\n",
      "      Epoch    GPU_mem   box_loss   cls_loss   dfl_loss  Instances       Size\n"
     ]
    },
    {
     "name": "stderr",
     "output_type": "stream",
     "text": [
      "    102/230       2.4G     0.6933     0.4802      1.082          6        640: 100%|██████████| 27/27 [00:08<00:00,  3.23it/s]\n",
      "                 Class     Images  Instances      Box(P          R      mAP50  mAP50-95): 100%|██████████| 4/4 [00:01<00:00,  3.50it/s]"
     ]
    },
    {
     "name": "stdout",
     "output_type": "stream",
     "text": [
      "                   all        119        180      0.968      0.983      0.993      0.727\n"
     ]
    },
    {
     "name": "stderr",
     "output_type": "stream",
     "text": [
      "\n"
     ]
    },
    {
     "name": "stdout",
     "output_type": "stream",
     "text": [
      "\n",
      "      Epoch    GPU_mem   box_loss   cls_loss   dfl_loss  Instances       Size\n"
     ]
    },
    {
     "name": "stderr",
     "output_type": "stream",
     "text": [
      "    103/230      2.37G     0.6642     0.4437      1.097          6        640: 100%|██████████| 27/27 [00:08<00:00,  3.23it/s]\n",
      "                 Class     Images  Instances      Box(P          R      mAP50  mAP50-95): 100%|██████████| 4/4 [00:01<00:00,  3.48it/s]"
     ]
    },
    {
     "name": "stdout",
     "output_type": "stream",
     "text": [
      "                   all        119        180      0.962      0.988       0.99      0.722\n"
     ]
    },
    {
     "name": "stderr",
     "output_type": "stream",
     "text": [
      "\n"
     ]
    },
    {
     "name": "stdout",
     "output_type": "stream",
     "text": [
      "\n",
      "      Epoch    GPU_mem   box_loss   cls_loss   dfl_loss  Instances       Size\n"
     ]
    },
    {
     "name": "stderr",
     "output_type": "stream",
     "text": [
      "    104/230      2.39G     0.6575     0.4379      1.065          8        640: 100%|██████████| 27/27 [00:08<00:00,  3.22it/s]\n",
      "                 Class     Images  Instances      Box(P          R      mAP50  mAP50-95): 100%|██████████| 4/4 [00:01<00:00,  3.56it/s]"
     ]
    },
    {
     "name": "stdout",
     "output_type": "stream",
     "text": [
      "                   all        119        180      0.985      0.972      0.988      0.732\n"
     ]
    },
    {
     "name": "stderr",
     "output_type": "stream",
     "text": [
      "\n"
     ]
    },
    {
     "name": "stdout",
     "output_type": "stream",
     "text": [
      "\n",
      "      Epoch    GPU_mem   box_loss   cls_loss   dfl_loss  Instances       Size\n"
     ]
    },
    {
     "name": "stderr",
     "output_type": "stream",
     "text": [
      "    105/230      2.41G     0.6544     0.4317      1.067         12        640: 100%|██████████| 27/27 [00:08<00:00,  3.26it/s]\n",
      "                 Class     Images  Instances      Box(P          R      mAP50  mAP50-95): 100%|██████████| 4/4 [00:01<00:00,  3.52it/s]"
     ]
    },
    {
     "name": "stdout",
     "output_type": "stream",
     "text": [
      "                   all        119        180      0.967      0.976      0.989      0.734\n"
     ]
    },
    {
     "name": "stderr",
     "output_type": "stream",
     "text": [
      "\n"
     ]
    },
    {
     "name": "stdout",
     "output_type": "stream",
     "text": [
      "\n",
      "      Epoch    GPU_mem   box_loss   cls_loss   dfl_loss  Instances       Size\n"
     ]
    },
    {
     "name": "stderr",
     "output_type": "stream",
     "text": [
      "    106/230      2.43G     0.6696     0.4561      1.083          6        640: 100%|██████████| 27/27 [00:08<00:00,  3.21it/s]\n",
      "                 Class     Images  Instances      Box(P          R      mAP50  mAP50-95): 100%|██████████| 4/4 [00:01<00:00,  3.49it/s]"
     ]
    },
    {
     "name": "stdout",
     "output_type": "stream",
     "text": [
      "                   all        119        180      0.989      0.982      0.993      0.727\n"
     ]
    },
    {
     "name": "stderr",
     "output_type": "stream",
     "text": [
      "\n"
     ]
    },
    {
     "name": "stdout",
     "output_type": "stream",
     "text": [
      "\n",
      "      Epoch    GPU_mem   box_loss   cls_loss   dfl_loss  Instances       Size\n"
     ]
    },
    {
     "name": "stderr",
     "output_type": "stream",
     "text": [
      "    107/230      2.39G     0.6571     0.4394      1.097          5        640: 100%|██████████| 27/27 [00:08<00:00,  3.22it/s]\n",
      "                 Class     Images  Instances      Box(P          R      mAP50  mAP50-95): 100%|██████████| 4/4 [00:01<00:00,  3.47it/s]"
     ]
    },
    {
     "name": "stdout",
     "output_type": "stream",
     "text": [
      "                   all        119        180      0.989      0.983      0.993      0.725\n"
     ]
    },
    {
     "name": "stderr",
     "output_type": "stream",
     "text": [
      "\n"
     ]
    },
    {
     "name": "stdout",
     "output_type": "stream",
     "text": [
      "\n",
      "      Epoch    GPU_mem   box_loss   cls_loss   dfl_loss  Instances       Size\n"
     ]
    },
    {
     "name": "stderr",
     "output_type": "stream",
     "text": [
      "    108/230      2.38G     0.6766     0.4517      1.086          6        640: 100%|██████████| 27/27 [00:08<00:00,  3.22it/s]\n",
      "                 Class     Images  Instances      Box(P          R      mAP50  mAP50-95): 100%|██████████| 4/4 [00:01<00:00,  3.35it/s]"
     ]
    },
    {
     "name": "stdout",
     "output_type": "stream",
     "text": [
      "                   all        119        180      0.978      0.981      0.989      0.733\n"
     ]
    },
    {
     "name": "stderr",
     "output_type": "stream",
     "text": [
      "\n"
     ]
    },
    {
     "name": "stdout",
     "output_type": "stream",
     "text": [
      "\n",
      "      Epoch    GPU_mem   box_loss   cls_loss   dfl_loss  Instances       Size\n"
     ]
    },
    {
     "name": "stderr",
     "output_type": "stream",
     "text": [
      "    109/230       2.4G     0.6261     0.4005      1.055          9        640: 100%|██████████| 27/27 [00:08<00:00,  3.23it/s]\n",
      "                 Class     Images  Instances      Box(P          R      mAP50  mAP50-95): 100%|██████████| 4/4 [00:01<00:00,  3.49it/s]"
     ]
    },
    {
     "name": "stdout",
     "output_type": "stream",
     "text": [
      "                   all        119        180      0.921      0.974      0.984      0.726\n"
     ]
    },
    {
     "name": "stderr",
     "output_type": "stream",
     "text": [
      "\n"
     ]
    },
    {
     "name": "stdout",
     "output_type": "stream",
     "text": [
      "\n",
      "      Epoch    GPU_mem   box_loss   cls_loss   dfl_loss  Instances       Size\n"
     ]
    },
    {
     "name": "stderr",
     "output_type": "stream",
     "text": [
      "    110/230      2.38G     0.6518     0.4388      1.086          8        640: 100%|██████████| 27/27 [00:08<00:00,  3.22it/s]\n",
      "                 Class     Images  Instances      Box(P          R      mAP50  mAP50-95): 100%|██████████| 4/4 [00:01<00:00,  3.52it/s]"
     ]
    },
    {
     "name": "stdout",
     "output_type": "stream",
     "text": [
      "                   all        119        180      0.965      0.978       0.99      0.733\n"
     ]
    },
    {
     "name": "stderr",
     "output_type": "stream",
     "text": [
      "\n"
     ]
    },
    {
     "name": "stdout",
     "output_type": "stream",
     "text": [
      "\n",
      "      Epoch    GPU_mem   box_loss   cls_loss   dfl_loss  Instances       Size\n"
     ]
    },
    {
     "name": "stderr",
     "output_type": "stream",
     "text": [
      "    111/230      2.37G     0.6458     0.4336      1.082          3        640: 100%|██████████| 27/27 [00:08<00:00,  3.24it/s]\n",
      "                 Class     Images  Instances      Box(P          R      mAP50  mAP50-95): 100%|██████████| 4/4 [00:01<00:00,  3.54it/s]"
     ]
    },
    {
     "name": "stdout",
     "output_type": "stream",
     "text": [
      "                   all        119        180      0.987      0.972      0.994      0.745\n"
     ]
    },
    {
     "name": "stderr",
     "output_type": "stream",
     "text": [
      "\n"
     ]
    },
    {
     "name": "stdout",
     "output_type": "stream",
     "text": [
      "\n",
      "      Epoch    GPU_mem   box_loss   cls_loss   dfl_loss  Instances       Size\n"
     ]
    },
    {
     "name": "stderr",
     "output_type": "stream",
     "text": [
      "    112/230      2.39G     0.6381     0.4275      1.086          7        640: 100%|██████████| 27/27 [00:08<00:00,  3.21it/s]\n",
      "                 Class     Images  Instances      Box(P          R      mAP50  mAP50-95): 100%|██████████| 4/4 [00:01<00:00,  3.46it/s]"
     ]
    },
    {
     "name": "stdout",
     "output_type": "stream",
     "text": [
      "                   all        119        180      0.989      0.965      0.989      0.726\n"
     ]
    },
    {
     "name": "stderr",
     "output_type": "stream",
     "text": [
      "\n"
     ]
    },
    {
     "name": "stdout",
     "output_type": "stream",
     "text": [
      "\n",
      "      Epoch    GPU_mem   box_loss   cls_loss   dfl_loss  Instances       Size\n"
     ]
    },
    {
     "name": "stderr",
     "output_type": "stream",
     "text": [
      "    113/230      2.43G     0.6385     0.4233      1.061         10        640: 100%|██████████| 27/27 [00:08<00:00,  3.24it/s]\n",
      "                 Class     Images  Instances      Box(P          R      mAP50  mAP50-95): 100%|██████████| 4/4 [00:01<00:00,  3.48it/s]"
     ]
    },
    {
     "name": "stdout",
     "output_type": "stream",
     "text": [
      "                   all        119        180      0.989      0.959      0.987      0.721\n"
     ]
    },
    {
     "name": "stderr",
     "output_type": "stream",
     "text": [
      "\n"
     ]
    },
    {
     "name": "stdout",
     "output_type": "stream",
     "text": [
      "\n",
      "      Epoch    GPU_mem   box_loss   cls_loss   dfl_loss  Instances       Size\n"
     ]
    },
    {
     "name": "stderr",
     "output_type": "stream",
     "text": [
      "    114/230      2.42G     0.6377     0.4278      1.062         13        640: 100%|██████████| 27/27 [00:08<00:00,  3.23it/s]\n",
      "                 Class     Images  Instances      Box(P          R      mAP50  mAP50-95): 100%|██████████| 4/4 [00:01<00:00,  3.48it/s]"
     ]
    },
    {
     "name": "stdout",
     "output_type": "stream",
     "text": [
      "                   all        119        180      0.989      0.967      0.989      0.738\n"
     ]
    },
    {
     "name": "stderr",
     "output_type": "stream",
     "text": [
      "\n"
     ]
    },
    {
     "name": "stdout",
     "output_type": "stream",
     "text": [
      "\n",
      "      Epoch    GPU_mem   box_loss   cls_loss   dfl_loss  Instances       Size\n"
     ]
    },
    {
     "name": "stderr",
     "output_type": "stream",
     "text": [
      "    115/230      2.37G     0.6326     0.4078      1.073          6        640: 100%|██████████| 27/27 [00:08<00:00,  3.25it/s]\n",
      "                 Class     Images  Instances      Box(P          R      mAP50  mAP50-95): 100%|██████████| 4/4 [00:01<00:00,  3.52it/s]"
     ]
    },
    {
     "name": "stdout",
     "output_type": "stream",
     "text": [
      "                   all        119        180      0.991      0.967      0.991      0.739\n"
     ]
    },
    {
     "name": "stderr",
     "output_type": "stream",
     "text": [
      "\n"
     ]
    },
    {
     "name": "stdout",
     "output_type": "stream",
     "text": [
      "\n",
      "      Epoch    GPU_mem   box_loss   cls_loss   dfl_loss  Instances       Size\n"
     ]
    },
    {
     "name": "stderr",
     "output_type": "stream",
     "text": [
      "    116/230      2.39G     0.6359     0.4114      1.078          6        640: 100%|██████████| 27/27 [00:08<00:00,  3.22it/s]\n",
      "                 Class     Images  Instances      Box(P          R      mAP50  mAP50-95): 100%|██████████| 4/4 [00:01<00:00,  3.39it/s]"
     ]
    },
    {
     "name": "stdout",
     "output_type": "stream",
     "text": [
      "                   all        119        180      0.987      0.967      0.987      0.721\n"
     ]
    },
    {
     "name": "stderr",
     "output_type": "stream",
     "text": [
      "\n"
     ]
    },
    {
     "name": "stdout",
     "output_type": "stream",
     "text": [
      "\n",
      "      Epoch    GPU_mem   box_loss   cls_loss   dfl_loss  Instances       Size\n"
     ]
    },
    {
     "name": "stderr",
     "output_type": "stream",
     "text": [
      "    117/230      2.43G     0.6512     0.4284      1.086          7        640: 100%|██████████| 27/27 [00:08<00:00,  3.25it/s]\n",
      "                 Class     Images  Instances      Box(P          R      mAP50  mAP50-95): 100%|██████████| 4/4 [00:01<00:00,  3.42it/s]"
     ]
    },
    {
     "name": "stdout",
     "output_type": "stream",
     "text": [
      "                   all        119        180      0.988      0.956      0.982      0.735\n"
     ]
    },
    {
     "name": "stderr",
     "output_type": "stream",
     "text": [
      "\n"
     ]
    },
    {
     "name": "stdout",
     "output_type": "stream",
     "text": [
      "\n",
      "      Epoch    GPU_mem   box_loss   cls_loss   dfl_loss  Instances       Size\n"
     ]
    },
    {
     "name": "stderr",
     "output_type": "stream",
     "text": [
      "    118/230       2.4G     0.6695     0.4369      1.084          7        640: 100%|██████████| 27/27 [00:08<00:00,  3.23it/s]\n",
      "                 Class     Images  Instances      Box(P          R      mAP50  mAP50-95): 100%|██████████| 4/4 [00:01<00:00,  3.46it/s]"
     ]
    },
    {
     "name": "stdout",
     "output_type": "stream",
     "text": [
      "                   all        119        180      0.989      0.963      0.989       0.76\n"
     ]
    },
    {
     "name": "stderr",
     "output_type": "stream",
     "text": [
      "\n"
     ]
    },
    {
     "name": "stdout",
     "output_type": "stream",
     "text": [
      "\n",
      "      Epoch    GPU_mem   box_loss   cls_loss   dfl_loss  Instances       Size\n"
     ]
    },
    {
     "name": "stderr",
     "output_type": "stream",
     "text": [
      "    119/230      2.37G     0.6605     0.4352      1.098          3        640: 100%|██████████| 27/27 [00:08<00:00,  3.24it/s]\n",
      "                 Class     Images  Instances      Box(P          R      mAP50  mAP50-95): 100%|██████████| 4/4 [00:01<00:00,  3.10it/s]"
     ]
    },
    {
     "name": "stdout",
     "output_type": "stream",
     "text": [
      "                   all        119        180      0.988      0.967      0.988      0.738\n"
     ]
    },
    {
     "name": "stderr",
     "output_type": "stream",
     "text": [
      "\n"
     ]
    },
    {
     "name": "stdout",
     "output_type": "stream",
     "text": [
      "\n",
      "      Epoch    GPU_mem   box_loss   cls_loss   dfl_loss  Instances       Size\n"
     ]
    },
    {
     "name": "stderr",
     "output_type": "stream",
     "text": [
      "    120/230      2.41G     0.6394     0.4225      1.063         11        640: 100%|██████████| 27/27 [00:08<00:00,  3.18it/s]\n",
      "                 Class     Images  Instances      Box(P          R      mAP50  mAP50-95): 100%|██████████| 4/4 [00:01<00:00,  3.17it/s]"
     ]
    },
    {
     "name": "stdout",
     "output_type": "stream",
     "text": [
      "                   all        119        180      0.979      0.978      0.987      0.719\n"
     ]
    },
    {
     "name": "stderr",
     "output_type": "stream",
     "text": [
      "\n"
     ]
    },
    {
     "name": "stdout",
     "output_type": "stream",
     "text": [
      "\n",
      "      Epoch    GPU_mem   box_loss   cls_loss   dfl_loss  Instances       Size\n"
     ]
    },
    {
     "name": "stderr",
     "output_type": "stream",
     "text": [
      "    121/230       2.4G     0.6116      0.409       1.06          4        640: 100%|██████████| 27/27 [00:08<00:00,  3.07it/s]\n",
      "                 Class     Images  Instances      Box(P          R      mAP50  mAP50-95): 100%|██████████| 4/4 [00:01<00:00,  3.28it/s]"
     ]
    },
    {
     "name": "stdout",
     "output_type": "stream",
     "text": [
      "                   all        119        180      0.973      0.989      0.991      0.731\n"
     ]
    },
    {
     "name": "stderr",
     "output_type": "stream",
     "text": [
      "\n"
     ]
    },
    {
     "name": "stdout",
     "output_type": "stream",
     "text": [
      "\n",
      "      Epoch    GPU_mem   box_loss   cls_loss   dfl_loss  Instances       Size\n"
     ]
    },
    {
     "name": "stderr",
     "output_type": "stream",
     "text": [
      "    122/230      2.42G     0.6278     0.4126      1.084          6        640: 100%|██████████| 27/27 [00:08<00:00,  3.19it/s]\n",
      "                 Class     Images  Instances      Box(P          R      mAP50  mAP50-95): 100%|██████████| 4/4 [00:01<00:00,  3.54it/s]"
     ]
    },
    {
     "name": "stdout",
     "output_type": "stream",
     "text": [
      "                   all        119        180      0.972      0.978      0.991      0.725\n"
     ]
    },
    {
     "name": "stderr",
     "output_type": "stream",
     "text": [
      "\n"
     ]
    },
    {
     "name": "stdout",
     "output_type": "stream",
     "text": [
      "\n",
      "      Epoch    GPU_mem   box_loss   cls_loss   dfl_loss  Instances       Size\n"
     ]
    },
    {
     "name": "stderr",
     "output_type": "stream",
     "text": [
      "    123/230      2.42G     0.6265     0.4144      1.059          9        640: 100%|██████████| 27/27 [00:08<00:00,  3.22it/s]\n",
      "                 Class     Images  Instances      Box(P          R      mAP50  mAP50-95): 100%|██████████| 4/4 [00:01<00:00,  3.45it/s]"
     ]
    },
    {
     "name": "stdout",
     "output_type": "stream",
     "text": [
      "                   all        119        180      0.978      0.977      0.985      0.735\n"
     ]
    },
    {
     "name": "stderr",
     "output_type": "stream",
     "text": [
      "\n"
     ]
    },
    {
     "name": "stdout",
     "output_type": "stream",
     "text": [
      "\n",
      "      Epoch    GPU_mem   box_loss   cls_loss   dfl_loss  Instances       Size\n"
     ]
    },
    {
     "name": "stderr",
     "output_type": "stream",
     "text": [
      "    124/230      2.44G     0.6351     0.4093      1.065         12        640: 100%|██████████| 27/27 [00:08<00:00,  3.19it/s]\n",
      "                 Class     Images  Instances      Box(P          R      mAP50  mAP50-95): 100%|██████████| 4/4 [00:01<00:00,  3.43it/s]"
     ]
    },
    {
     "name": "stdout",
     "output_type": "stream",
     "text": [
      "                   all        119        180      0.978      0.989      0.984      0.743\n"
     ]
    },
    {
     "name": "stderr",
     "output_type": "stream",
     "text": [
      "\n"
     ]
    },
    {
     "name": "stdout",
     "output_type": "stream",
     "text": [
      "\n",
      "      Epoch    GPU_mem   box_loss   cls_loss   dfl_loss  Instances       Size\n"
     ]
    },
    {
     "name": "stderr",
     "output_type": "stream",
     "text": [
      "    125/230       2.4G     0.6306     0.4382      1.095          4        640: 100%|██████████| 27/27 [00:08<00:00,  3.24it/s]\n",
      "                 Class     Images  Instances      Box(P          R      mAP50  mAP50-95): 100%|██████████| 4/4 [00:01<00:00,  3.52it/s]"
     ]
    },
    {
     "name": "stdout",
     "output_type": "stream",
     "text": [
      "                   all        119        180      0.977      0.989      0.985      0.751\n"
     ]
    },
    {
     "name": "stderr",
     "output_type": "stream",
     "text": [
      "\n"
     ]
    },
    {
     "name": "stdout",
     "output_type": "stream",
     "text": [
      "\n",
      "      Epoch    GPU_mem   box_loss   cls_loss   dfl_loss  Instances       Size\n"
     ]
    },
    {
     "name": "stderr",
     "output_type": "stream",
     "text": [
      "    126/230      2.43G     0.6101     0.3971      1.059          5        640: 100%|██████████| 27/27 [00:08<00:00,  3.23it/s]\n",
      "                 Class     Images  Instances      Box(P          R      mAP50  mAP50-95): 100%|██████████| 4/4 [00:01<00:00,  3.51it/s]"
     ]
    },
    {
     "name": "stdout",
     "output_type": "stream",
     "text": [
      "                   all        119        180      0.983      0.989      0.986      0.742\n"
     ]
    },
    {
     "name": "stderr",
     "output_type": "stream",
     "text": [
      "\n"
     ]
    },
    {
     "name": "stdout",
     "output_type": "stream",
     "text": [
      "\n",
      "      Epoch    GPU_mem   box_loss   cls_loss   dfl_loss  Instances       Size\n"
     ]
    },
    {
     "name": "stderr",
     "output_type": "stream",
     "text": [
      "    127/230      2.37G     0.6182     0.4225      1.081          4        640: 100%|██████████| 27/27 [00:08<00:00,  3.19it/s]\n",
      "                 Class     Images  Instances      Box(P          R      mAP50  mAP50-95): 100%|██████████| 4/4 [00:01<00:00,  3.61it/s]"
     ]
    },
    {
     "name": "stdout",
     "output_type": "stream",
     "text": [
      "                   all        119        180      0.978      0.976      0.985      0.751\n"
     ]
    },
    {
     "name": "stderr",
     "output_type": "stream",
     "text": [
      "\n"
     ]
    },
    {
     "name": "stdout",
     "output_type": "stream",
     "text": [
      "\n",
      "      Epoch    GPU_mem   box_loss   cls_loss   dfl_loss  Instances       Size\n"
     ]
    },
    {
     "name": "stderr",
     "output_type": "stream",
     "text": [
      "    128/230       2.4G     0.6483     0.4216       1.08          5        640: 100%|██████████| 27/27 [00:08<00:00,  3.21it/s]\n",
      "                 Class     Images  Instances      Box(P          R      mAP50  mAP50-95): 100%|██████████| 4/4 [00:01<00:00,  3.43it/s]"
     ]
    },
    {
     "name": "stdout",
     "output_type": "stream",
     "text": [
      "                   all        119        180      0.976      0.978      0.986      0.756\n"
     ]
    },
    {
     "name": "stderr",
     "output_type": "stream",
     "text": [
      "\n"
     ]
    },
    {
     "name": "stdout",
     "output_type": "stream",
     "text": [
      "\n",
      "      Epoch    GPU_mem   box_loss   cls_loss   dfl_loss  Instances       Size\n"
     ]
    },
    {
     "name": "stderr",
     "output_type": "stream",
     "text": [
      "    129/230       2.4G     0.5941     0.3934      1.041          8        640: 100%|██████████| 27/27 [00:08<00:00,  3.22it/s]\n",
      "                 Class     Images  Instances      Box(P          R      mAP50  mAP50-95): 100%|██████████| 4/4 [00:01<00:00,  3.39it/s]"
     ]
    },
    {
     "name": "stdout",
     "output_type": "stream",
     "text": [
      "                   all        119        180      0.972      0.989      0.989      0.752\n"
     ]
    },
    {
     "name": "stderr",
     "output_type": "stream",
     "text": [
      "\n"
     ]
    },
    {
     "name": "stdout",
     "output_type": "stream",
     "text": [
      "\n",
      "      Epoch    GPU_mem   box_loss   cls_loss   dfl_loss  Instances       Size\n"
     ]
    },
    {
     "name": "stderr",
     "output_type": "stream",
     "text": [
      "    130/230      2.42G     0.6015     0.4061       1.05          8        640: 100%|██████████| 27/27 [00:08<00:00,  3.24it/s]\n",
      "                 Class     Images  Instances      Box(P          R      mAP50  mAP50-95): 100%|██████████| 4/4 [00:01<00:00,  3.43it/s]"
     ]
    },
    {
     "name": "stdout",
     "output_type": "stream",
     "text": [
      "                   all        119        180      0.983      0.974      0.992      0.744\n"
     ]
    },
    {
     "name": "stderr",
     "output_type": "stream",
     "text": [
      "\n"
     ]
    },
    {
     "name": "stdout",
     "output_type": "stream",
     "text": [
      "\n",
      "      Epoch    GPU_mem   box_loss   cls_loss   dfl_loss  Instances       Size\n"
     ]
    },
    {
     "name": "stderr",
     "output_type": "stream",
     "text": [
      "    131/230      2.41G     0.6085     0.4069      1.048          8        640: 100%|██████████| 27/27 [00:08<00:00,  3.23it/s]\n",
      "                 Class     Images  Instances      Box(P          R      mAP50  mAP50-95): 100%|██████████| 4/4 [00:01<00:00,  3.42it/s]"
     ]
    },
    {
     "name": "stdout",
     "output_type": "stream",
     "text": [
      "                   all        119        180      0.977      0.989      0.992      0.748\n"
     ]
    },
    {
     "name": "stderr",
     "output_type": "stream",
     "text": [
      "\n"
     ]
    },
    {
     "name": "stdout",
     "output_type": "stream",
     "text": [
      "\n",
      "      Epoch    GPU_mem   box_loss   cls_loss   dfl_loss  Instances       Size\n"
     ]
    },
    {
     "name": "stderr",
     "output_type": "stream",
     "text": [
      "    132/230       2.4G     0.6259     0.4159      1.055          7        640: 100%|██████████| 27/27 [00:08<00:00,  3.21it/s]\n",
      "                 Class     Images  Instances      Box(P          R      mAP50  mAP50-95): 100%|██████████| 4/4 [00:01<00:00,  3.48it/s]"
     ]
    },
    {
     "name": "stdout",
     "output_type": "stream",
     "text": [
      "                   all        119        180      0.983      0.983      0.989      0.739\n"
     ]
    },
    {
     "name": "stderr",
     "output_type": "stream",
     "text": [
      "\n"
     ]
    },
    {
     "name": "stdout",
     "output_type": "stream",
     "text": [
      "\n",
      "      Epoch    GPU_mem   box_loss   cls_loss   dfl_loss  Instances       Size\n"
     ]
    },
    {
     "name": "stderr",
     "output_type": "stream",
     "text": [
      "    133/230      2.42G     0.6233     0.4234      1.056         13        640: 100%|██████████| 27/27 [00:08<00:00,  3.23it/s]\n",
      "                 Class     Images  Instances      Box(P          R      mAP50  mAP50-95): 100%|██████████| 4/4 [00:01<00:00,  3.49it/s]"
     ]
    },
    {
     "name": "stdout",
     "output_type": "stream",
     "text": [
      "                   all        119        180      0.994      0.976      0.987      0.747\n"
     ]
    },
    {
     "name": "stderr",
     "output_type": "stream",
     "text": [
      "\n"
     ]
    },
    {
     "name": "stdout",
     "output_type": "stream",
     "text": [
      "\n",
      "      Epoch    GPU_mem   box_loss   cls_loss   dfl_loss  Instances       Size\n"
     ]
    },
    {
     "name": "stderr",
     "output_type": "stream",
     "text": [
      "    134/230      2.38G     0.6004     0.4099      1.037          7        640: 100%|██████████| 27/27 [00:08<00:00,  3.18it/s]\n",
      "                 Class     Images  Instances      Box(P          R      mAP50  mAP50-95): 100%|██████████| 4/4 [00:01<00:00,  3.39it/s]"
     ]
    },
    {
     "name": "stdout",
     "output_type": "stream",
     "text": [
      "                   all        119        180      0.966      0.983      0.989      0.754\n"
     ]
    },
    {
     "name": "stderr",
     "output_type": "stream",
     "text": [
      "\n"
     ]
    },
    {
     "name": "stdout",
     "output_type": "stream",
     "text": [
      "\n",
      "      Epoch    GPU_mem   box_loss   cls_loss   dfl_loss  Instances       Size\n"
     ]
    },
    {
     "name": "stderr",
     "output_type": "stream",
     "text": [
      "    135/230      2.38G     0.5937     0.4036      1.036         12        640: 100%|██████████| 27/27 [00:08<00:00,  3.22it/s]\n",
      "                 Class     Images  Instances      Box(P          R      mAP50  mAP50-95): 100%|██████████| 4/4 [00:01<00:00,  3.44it/s]"
     ]
    },
    {
     "name": "stdout",
     "output_type": "stream",
     "text": [
      "                   all        119        180      0.977      0.983      0.992      0.763\n"
     ]
    },
    {
     "name": "stderr",
     "output_type": "stream",
     "text": [
      "\n"
     ]
    },
    {
     "name": "stdout",
     "output_type": "stream",
     "text": [
      "\n",
      "      Epoch    GPU_mem   box_loss   cls_loss   dfl_loss  Instances       Size\n"
     ]
    },
    {
     "name": "stderr",
     "output_type": "stream",
     "text": [
      "    136/230      2.41G     0.6043     0.4019      1.053         10        640: 100%|██████████| 27/27 [00:08<00:00,  3.20it/s]\n",
      "                 Class     Images  Instances      Box(P          R      mAP50  mAP50-95): 100%|██████████| 4/4 [00:01<00:00,  3.38it/s]"
     ]
    },
    {
     "name": "stdout",
     "output_type": "stream",
     "text": [
      "                   all        119        180      0.977      0.978      0.993      0.762\n"
     ]
    },
    {
     "name": "stderr",
     "output_type": "stream",
     "text": [
      "\n"
     ]
    },
    {
     "name": "stdout",
     "output_type": "stream",
     "text": [
      "\n",
      "      Epoch    GPU_mem   box_loss   cls_loss   dfl_loss  Instances       Size\n"
     ]
    },
    {
     "name": "stderr",
     "output_type": "stream",
     "text": [
      "    137/230      2.38G     0.5747     0.3831      1.044          5        640: 100%|██████████| 27/27 [00:08<00:00,  3.21it/s]\n",
      "                 Class     Images  Instances      Box(P          R      mAP50  mAP50-95): 100%|██████████| 4/4 [00:01<00:00,  3.46it/s]"
     ]
    },
    {
     "name": "stdout",
     "output_type": "stream",
     "text": [
      "                   all        119        180      0.961      0.978      0.991      0.736\n"
     ]
    },
    {
     "name": "stderr",
     "output_type": "stream",
     "text": [
      "\n"
     ]
    },
    {
     "name": "stdout",
     "output_type": "stream",
     "text": [
      "\n",
      "      Epoch    GPU_mem   box_loss   cls_loss   dfl_loss  Instances       Size\n"
     ]
    },
    {
     "name": "stderr",
     "output_type": "stream",
     "text": [
      "    138/230       2.4G     0.5904     0.3961      1.043          6        640: 100%|██████████| 27/27 [00:08<00:00,  3.22it/s]\n",
      "                 Class     Images  Instances      Box(P          R      mAP50  mAP50-95): 100%|██████████| 4/4 [00:01<00:00,  3.55it/s]"
     ]
    },
    {
     "name": "stdout",
     "output_type": "stream",
     "text": [
      "                   all        119        180      0.987      0.972       0.99      0.753\n"
     ]
    },
    {
     "name": "stderr",
     "output_type": "stream",
     "text": [
      "\n"
     ]
    },
    {
     "name": "stdout",
     "output_type": "stream",
     "text": [
      "\n",
      "      Epoch    GPU_mem   box_loss   cls_loss   dfl_loss  Instances       Size\n"
     ]
    },
    {
     "name": "stderr",
     "output_type": "stream",
     "text": [
      "    139/230      2.42G     0.5838     0.3856      1.041          7        640: 100%|██████████| 27/27 [00:08<00:00,  3.22it/s]\n",
      "                 Class     Images  Instances      Box(P          R      mAP50  mAP50-95): 100%|██████████| 4/4 [00:01<00:00,  3.57it/s]"
     ]
    },
    {
     "name": "stdout",
     "output_type": "stream",
     "text": [
      "                   all        119        180      0.982      0.989      0.992      0.763\n"
     ]
    },
    {
     "name": "stderr",
     "output_type": "stream",
     "text": [
      "\n"
     ]
    },
    {
     "name": "stdout",
     "output_type": "stream",
     "text": [
      "\n",
      "      Epoch    GPU_mem   box_loss   cls_loss   dfl_loss  Instances       Size\n"
     ]
    },
    {
     "name": "stderr",
     "output_type": "stream",
     "text": [
      "    140/230      2.43G     0.6049       0.41      1.063          4        640: 100%|██████████| 27/27 [00:08<00:00,  3.22it/s]\n",
      "                 Class     Images  Instances      Box(P          R      mAP50  mAP50-95): 100%|██████████| 4/4 [00:01<00:00,  3.48it/s]"
     ]
    },
    {
     "name": "stdout",
     "output_type": "stream",
     "text": [
      "                   all        119        180      0.981      0.978      0.991      0.758\n"
     ]
    },
    {
     "name": "stderr",
     "output_type": "stream",
     "text": [
      "\n"
     ]
    },
    {
     "name": "stdout",
     "output_type": "stream",
     "text": [
      "\n",
      "      Epoch    GPU_mem   box_loss   cls_loss   dfl_loss  Instances       Size\n"
     ]
    },
    {
     "name": "stderr",
     "output_type": "stream",
     "text": [
      "    141/230      2.38G     0.5802     0.3972       1.05          3        640: 100%|██████████| 27/27 [00:08<00:00,  3.23it/s]\n",
      "                 Class     Images  Instances      Box(P          R      mAP50  mAP50-95): 100%|██████████| 4/4 [00:01<00:00,  3.46it/s]"
     ]
    },
    {
     "name": "stdout",
     "output_type": "stream",
     "text": [
      "                   all        119        180      0.992      0.967      0.992      0.766\n"
     ]
    },
    {
     "name": "stderr",
     "output_type": "stream",
     "text": [
      "\n"
     ]
    },
    {
     "name": "stdout",
     "output_type": "stream",
     "text": [
      "\n",
      "      Epoch    GPU_mem   box_loss   cls_loss   dfl_loss  Instances       Size\n"
     ]
    },
    {
     "name": "stderr",
     "output_type": "stream",
     "text": [
      "    142/230       2.4G     0.5801     0.3847      1.046          9        640: 100%|██████████| 27/27 [00:08<00:00,  3.21it/s]\n",
      "                 Class     Images  Instances      Box(P          R      mAP50  mAP50-95): 100%|██████████| 4/4 [00:01<00:00,  3.45it/s]"
     ]
    },
    {
     "name": "stdout",
     "output_type": "stream",
     "text": [
      "                   all        119        180      0.978      0.989      0.992      0.763\n"
     ]
    },
    {
     "name": "stderr",
     "output_type": "stream",
     "text": [
      "\n"
     ]
    },
    {
     "name": "stdout",
     "output_type": "stream",
     "text": [
      "\n",
      "      Epoch    GPU_mem   box_loss   cls_loss   dfl_loss  Instances       Size\n"
     ]
    },
    {
     "name": "stderr",
     "output_type": "stream",
     "text": [
      "    143/230      2.35G     0.5709     0.3933      1.035          4        640: 100%|██████████| 27/27 [00:08<00:00,  3.24it/s]\n",
      "                 Class     Images  Instances      Box(P          R      mAP50  mAP50-95): 100%|██████████| 4/4 [00:01<00:00,  3.51it/s]"
     ]
    },
    {
     "name": "stdout",
     "output_type": "stream",
     "text": [
      "                   all        119        180      0.993      0.972       0.99      0.777\n"
     ]
    },
    {
     "name": "stderr",
     "output_type": "stream",
     "text": [
      "\n"
     ]
    },
    {
     "name": "stdout",
     "output_type": "stream",
     "text": [
      "\n",
      "      Epoch    GPU_mem   box_loss   cls_loss   dfl_loss  Instances       Size\n"
     ]
    },
    {
     "name": "stderr",
     "output_type": "stream",
     "text": [
      "    144/230      2.43G     0.5647     0.3795      1.037          3        640: 100%|██████████| 27/27 [00:08<00:00,  3.24it/s]\n",
      "                 Class     Images  Instances      Box(P          R      mAP50  mAP50-95): 100%|██████████| 4/4 [00:01<00:00,  3.32it/s]"
     ]
    },
    {
     "name": "stdout",
     "output_type": "stream",
     "text": [
      "                   all        119        180      0.987      0.961      0.985      0.772\n"
     ]
    },
    {
     "name": "stderr",
     "output_type": "stream",
     "text": [
      "\n"
     ]
    },
    {
     "name": "stdout",
     "output_type": "stream",
     "text": [
      "\n",
      "      Epoch    GPU_mem   box_loss   cls_loss   dfl_loss  Instances       Size\n"
     ]
    },
    {
     "name": "stderr",
     "output_type": "stream",
     "text": [
      "    145/230      2.43G     0.5757     0.3847      1.051          4        640: 100%|██████████| 27/27 [00:08<00:00,  3.26it/s]\n",
      "                 Class     Images  Instances      Box(P          R      mAP50  mAP50-95): 100%|██████████| 4/4 [00:01<00:00,  3.42it/s]"
     ]
    },
    {
     "name": "stdout",
     "output_type": "stream",
     "text": [
      "                   all        119        180      0.983      0.977      0.991      0.768\n"
     ]
    },
    {
     "name": "stderr",
     "output_type": "stream",
     "text": [
      "\n"
     ]
    },
    {
     "name": "stdout",
     "output_type": "stream",
     "text": [
      "\n",
      "      Epoch    GPU_mem   box_loss   cls_loss   dfl_loss  Instances       Size\n"
     ]
    },
    {
     "name": "stderr",
     "output_type": "stream",
     "text": [
      "    146/230       2.4G     0.5855     0.3884      1.041          6        640: 100%|██████████| 27/27 [00:08<00:00,  3.24it/s]\n",
      "                 Class     Images  Instances      Box(P          R      mAP50  mAP50-95): 100%|██████████| 4/4 [00:01<00:00,  3.46it/s]"
     ]
    },
    {
     "name": "stdout",
     "output_type": "stream",
     "text": [
      "                   all        119        180      0.962      0.987       0.99      0.743\n"
     ]
    },
    {
     "name": "stderr",
     "output_type": "stream",
     "text": [
      "\n"
     ]
    },
    {
     "name": "stdout",
     "output_type": "stream",
     "text": [
      "\n",
      "      Epoch    GPU_mem   box_loss   cls_loss   dfl_loss  Instances       Size\n"
     ]
    },
    {
     "name": "stderr",
     "output_type": "stream",
     "text": [
      "    147/230      2.37G     0.5713     0.3845      1.029          7        640: 100%|██████████| 27/27 [00:08<00:00,  3.19it/s]\n",
      "                 Class     Images  Instances      Box(P          R      mAP50  mAP50-95): 100%|██████████| 4/4 [00:01<00:00,  3.52it/s]"
     ]
    },
    {
     "name": "stdout",
     "output_type": "stream",
     "text": [
      "                   all        119        180      0.972      0.977      0.986      0.754\n"
     ]
    },
    {
     "name": "stderr",
     "output_type": "stream",
     "text": [
      "\n"
     ]
    },
    {
     "name": "stdout",
     "output_type": "stream",
     "text": [
      "\n",
      "      Epoch    GPU_mem   box_loss   cls_loss   dfl_loss  Instances       Size\n"
     ]
    },
    {
     "name": "stderr",
     "output_type": "stream",
     "text": [
      "    148/230      2.42G     0.5604     0.3702      1.033          8        640: 100%|██████████| 27/27 [00:08<00:00,  3.22it/s]\n",
      "                 Class     Images  Instances      Box(P          R      mAP50  mAP50-95): 100%|██████████| 4/4 [00:01<00:00,  3.47it/s]"
     ]
    },
    {
     "name": "stdout",
     "output_type": "stream",
     "text": [
      "                   all        119        180      0.971      0.972      0.985      0.751\n"
     ]
    },
    {
     "name": "stderr",
     "output_type": "stream",
     "text": [
      "\n"
     ]
    },
    {
     "name": "stdout",
     "output_type": "stream",
     "text": [
      "\n",
      "      Epoch    GPU_mem   box_loss   cls_loss   dfl_loss  Instances       Size\n"
     ]
    },
    {
     "name": "stderr",
     "output_type": "stream",
     "text": [
      "    149/230      2.38G     0.5744     0.3818      1.033          4        640: 100%|██████████| 27/27 [00:08<00:00,  3.23it/s]\n",
      "                 Class     Images  Instances      Box(P          R      mAP50  mAP50-95): 100%|██████████| 4/4 [00:01<00:00,  3.46it/s]"
     ]
    },
    {
     "name": "stdout",
     "output_type": "stream",
     "text": [
      "                   all        119        180      0.978      0.986      0.994      0.759\n"
     ]
    },
    {
     "name": "stderr",
     "output_type": "stream",
     "text": [
      "\n"
     ]
    },
    {
     "name": "stdout",
     "output_type": "stream",
     "text": [
      "\n",
      "      Epoch    GPU_mem   box_loss   cls_loss   dfl_loss  Instances       Size\n"
     ]
    },
    {
     "name": "stderr",
     "output_type": "stream",
     "text": [
      "    150/230      2.38G     0.5504     0.3733      1.019          5        640: 100%|██████████| 27/27 [00:08<00:00,  3.12it/s]\n",
      "                 Class     Images  Instances      Box(P          R      mAP50  mAP50-95): 100%|██████████| 4/4 [00:01<00:00,  3.51it/s]"
     ]
    },
    {
     "name": "stdout",
     "output_type": "stream",
     "text": [
      "                   all        119        180      0.967      0.987      0.992      0.759\n"
     ]
    },
    {
     "name": "stderr",
     "output_type": "stream",
     "text": [
      "\n"
     ]
    },
    {
     "name": "stdout",
     "output_type": "stream",
     "text": [
      "\n",
      "      Epoch    GPU_mem   box_loss   cls_loss   dfl_loss  Instances       Size\n"
     ]
    },
    {
     "name": "stderr",
     "output_type": "stream",
     "text": [
      "    151/230      2.37G      0.576     0.3924      1.042          5        640: 100%|██████████| 27/27 [05:28<00:00, 12.17s/it]\n",
      "                 Class     Images  Instances      Box(P          R      mAP50  mAP50-95): 100%|██████████| 4/4 [00:01<00:00,  3.31it/s]"
     ]
    },
    {
     "name": "stdout",
     "output_type": "stream",
     "text": [
      "                   all        119        180      0.977      0.967      0.983      0.725\n"
     ]
    },
    {
     "name": "stderr",
     "output_type": "stream",
     "text": [
      "\n"
     ]
    },
    {
     "name": "stdout",
     "output_type": "stream",
     "text": [
      "\n",
      "      Epoch    GPU_mem   box_loss   cls_loss   dfl_loss  Instances       Size\n"
     ]
    },
    {
     "name": "stderr",
     "output_type": "stream",
     "text": [
      "    152/230      2.38G     0.5708     0.3799      1.028          6        640: 100%|██████████| 27/27 [00:08<00:00,  3.15it/s]\n",
      "                 Class     Images  Instances      Box(P          R      mAP50  mAP50-95): 100%|██████████| 4/4 [00:01<00:00,  3.42it/s]"
     ]
    },
    {
     "name": "stdout",
     "output_type": "stream",
     "text": [
      "                   all        119        180      0.983      0.971      0.991      0.742\n"
     ]
    },
    {
     "name": "stderr",
     "output_type": "stream",
     "text": [
      "\n"
     ]
    },
    {
     "name": "stdout",
     "output_type": "stream",
     "text": [
      "\n",
      "      Epoch    GPU_mem   box_loss   cls_loss   dfl_loss  Instances       Size\n"
     ]
    },
    {
     "name": "stderr",
     "output_type": "stream",
     "text": [
      "    153/230      2.39G     0.5813     0.4037      1.051          8        640: 100%|██████████| 27/27 [00:08<00:00,  3.23it/s]\n",
      "                 Class     Images  Instances      Box(P          R      mAP50  mAP50-95): 100%|██████████| 4/4 [00:01<00:00,  3.10it/s]"
     ]
    },
    {
     "name": "stdout",
     "output_type": "stream",
     "text": [
      "                   all        119        180      0.967      0.977      0.991      0.733\n"
     ]
    },
    {
     "name": "stderr",
     "output_type": "stream",
     "text": [
      "\n"
     ]
    },
    {
     "name": "stdout",
     "output_type": "stream",
     "text": [
      "\n",
      "      Epoch    GPU_mem   box_loss   cls_loss   dfl_loss  Instances       Size\n"
     ]
    },
    {
     "name": "stderr",
     "output_type": "stream",
     "text": [
      "    154/230      2.42G     0.5839     0.4052      1.048          4        640: 100%|██████████| 27/27 [00:08<00:00,  3.00it/s]\n",
      "                 Class     Images  Instances      Box(P          R      mAP50  mAP50-95): 100%|██████████| 4/4 [00:01<00:00,  2.98it/s]"
     ]
    },
    {
     "name": "stdout",
     "output_type": "stream",
     "text": [
      "                   all        119        180      0.983       0.98      0.993      0.745\n"
     ]
    },
    {
     "name": "stderr",
     "output_type": "stream",
     "text": [
      "\n"
     ]
    },
    {
     "name": "stdout",
     "output_type": "stream",
     "text": [
      "\n",
      "      Epoch    GPU_mem   box_loss   cls_loss   dfl_loss  Instances       Size\n"
     ]
    },
    {
     "name": "stderr",
     "output_type": "stream",
     "text": [
      "    155/230      2.39G     0.5694     0.3826      1.027          6        640: 100%|██████████| 27/27 [00:09<00:00,  3.00it/s]\n",
      "                 Class     Images  Instances      Box(P          R      mAP50  mAP50-95): 100%|██████████| 4/4 [00:01<00:00,  3.20it/s]"
     ]
    },
    {
     "name": "stdout",
     "output_type": "stream",
     "text": [
      "                   all        119        180      0.983      0.977      0.992      0.741\n"
     ]
    },
    {
     "name": "stderr",
     "output_type": "stream",
     "text": [
      "\n"
     ]
    },
    {
     "name": "stdout",
     "output_type": "stream",
     "text": [
      "\n",
      "      Epoch    GPU_mem   box_loss   cls_loss   dfl_loss  Instances       Size\n"
     ]
    },
    {
     "name": "stderr",
     "output_type": "stream",
     "text": [
      "    156/230      2.38G     0.5587     0.3738      1.028          6        640: 100%|██████████| 27/27 [00:08<00:00,  3.07it/s]\n",
      "                 Class     Images  Instances      Box(P          R      mAP50  mAP50-95): 100%|██████████| 4/4 [00:01<00:00,  3.17it/s]"
     ]
    },
    {
     "name": "stdout",
     "output_type": "stream",
     "text": [
      "                   all        119        180      0.986      0.961      0.992      0.746\n"
     ]
    },
    {
     "name": "stderr",
     "output_type": "stream",
     "text": [
      "\n"
     ]
    },
    {
     "name": "stdout",
     "output_type": "stream",
     "text": [
      "\n",
      "      Epoch    GPU_mem   box_loss   cls_loss   dfl_loss  Instances       Size\n"
     ]
    },
    {
     "name": "stderr",
     "output_type": "stream",
     "text": [
      "    157/230      2.43G     0.5204     0.3587      1.019          8        640: 100%|██████████| 27/27 [00:08<00:00,  3.07it/s]\n",
      "                 Class     Images  Instances      Box(P          R      mAP50  mAP50-95): 100%|██████████| 4/4 [00:01<00:00,  3.24it/s]"
     ]
    },
    {
     "name": "stdout",
     "output_type": "stream",
     "text": [
      "                   all        119        180      0.976      0.961      0.985      0.734\n"
     ]
    },
    {
     "name": "stderr",
     "output_type": "stream",
     "text": [
      "\n"
     ]
    },
    {
     "name": "stdout",
     "output_type": "stream",
     "text": [
      "\n",
      "      Epoch    GPU_mem   box_loss   cls_loss   dfl_loss  Instances       Size\n"
     ]
    },
    {
     "name": "stderr",
     "output_type": "stream",
     "text": [
      "    158/230       2.4G     0.5407     0.3738      1.025          6        640: 100%|██████████| 27/27 [00:08<00:00,  3.10it/s]\n",
      "                 Class     Images  Instances      Box(P          R      mAP50  mAP50-95): 100%|██████████| 4/4 [00:01<00:00,  3.75it/s]"
     ]
    },
    {
     "name": "stdout",
     "output_type": "stream",
     "text": [
      "                   all        119        180      0.977      0.972      0.989      0.748\n"
     ]
    },
    {
     "name": "stderr",
     "output_type": "stream",
     "text": [
      "\n"
     ]
    },
    {
     "name": "stdout",
     "output_type": "stream",
     "text": [
      "\n",
      "      Epoch    GPU_mem   box_loss   cls_loss   dfl_loss  Instances       Size\n"
     ]
    },
    {
     "name": "stderr",
     "output_type": "stream",
     "text": [
      "    159/230      2.39G     0.5274     0.3571      1.044          5        640: 100%|██████████| 27/27 [00:08<00:00,  3.24it/s]\n",
      "                 Class     Images  Instances      Box(P          R      mAP50  mAP50-95): 100%|██████████| 4/4 [00:01<00:00,  3.05it/s]"
     ]
    },
    {
     "name": "stdout",
     "output_type": "stream",
     "text": [
      "                   all        119        180      0.989      0.976      0.993      0.755\n"
     ]
    },
    {
     "name": "stderr",
     "output_type": "stream",
     "text": [
      "\n"
     ]
    },
    {
     "name": "stdout",
     "output_type": "stream",
     "text": [
      "\n",
      "      Epoch    GPU_mem   box_loss   cls_loss   dfl_loss  Instances       Size\n"
     ]
    },
    {
     "name": "stderr",
     "output_type": "stream",
     "text": [
      "    160/230      2.42G     0.5885     0.3842      1.052          7        640: 100%|██████████| 27/27 [00:08<00:00,  3.08it/s]\n",
      "                 Class     Images  Instances      Box(P          R      mAP50  mAP50-95): 100%|██████████| 4/4 [00:01<00:00,  3.64it/s]"
     ]
    },
    {
     "name": "stdout",
     "output_type": "stream",
     "text": [
      "                   all        119        180      0.987      0.978      0.993      0.757\n"
     ]
    },
    {
     "name": "stderr",
     "output_type": "stream",
     "text": [
      "\n"
     ]
    },
    {
     "name": "stdout",
     "output_type": "stream",
     "text": [
      "\n",
      "      Epoch    GPU_mem   box_loss   cls_loss   dfl_loss  Instances       Size\n"
     ]
    },
    {
     "name": "stderr",
     "output_type": "stream",
     "text": [
      "    161/230      2.38G      0.568     0.3752      1.026          6        640: 100%|██████████| 27/27 [00:08<00:00,  3.12it/s]\n",
      "                 Class     Images  Instances      Box(P          R      mAP50  mAP50-95): 100%|██████████| 4/4 [00:01<00:00,  3.31it/s]"
     ]
    },
    {
     "name": "stdout",
     "output_type": "stream",
     "text": [
      "                   all        119        180      0.984      0.972      0.993      0.761\n"
     ]
    },
    {
     "name": "stderr",
     "output_type": "stream",
     "text": [
      "\n"
     ]
    },
    {
     "name": "stdout",
     "output_type": "stream",
     "text": [
      "\n",
      "      Epoch    GPU_mem   box_loss   cls_loss   dfl_loss  Instances       Size\n"
     ]
    },
    {
     "name": "stderr",
     "output_type": "stream",
     "text": [
      "    162/230       2.4G     0.5501     0.3718      1.024          8        640: 100%|██████████| 27/27 [00:08<00:00,  3.19it/s]\n",
      "                 Class     Images  Instances      Box(P          R      mAP50  mAP50-95): 100%|██████████| 4/4 [00:01<00:00,  3.48it/s]"
     ]
    },
    {
     "name": "stdout",
     "output_type": "stream",
     "text": [
      "                   all        119        180      0.983      0.978      0.987      0.753\n"
     ]
    },
    {
     "name": "stderr",
     "output_type": "stream",
     "text": [
      "\n"
     ]
    },
    {
     "name": "stdout",
     "output_type": "stream",
     "text": [
      "\n",
      "      Epoch    GPU_mem   box_loss   cls_loss   dfl_loss  Instances       Size\n"
     ]
    },
    {
     "name": "stderr",
     "output_type": "stream",
     "text": [
      "    163/230      2.37G     0.5392     0.3719      1.014          8        640: 100%|██████████| 27/27 [00:08<00:00,  3.20it/s]\n",
      "                 Class     Images  Instances      Box(P          R      mAP50  mAP50-95): 100%|██████████| 4/4 [00:01<00:00,  3.44it/s]"
     ]
    },
    {
     "name": "stdout",
     "output_type": "stream",
     "text": [
      "                   all        119        180      0.978      0.983      0.993      0.761\n"
     ]
    },
    {
     "name": "stderr",
     "output_type": "stream",
     "text": [
      "\n"
     ]
    },
    {
     "name": "stdout",
     "output_type": "stream",
     "text": [
      "\n",
      "      Epoch    GPU_mem   box_loss   cls_loss   dfl_loss  Instances       Size\n"
     ]
    },
    {
     "name": "stderr",
     "output_type": "stream",
     "text": [
      "    164/230       2.4G     0.5324     0.3623      1.022          4        640: 100%|██████████| 27/27 [00:08<00:00,  3.22it/s]\n",
      "                 Class     Images  Instances      Box(P          R      mAP50  mAP50-95): 100%|██████████| 4/4 [00:01<00:00,  3.50it/s]"
     ]
    },
    {
     "name": "stdout",
     "output_type": "stream",
     "text": [
      "                   all        119        180      0.971      0.983      0.993      0.774\n"
     ]
    },
    {
     "name": "stderr",
     "output_type": "stream",
     "text": [
      "\n"
     ]
    },
    {
     "name": "stdout",
     "output_type": "stream",
     "text": [
      "\n",
      "      Epoch    GPU_mem   box_loss   cls_loss   dfl_loss  Instances       Size\n"
     ]
    },
    {
     "name": "stderr",
     "output_type": "stream",
     "text": [
      "    165/230       2.4G     0.5478     0.3765      1.011          6        640: 100%|██████████| 27/27 [00:08<00:00,  3.24it/s]\n",
      "                 Class     Images  Instances      Box(P          R      mAP50  mAP50-95): 100%|██████████| 4/4 [00:01<00:00,  3.53it/s]"
     ]
    },
    {
     "name": "stdout",
     "output_type": "stream",
     "text": [
      "                   all        119        180      0.973      0.988      0.993      0.771\n"
     ]
    },
    {
     "name": "stderr",
     "output_type": "stream",
     "text": [
      "\n"
     ]
    },
    {
     "name": "stdout",
     "output_type": "stream",
     "text": [
      "\n",
      "      Epoch    GPU_mem   box_loss   cls_loss   dfl_loss  Instances       Size\n"
     ]
    },
    {
     "name": "stderr",
     "output_type": "stream",
     "text": [
      "    166/230       2.4G     0.5296     0.3556      1.009          9        640: 100%|██████████| 27/27 [00:08<00:00,  3.20it/s]\n",
      "                 Class     Images  Instances      Box(P          R      mAP50  mAP50-95): 100%|██████████| 4/4 [00:01<00:00,  3.45it/s]"
     ]
    },
    {
     "name": "stdout",
     "output_type": "stream",
     "text": [
      "                   all        119        180      0.983      0.981      0.993      0.761\n"
     ]
    },
    {
     "name": "stderr",
     "output_type": "stream",
     "text": [
      "\n"
     ]
    },
    {
     "name": "stdout",
     "output_type": "stream",
     "text": [
      "\n",
      "      Epoch    GPU_mem   box_loss   cls_loss   dfl_loss  Instances       Size\n"
     ]
    },
    {
     "name": "stderr",
     "output_type": "stream",
     "text": [
      "    167/230      2.41G     0.5131      0.352      1.005          4        640: 100%|██████████| 27/27 [00:08<00:00,  3.21it/s]\n",
      "                 Class     Images  Instances      Box(P          R      mAP50  mAP50-95): 100%|██████████| 4/4 [00:01<00:00,  3.41it/s]"
     ]
    },
    {
     "name": "stdout",
     "output_type": "stream",
     "text": [
      "                   all        119        180      0.983      0.972      0.992      0.778\n"
     ]
    },
    {
     "name": "stderr",
     "output_type": "stream",
     "text": [
      "\n"
     ]
    },
    {
     "name": "stdout",
     "output_type": "stream",
     "text": [
      "\n",
      "      Epoch    GPU_mem   box_loss   cls_loss   dfl_loss  Instances       Size\n"
     ]
    },
    {
     "name": "stderr",
     "output_type": "stream",
     "text": [
      "    168/230      2.42G     0.5359     0.3579      1.002         12        640: 100%|██████████| 27/27 [00:08<00:00,  3.21it/s]\n",
      "                 Class     Images  Instances      Box(P          R      mAP50  mAP50-95): 100%|██████████| 4/4 [00:01<00:00,  3.50it/s]"
     ]
    },
    {
     "name": "stdout",
     "output_type": "stream",
     "text": [
      "                   all        119        180      0.977      0.983      0.994      0.774\n"
     ]
    },
    {
     "name": "stderr",
     "output_type": "stream",
     "text": [
      "\n"
     ]
    },
    {
     "name": "stdout",
     "output_type": "stream",
     "text": [
      "\n",
      "      Epoch    GPU_mem   box_loss   cls_loss   dfl_loss  Instances       Size\n"
     ]
    },
    {
     "name": "stderr",
     "output_type": "stream",
     "text": [
      "    169/230       2.4G     0.5289      0.354      1.012          8        640: 100%|██████████| 27/27 [00:08<00:00,  3.23it/s]\n",
      "                 Class     Images  Instances      Box(P          R      mAP50  mAP50-95): 100%|██████████| 4/4 [00:01<00:00,  3.47it/s]"
     ]
    },
    {
     "name": "stdout",
     "output_type": "stream",
     "text": [
      "                   all        119        180      0.989      0.974      0.993      0.762\n"
     ]
    },
    {
     "name": "stderr",
     "output_type": "stream",
     "text": [
      "\n"
     ]
    },
    {
     "name": "stdout",
     "output_type": "stream",
     "text": [
      "\n",
      "      Epoch    GPU_mem   box_loss   cls_loss   dfl_loss  Instances       Size\n"
     ]
    },
    {
     "name": "stderr",
     "output_type": "stream",
     "text": [
      "    170/230      2.38G     0.5517     0.3733      1.037          4        640: 100%|██████████| 27/27 [00:08<00:00,  3.19it/s]\n",
      "                 Class     Images  Instances      Box(P          R      mAP50  mAP50-95): 100%|██████████| 4/4 [00:01<00:00,  3.49it/s]"
     ]
    },
    {
     "name": "stdout",
     "output_type": "stream",
     "text": [
      "                   all        119        180      0.978      0.982      0.992      0.763\n"
     ]
    },
    {
     "name": "stderr",
     "output_type": "stream",
     "text": [
      "\n"
     ]
    },
    {
     "name": "stdout",
     "output_type": "stream",
     "text": [
      "\n",
      "      Epoch    GPU_mem   box_loss   cls_loss   dfl_loss  Instances       Size\n"
     ]
    },
    {
     "name": "stderr",
     "output_type": "stream",
     "text": [
      "    171/230      2.39G     0.5177     0.3472      1.013         11        640: 100%|██████████| 27/27 [00:08<00:00,  3.21it/s]\n",
      "                 Class     Images  Instances      Box(P          R      mAP50  mAP50-95): 100%|██████████| 4/4 [00:01<00:00,  3.47it/s]"
     ]
    },
    {
     "name": "stdout",
     "output_type": "stream",
     "text": [
      "                   all        119        180      0.972      0.983      0.992      0.767\n"
     ]
    },
    {
     "name": "stderr",
     "output_type": "stream",
     "text": [
      "\n"
     ]
    },
    {
     "name": "stdout",
     "output_type": "stream",
     "text": [
      "\n",
      "      Epoch    GPU_mem   box_loss   cls_loss   dfl_loss  Instances       Size\n"
     ]
    },
    {
     "name": "stderr",
     "output_type": "stream",
     "text": [
      "    172/230       2.4G     0.5466     0.3579      1.031          7        640: 100%|██████████| 27/27 [00:08<00:00,  3.20it/s]\n",
      "                 Class     Images  Instances      Box(P          R      mAP50  mAP50-95): 100%|██████████| 4/4 [00:01<00:00,  3.49it/s]"
     ]
    },
    {
     "name": "stdout",
     "output_type": "stream",
     "text": [
      "                   all        119        180       0.96      0.983       0.99      0.766\n"
     ]
    },
    {
     "name": "stderr",
     "output_type": "stream",
     "text": [
      "\n"
     ]
    },
    {
     "name": "stdout",
     "output_type": "stream",
     "text": [
      "\n",
      "      Epoch    GPU_mem   box_loss   cls_loss   dfl_loss  Instances       Size\n"
     ]
    },
    {
     "name": "stderr",
     "output_type": "stream",
     "text": [
      "    173/230      2.38G     0.5054      0.353      1.001          5        640: 100%|██████████| 27/27 [00:08<00:00,  3.22it/s]\n",
      "                 Class     Images  Instances      Box(P          R      mAP50  mAP50-95): 100%|██████████| 4/4 [00:01<00:00,  3.50it/s]"
     ]
    },
    {
     "name": "stdout",
     "output_type": "stream",
     "text": [
      "                   all        119        180      0.966      0.978      0.991      0.764\n"
     ]
    },
    {
     "name": "stderr",
     "output_type": "stream",
     "text": [
      "\n"
     ]
    },
    {
     "name": "stdout",
     "output_type": "stream",
     "text": [
      "\n",
      "      Epoch    GPU_mem   box_loss   cls_loss   dfl_loss  Instances       Size\n"
     ]
    },
    {
     "name": "stderr",
     "output_type": "stream",
     "text": [
      "    174/230      2.43G     0.5118     0.3397     0.9985         12        640: 100%|██████████| 27/27 [00:08<00:00,  3.19it/s]\n",
      "                 Class     Images  Instances      Box(P          R      mAP50  mAP50-95): 100%|██████████| 4/4 [00:01<00:00,  3.50it/s]"
     ]
    },
    {
     "name": "stdout",
     "output_type": "stream",
     "text": [
      "                   all        119        180      0.967      0.981      0.991       0.77\n"
     ]
    },
    {
     "name": "stderr",
     "output_type": "stream",
     "text": [
      "\n"
     ]
    },
    {
     "name": "stdout",
     "output_type": "stream",
     "text": [
      "\n",
      "      Epoch    GPU_mem   box_loss   cls_loss   dfl_loss  Instances       Size\n"
     ]
    },
    {
     "name": "stderr",
     "output_type": "stream",
     "text": [
      "    175/230      2.42G     0.5323     0.3559      1.012          7        640: 100%|██████████| 27/27 [00:08<00:00,  3.20it/s]\n",
      "                 Class     Images  Instances      Box(P          R      mAP50  mAP50-95): 100%|██████████| 4/4 [00:01<00:00,  3.42it/s]"
     ]
    },
    {
     "name": "stdout",
     "output_type": "stream",
     "text": [
      "                   all        119        180       0.98      0.983      0.991      0.767\n"
     ]
    },
    {
     "name": "stderr",
     "output_type": "stream",
     "text": [
      "\n"
     ]
    },
    {
     "name": "stdout",
     "output_type": "stream",
     "text": [
      "\n",
      "      Epoch    GPU_mem   box_loss   cls_loss   dfl_loss  Instances       Size\n"
     ]
    },
    {
     "name": "stderr",
     "output_type": "stream",
     "text": [
      "    176/230      2.38G     0.5063      0.346      1.014          8        640: 100%|██████████| 27/27 [00:08<00:00,  3.22it/s]\n",
      "                 Class     Images  Instances      Box(P          R      mAP50  mAP50-95): 100%|██████████| 4/4 [00:01<00:00,  3.41it/s]"
     ]
    },
    {
     "name": "stdout",
     "output_type": "stream",
     "text": [
      "                   all        119        180      0.988      0.983       0.99      0.775\n"
     ]
    },
    {
     "name": "stderr",
     "output_type": "stream",
     "text": [
      "\n"
     ]
    },
    {
     "name": "stdout",
     "output_type": "stream",
     "text": [
      "\n",
      "      Epoch    GPU_mem   box_loss   cls_loss   dfl_loss  Instances       Size\n"
     ]
    },
    {
     "name": "stderr",
     "output_type": "stream",
     "text": [
      "    177/230      2.43G     0.5352     0.3586      1.012         11        640: 100%|██████████| 27/27 [00:08<00:00,  3.22it/s]\n",
      "                 Class     Images  Instances      Box(P          R      mAP50  mAP50-95): 100%|██████████| 4/4 [00:01<00:00,  3.53it/s]"
     ]
    },
    {
     "name": "stdout",
     "output_type": "stream",
     "text": [
      "                   all        119        180      0.989      0.983      0.993       0.77\n"
     ]
    },
    {
     "name": "stderr",
     "output_type": "stream",
     "text": [
      "\n"
     ]
    },
    {
     "name": "stdout",
     "output_type": "stream",
     "text": [
      "\n",
      "      Epoch    GPU_mem   box_loss   cls_loss   dfl_loss  Instances       Size\n"
     ]
    },
    {
     "name": "stderr",
     "output_type": "stream",
     "text": [
      "    178/230      2.38G       0.53     0.3579      1.013          6        640: 100%|██████████| 27/27 [00:08<00:00,  3.21it/s]\n",
      "                 Class     Images  Instances      Box(P          R      mAP50  mAP50-95): 100%|██████████| 4/4 [00:01<00:00,  3.48it/s]"
     ]
    },
    {
     "name": "stdout",
     "output_type": "stream",
     "text": [
      "                   all        119        180      0.989      0.976      0.992      0.761\n"
     ]
    },
    {
     "name": "stderr",
     "output_type": "stream",
     "text": [
      "\n"
     ]
    },
    {
     "name": "stdout",
     "output_type": "stream",
     "text": [
      "\n",
      "      Epoch    GPU_mem   box_loss   cls_loss   dfl_loss  Instances       Size\n"
     ]
    },
    {
     "name": "stderr",
     "output_type": "stream",
     "text": [
      "    179/230      2.37G     0.5336      0.347      1.019          8        640: 100%|██████████| 27/27 [00:08<00:00,  3.21it/s]\n",
      "                 Class     Images  Instances      Box(P          R      mAP50  mAP50-95): 100%|██████████| 4/4 [00:01<00:00,  3.46it/s]"
     ]
    },
    {
     "name": "stdout",
     "output_type": "stream",
     "text": [
      "                   all        119        180      0.989      0.978      0.993       0.76\n"
     ]
    },
    {
     "name": "stderr",
     "output_type": "stream",
     "text": [
      "\n"
     ]
    },
    {
     "name": "stdout",
     "output_type": "stream",
     "text": [
      "\n",
      "      Epoch    GPU_mem   box_loss   cls_loss   dfl_loss  Instances       Size\n"
     ]
    },
    {
     "name": "stderr",
     "output_type": "stream",
     "text": [
      "    180/230       2.4G      0.508     0.3426      1.013          5        640: 100%|██████████| 27/27 [00:08<00:00,  3.24it/s]\n",
      "                 Class     Images  Instances      Box(P          R      mAP50  mAP50-95): 100%|██████████| 4/4 [00:01<00:00,  3.50it/s]"
     ]
    },
    {
     "name": "stdout",
     "output_type": "stream",
     "text": [
      "                   all        119        180      0.982      0.983      0.993      0.768\n"
     ]
    },
    {
     "name": "stderr",
     "output_type": "stream",
     "text": [
      "\n"
     ]
    },
    {
     "name": "stdout",
     "output_type": "stream",
     "text": [
      "\n",
      "      Epoch    GPU_mem   box_loss   cls_loss   dfl_loss  Instances       Size\n"
     ]
    },
    {
     "name": "stderr",
     "output_type": "stream",
     "text": [
      "    181/230       2.4G     0.5061      0.341      1.004          6        640: 100%|██████████| 27/27 [00:08<00:00,  3.23it/s]\n",
      "                 Class     Images  Instances      Box(P          R      mAP50  mAP50-95): 100%|██████████| 4/4 [00:01<00:00,  3.41it/s]"
     ]
    },
    {
     "name": "stdout",
     "output_type": "stream",
     "text": [
      "                   all        119        180      0.989      0.977      0.992      0.776\n"
     ]
    },
    {
     "name": "stderr",
     "output_type": "stream",
     "text": [
      "\n"
     ]
    },
    {
     "name": "stdout",
     "output_type": "stream",
     "text": [
      "\n",
      "      Epoch    GPU_mem   box_loss   cls_loss   dfl_loss  Instances       Size\n"
     ]
    },
    {
     "name": "stderr",
     "output_type": "stream",
     "text": [
      "    182/230      2.42G     0.5108     0.3392      1.008          7        640: 100%|██████████| 27/27 [00:08<00:00,  3.22it/s]\n",
      "                 Class     Images  Instances      Box(P          R      mAP50  mAP50-95): 100%|██████████| 4/4 [00:01<00:00,  3.56it/s]"
     ]
    },
    {
     "name": "stdout",
     "output_type": "stream",
     "text": [
      "                   all        119        180      0.989      0.978      0.992      0.771\n"
     ]
    },
    {
     "name": "stderr",
     "output_type": "stream",
     "text": [
      "\n"
     ]
    },
    {
     "name": "stdout",
     "output_type": "stream",
     "text": [
      "\n",
      "      Epoch    GPU_mem   box_loss   cls_loss   dfl_loss  Instances       Size\n"
     ]
    },
    {
     "name": "stderr",
     "output_type": "stream",
     "text": [
      "    183/230      2.37G     0.5205     0.3641      1.004          7        640: 100%|██████████| 27/27 [00:08<00:00,  3.21it/s]\n",
      "                 Class     Images  Instances      Box(P          R      mAP50  mAP50-95): 100%|██████████| 4/4 [00:01<00:00,  3.43it/s]"
     ]
    },
    {
     "name": "stdout",
     "output_type": "stream",
     "text": [
      "                   all        119        180      0.988      0.978      0.992      0.762\n"
     ]
    },
    {
     "name": "stderr",
     "output_type": "stream",
     "text": [
      "\n"
     ]
    },
    {
     "name": "stdout",
     "output_type": "stream",
     "text": [
      "\n",
      "      Epoch    GPU_mem   box_loss   cls_loss   dfl_loss  Instances       Size\n"
     ]
    },
    {
     "name": "stderr",
     "output_type": "stream",
     "text": [
      "    184/230       2.4G     0.4874     0.3442     0.9901          3        640: 100%|██████████| 27/27 [00:08<00:00,  3.18it/s]\n",
      "                 Class     Images  Instances      Box(P          R      mAP50  mAP50-95): 100%|██████████| 4/4 [00:01<00:00,  3.44it/s]"
     ]
    },
    {
     "name": "stdout",
     "output_type": "stream",
     "text": [
      "                   all        119        180      0.986      0.978      0.991      0.764\n"
     ]
    },
    {
     "name": "stderr",
     "output_type": "stream",
     "text": [
      "\n"
     ]
    },
    {
     "name": "stdout",
     "output_type": "stream",
     "text": [
      "\n",
      "      Epoch    GPU_mem   box_loss   cls_loss   dfl_loss  Instances       Size\n"
     ]
    },
    {
     "name": "stderr",
     "output_type": "stream",
     "text": [
      "    185/230      2.38G     0.5152     0.3673      1.021          3        640: 100%|██████████| 27/27 [00:08<00:00,  3.22it/s]\n",
      "                 Class     Images  Instances      Box(P          R      mAP50  mAP50-95): 100%|██████████| 4/4 [00:01<00:00,  3.54it/s]"
     ]
    },
    {
     "name": "stdout",
     "output_type": "stream",
     "text": [
      "                   all        119        180      0.989      0.983      0.993      0.771\n"
     ]
    },
    {
     "name": "stderr",
     "output_type": "stream",
     "text": [
      "\n"
     ]
    },
    {
     "name": "stdout",
     "output_type": "stream",
     "text": [
      "\n",
      "      Epoch    GPU_mem   box_loss   cls_loss   dfl_loss  Instances       Size\n"
     ]
    },
    {
     "name": "stderr",
     "output_type": "stream",
     "text": [
      "    186/230       2.4G     0.5177     0.3425      1.002          6        640: 100%|██████████| 27/27 [00:08<00:00,  3.22it/s]\n",
      "                 Class     Images  Instances      Box(P          R      mAP50  mAP50-95): 100%|██████████| 4/4 [00:01<00:00,  3.40it/s]"
     ]
    },
    {
     "name": "stdout",
     "output_type": "stream",
     "text": [
      "                   all        119        180      0.988      0.983      0.989       0.77\n"
     ]
    },
    {
     "name": "stderr",
     "output_type": "stream",
     "text": [
      "\n"
     ]
    },
    {
     "name": "stdout",
     "output_type": "stream",
     "text": [
      "\n",
      "      Epoch    GPU_mem   box_loss   cls_loss   dfl_loss  Instances       Size\n"
     ]
    },
    {
     "name": "stderr",
     "output_type": "stream",
     "text": [
      "    187/230      2.38G     0.4955     0.3323      0.995         15        640: 100%|██████████| 27/27 [00:08<00:00,  3.21it/s]\n",
      "                 Class     Images  Instances      Box(P          R      mAP50  mAP50-95): 100%|██████████| 4/4 [00:01<00:00,  3.47it/s]"
     ]
    },
    {
     "name": "stdout",
     "output_type": "stream",
     "text": [
      "                   all        119        180      0.988      0.983      0.992       0.77\n"
     ]
    },
    {
     "name": "stderr",
     "output_type": "stream",
     "text": [
      "\n"
     ]
    },
    {
     "name": "stdout",
     "output_type": "stream",
     "text": [
      "\n",
      "      Epoch    GPU_mem   box_loss   cls_loss   dfl_loss  Instances       Size\n"
     ]
    },
    {
     "name": "stderr",
     "output_type": "stream",
     "text": [
      "    188/230       2.4G     0.4876     0.3334     0.9885          7        640: 100%|██████████| 27/27 [00:08<00:00,  3.23it/s]\n",
      "                 Class     Images  Instances      Box(P          R      mAP50  mAP50-95): 100%|██████████| 4/4 [00:01<00:00,  3.43it/s]"
     ]
    },
    {
     "name": "stdout",
     "output_type": "stream",
     "text": [
      "                   all        119        180      0.983      0.983      0.993      0.773\n"
     ]
    },
    {
     "name": "stderr",
     "output_type": "stream",
     "text": [
      "\n"
     ]
    },
    {
     "name": "stdout",
     "output_type": "stream",
     "text": [
      "\n",
      "      Epoch    GPU_mem   box_loss   cls_loss   dfl_loss  Instances       Size\n"
     ]
    },
    {
     "name": "stderr",
     "output_type": "stream",
     "text": [
      "    189/230      2.43G      0.489     0.3327     0.9933          6        640: 100%|██████████| 27/27 [00:08<00:00,  3.23it/s]\n",
      "                 Class     Images  Instances      Box(P          R      mAP50  mAP50-95): 100%|██████████| 4/4 [00:01<00:00,  3.48it/s]"
     ]
    },
    {
     "name": "stdout",
     "output_type": "stream",
     "text": [
      "                   all        119        180      0.989      0.981      0.991      0.769\n"
     ]
    },
    {
     "name": "stderr",
     "output_type": "stream",
     "text": [
      "\n"
     ]
    },
    {
     "name": "stdout",
     "output_type": "stream",
     "text": [
      "\n",
      "      Epoch    GPU_mem   box_loss   cls_loss   dfl_loss  Instances       Size\n"
     ]
    },
    {
     "name": "stderr",
     "output_type": "stream",
     "text": [
      "    190/230      2.38G     0.4933     0.3326          1          7        640: 100%|██████████| 27/27 [00:08<00:00,  3.22it/s]\n",
      "                 Class     Images  Instances      Box(P          R      mAP50  mAP50-95): 100%|██████████| 4/4 [00:01<00:00,  3.49it/s]"
     ]
    },
    {
     "name": "stdout",
     "output_type": "stream",
     "text": [
      "                   all        119        180      0.983      0.976      0.992      0.774\n"
     ]
    },
    {
     "name": "stderr",
     "output_type": "stream",
     "text": [
      "\n"
     ]
    },
    {
     "name": "stdout",
     "output_type": "stream",
     "text": [
      "\n",
      "      Epoch    GPU_mem   box_loss   cls_loss   dfl_loss  Instances       Size\n"
     ]
    },
    {
     "name": "stderr",
     "output_type": "stream",
     "text": [
      "    191/230      2.39G     0.4891      0.342      1.015          5        640: 100%|██████████| 27/27 [00:08<00:00,  3.19it/s]\n",
      "                 Class     Images  Instances      Box(P          R      mAP50  mAP50-95): 100%|██████████| 4/4 [00:01<00:00,  3.55it/s]"
     ]
    },
    {
     "name": "stdout",
     "output_type": "stream",
     "text": [
      "                   all        119        180      0.978      0.983      0.991      0.761\n"
     ]
    },
    {
     "name": "stderr",
     "output_type": "stream",
     "text": [
      "\n"
     ]
    },
    {
     "name": "stdout",
     "output_type": "stream",
     "text": [
      "\n",
      "      Epoch    GPU_mem   box_loss   cls_loss   dfl_loss  Instances       Size\n"
     ]
    },
    {
     "name": "stderr",
     "output_type": "stream",
     "text": [
      "    192/230      2.39G     0.5034     0.3393     0.9971         13        640: 100%|██████████| 27/27 [00:08<00:00,  3.25it/s]\n",
      "                 Class     Images  Instances      Box(P          R      mAP50  mAP50-95): 100%|██████████| 4/4 [00:01<00:00,  3.57it/s]"
     ]
    },
    {
     "name": "stdout",
     "output_type": "stream",
     "text": [
      "                   all        119        180      0.977      0.978      0.992      0.769\n"
     ]
    },
    {
     "name": "stderr",
     "output_type": "stream",
     "text": [
      "\n"
     ]
    },
    {
     "name": "stdout",
     "output_type": "stream",
     "text": [
      "\n",
      "      Epoch    GPU_mem   box_loss   cls_loss   dfl_loss  Instances       Size\n"
     ]
    },
    {
     "name": "stderr",
     "output_type": "stream",
     "text": [
      "    193/230      2.38G     0.5151     0.3407       1.01          5        640: 100%|██████████| 27/27 [02:05<00:00,  4.64s/it]\n",
      "                 Class     Images  Instances      Box(P          R      mAP50  mAP50-95): 100%|██████████| 4/4 [00:01<00:00,  3.32it/s]"
     ]
    },
    {
     "name": "stdout",
     "output_type": "stream",
     "text": [
      "                   all        119        180      0.964      0.994      0.993      0.773\n"
     ]
    },
    {
     "name": "stderr",
     "output_type": "stream",
     "text": [
      "\n"
     ]
    },
    {
     "name": "stdout",
     "output_type": "stream",
     "text": [
      "\n",
      "      Epoch    GPU_mem   box_loss   cls_loss   dfl_loss  Instances       Size\n"
     ]
    },
    {
     "name": "stderr",
     "output_type": "stream",
     "text": [
      "    194/230      2.38G     0.5033     0.3497     0.9966          8        640: 100%|██████████| 27/27 [00:08<00:00,  3.14it/s]\n",
      "                 Class     Images  Instances      Box(P          R      mAP50  mAP50-95): 100%|██████████| 4/4 [00:01<00:00,  3.50it/s]"
     ]
    },
    {
     "name": "stdout",
     "output_type": "stream",
     "text": [
      "                   all        119        180      0.967      0.989      0.993      0.766\n"
     ]
    },
    {
     "name": "stderr",
     "output_type": "stream",
     "text": [
      "\n"
     ]
    },
    {
     "name": "stdout",
     "output_type": "stream",
     "text": [
      "\n",
      "      Epoch    GPU_mem   box_loss   cls_loss   dfl_loss  Instances       Size\n"
     ]
    },
    {
     "name": "stderr",
     "output_type": "stream",
     "text": [
      "    195/230      2.37G      0.505     0.3503          1          4        640: 100%|██████████| 27/27 [00:08<00:00,  3.19it/s]\n",
      "                 Class     Images  Instances      Box(P          R      mAP50  mAP50-95): 100%|██████████| 4/4 [00:01<00:00,  3.47it/s]"
     ]
    },
    {
     "name": "stdout",
     "output_type": "stream",
     "text": [
      "                   all        119        180      0.972      0.981      0.993      0.774\n"
     ]
    },
    {
     "name": "stderr",
     "output_type": "stream",
     "text": [
      "\n"
     ]
    },
    {
     "name": "stdout",
     "output_type": "stream",
     "text": [
      "\n",
      "      Epoch    GPU_mem   box_loss   cls_loss   dfl_loss  Instances       Size\n"
     ]
    },
    {
     "name": "stderr",
     "output_type": "stream",
     "text": [
      "    196/230       2.4G     0.4874     0.3363     0.9878          5        640: 100%|██████████| 27/27 [00:08<00:00,  3.21it/s]\n",
      "                 Class     Images  Instances      Box(P          R      mAP50  mAP50-95): 100%|██████████| 4/4 [00:01<00:00,  3.37it/s]"
     ]
    },
    {
     "name": "stdout",
     "output_type": "stream",
     "text": [
      "                   all        119        180      0.994      0.963      0.992       0.78\n"
     ]
    },
    {
     "name": "stderr",
     "output_type": "stream",
     "text": [
      "\n"
     ]
    },
    {
     "name": "stdout",
     "output_type": "stream",
     "text": [
      "\n",
      "      Epoch    GPU_mem   box_loss   cls_loss   dfl_loss  Instances       Size\n"
     ]
    },
    {
     "name": "stderr",
     "output_type": "stream",
     "text": [
      "    197/230      2.39G     0.4727     0.3229     0.9823         10        640: 100%|██████████| 27/27 [00:08<00:00,  3.22it/s]\n",
      "                 Class     Images  Instances      Box(P          R      mAP50  mAP50-95): 100%|██████████| 4/4 [00:01<00:00,  3.42it/s]"
     ]
    },
    {
     "name": "stdout",
     "output_type": "stream",
     "text": [
      "                   all        119        180      0.978      0.983      0.988      0.778\n"
     ]
    },
    {
     "name": "stderr",
     "output_type": "stream",
     "text": [
      "\n"
     ]
    },
    {
     "name": "stdout",
     "output_type": "stream",
     "text": [
      "\n",
      "      Epoch    GPU_mem   box_loss   cls_loss   dfl_loss  Instances       Size\n"
     ]
    },
    {
     "name": "stderr",
     "output_type": "stream",
     "text": [
      "    198/230      2.42G     0.4762     0.3255     0.9802         12        640: 100%|██████████| 27/27 [00:08<00:00,  3.22it/s]\n",
      "                 Class     Images  Instances      Box(P          R      mAP50  mAP50-95): 100%|██████████| 4/4 [00:01<00:00,  3.43it/s]"
     ]
    },
    {
     "name": "stdout",
     "output_type": "stream",
     "text": [
      "                   all        119        180      0.989      0.981      0.988      0.781\n"
     ]
    },
    {
     "name": "stderr",
     "output_type": "stream",
     "text": [
      "\n"
     ]
    },
    {
     "name": "stdout",
     "output_type": "stream",
     "text": [
      "\n",
      "      Epoch    GPU_mem   box_loss   cls_loss   dfl_loss  Instances       Size\n"
     ]
    },
    {
     "name": "stderr",
     "output_type": "stream",
     "text": [
      "    199/230      2.42G     0.4719     0.3231     0.9903          7        640: 100%|██████████| 27/27 [00:08<00:00,  3.20it/s]\n",
      "                 Class     Images  Instances      Box(P          R      mAP50  mAP50-95): 100%|██████████| 4/4 [00:01<00:00,  3.46it/s]"
     ]
    },
    {
     "name": "stdout",
     "output_type": "stream",
     "text": [
      "                   all        119        180      0.991      0.978      0.987      0.774\n"
     ]
    },
    {
     "name": "stderr",
     "output_type": "stream",
     "text": [
      "\n"
     ]
    },
    {
     "name": "stdout",
     "output_type": "stream",
     "text": [
      "\n",
      "      Epoch    GPU_mem   box_loss   cls_loss   dfl_loss  Instances       Size\n"
     ]
    },
    {
     "name": "stderr",
     "output_type": "stream",
     "text": [
      "    200/230       2.4G     0.4772     0.3248     0.9889          7        640: 100%|██████████| 27/27 [00:08<00:00,  3.24it/s]\n",
      "                 Class     Images  Instances      Box(P          R      mAP50  mAP50-95): 100%|██████████| 4/4 [00:01<00:00,  3.56it/s]"
     ]
    },
    {
     "name": "stdout",
     "output_type": "stream",
     "text": [
      "                   all        119        180      0.986      0.978      0.986      0.772\n"
     ]
    },
    {
     "name": "stderr",
     "output_type": "stream",
     "text": [
      "\n"
     ]
    },
    {
     "name": "stdout",
     "output_type": "stream",
     "text": [
      "\n",
      "      Epoch    GPU_mem   box_loss   cls_loss   dfl_loss  Instances       Size\n"
     ]
    },
    {
     "name": "stderr",
     "output_type": "stream",
     "text": [
      "    201/230      2.38G     0.4624     0.3146     0.9866          6        640: 100%|██████████| 27/27 [00:08<00:00,  3.23it/s]\n",
      "                 Class     Images  Instances      Box(P          R      mAP50  mAP50-95): 100%|██████████| 4/4 [00:01<00:00,  3.53it/s]"
     ]
    },
    {
     "name": "stdout",
     "output_type": "stream",
     "text": [
      "                   all        119        180      0.977      0.983      0.989      0.779\n"
     ]
    },
    {
     "name": "stderr",
     "output_type": "stream",
     "text": [
      "\n"
     ]
    },
    {
     "name": "stdout",
     "output_type": "stream",
     "text": [
      "\n",
      "      Epoch    GPU_mem   box_loss   cls_loss   dfl_loss  Instances       Size\n"
     ]
    },
    {
     "name": "stderr",
     "output_type": "stream",
     "text": [
      "    202/230      2.42G     0.4639     0.3186     0.9841          7        640: 100%|██████████| 27/27 [00:08<00:00,  3.23it/s]\n",
      "                 Class     Images  Instances      Box(P          R      mAP50  mAP50-95): 100%|██████████| 4/4 [00:01<00:00,  3.53it/s]"
     ]
    },
    {
     "name": "stdout",
     "output_type": "stream",
     "text": [
      "                   all        119        180      0.982      0.983      0.986      0.776\n"
     ]
    },
    {
     "name": "stderr",
     "output_type": "stream",
     "text": [
      "\n"
     ]
    },
    {
     "name": "stdout",
     "output_type": "stream",
     "text": [
      "\n",
      "      Epoch    GPU_mem   box_loss   cls_loss   dfl_loss  Instances       Size\n"
     ]
    },
    {
     "name": "stderr",
     "output_type": "stream",
     "text": [
      "    203/230      2.37G     0.4542     0.3167     0.9789          7        640: 100%|██████████| 27/27 [00:08<00:00,  3.20it/s]\n",
      "                 Class     Images  Instances      Box(P          R      mAP50  mAP50-95): 100%|██████████| 4/4 [00:01<00:00,  3.47it/s]"
     ]
    },
    {
     "name": "stdout",
     "output_type": "stream",
     "text": [
      "                   all        119        180      0.982      0.983      0.986       0.78\n"
     ]
    },
    {
     "name": "stderr",
     "output_type": "stream",
     "text": [
      "\n"
     ]
    },
    {
     "name": "stdout",
     "output_type": "stream",
     "text": [
      "\n",
      "      Epoch    GPU_mem   box_loss   cls_loss   dfl_loss  Instances       Size\n"
     ]
    },
    {
     "name": "stderr",
     "output_type": "stream",
     "text": [
      "    204/230      2.43G      0.486     0.3378     0.9757          9        640: 100%|██████████| 27/27 [00:08<00:00,  3.23it/s]\n",
      "                 Class     Images  Instances      Box(P          R      mAP50  mAP50-95): 100%|██████████| 4/4 [00:01<00:00,  3.47it/s]"
     ]
    },
    {
     "name": "stdout",
     "output_type": "stream",
     "text": [
      "                   all        119        180      0.978      0.983      0.988      0.776\n"
     ]
    },
    {
     "name": "stderr",
     "output_type": "stream",
     "text": [
      "\n"
     ]
    },
    {
     "name": "stdout",
     "output_type": "stream",
     "text": [
      "\n",
      "      Epoch    GPU_mem   box_loss   cls_loss   dfl_loss  Instances       Size\n"
     ]
    },
    {
     "name": "stderr",
     "output_type": "stream",
     "text": [
      "    205/230       2.4G     0.4682     0.3213      0.991          7        640: 100%|██████████| 27/27 [00:08<00:00,  3.23it/s]\n",
      "                 Class     Images  Instances      Box(P          R      mAP50  mAP50-95): 100%|██████████| 4/4 [00:01<00:00,  3.53it/s]"
     ]
    },
    {
     "name": "stdout",
     "output_type": "stream",
     "text": [
      "                   all        119        180      0.978      0.983       0.99      0.771\n"
     ]
    },
    {
     "name": "stderr",
     "output_type": "stream",
     "text": [
      "\n"
     ]
    },
    {
     "name": "stdout",
     "output_type": "stream",
     "text": [
      "\n",
      "      Epoch    GPU_mem   box_loss   cls_loss   dfl_loss  Instances       Size\n"
     ]
    },
    {
     "name": "stderr",
     "output_type": "stream",
     "text": [
      "    206/230      2.43G     0.4762     0.3213     0.9739          5        640: 100%|██████████| 27/27 [00:08<00:00,  3.19it/s]\n",
      "                 Class     Images  Instances      Box(P          R      mAP50  mAP50-95): 100%|██████████| 4/4 [00:01<00:00,  3.54it/s]"
     ]
    },
    {
     "name": "stdout",
     "output_type": "stream",
     "text": [
      "                   all        119        180      0.989      0.974      0.987      0.777\n"
     ]
    },
    {
     "name": "stderr",
     "output_type": "stream",
     "text": [
      "\n"
     ]
    },
    {
     "name": "stdout",
     "output_type": "stream",
     "text": [
      "\n",
      "      Epoch    GPU_mem   box_loss   cls_loss   dfl_loss  Instances       Size\n"
     ]
    },
    {
     "name": "stderr",
     "output_type": "stream",
     "text": [
      "    207/230      2.41G       0.46     0.3219     0.9698          7        640: 100%|██████████| 27/27 [00:08<00:00,  3.22it/s]\n",
      "                 Class     Images  Instances      Box(P          R      mAP50  mAP50-95): 100%|██████████| 4/4 [00:01<00:00,  3.51it/s]"
     ]
    },
    {
     "name": "stdout",
     "output_type": "stream",
     "text": [
      "                   all        119        180      0.994      0.974      0.989      0.774\n"
     ]
    },
    {
     "name": "stderr",
     "output_type": "stream",
     "text": [
      "\n"
     ]
    },
    {
     "name": "stdout",
     "output_type": "stream",
     "text": [
      "\n",
      "      Epoch    GPU_mem   box_loss   cls_loss   dfl_loss  Instances       Size\n"
     ]
    },
    {
     "name": "stderr",
     "output_type": "stream",
     "text": [
      "    208/230       2.4G     0.4657     0.3112     0.9808         12        640: 100%|██████████| 27/27 [00:08<00:00,  3.20it/s]\n",
      "                 Class     Images  Instances      Box(P          R      mAP50  mAP50-95): 100%|██████████| 4/4 [00:01<00:00,  3.43it/s]"
     ]
    },
    {
     "name": "stdout",
     "output_type": "stream",
     "text": [
      "                   all        119        180      0.992      0.972      0.988      0.774\n"
     ]
    },
    {
     "name": "stderr",
     "output_type": "stream",
     "text": [
      "\n"
     ]
    },
    {
     "name": "stdout",
     "output_type": "stream",
     "text": [
      "\n",
      "      Epoch    GPU_mem   box_loss   cls_loss   dfl_loss  Instances       Size\n"
     ]
    },
    {
     "name": "stderr",
     "output_type": "stream",
     "text": [
      "    209/230       2.4G     0.4472     0.3201     0.9928          7        640: 100%|██████████| 27/27 [00:08<00:00,  3.24it/s]\n",
      "                 Class     Images  Instances      Box(P          R      mAP50  mAP50-95): 100%|██████████| 4/4 [00:01<00:00,  3.43it/s]"
     ]
    },
    {
     "name": "stdout",
     "output_type": "stream",
     "text": [
      "                   all        119        180      0.988      0.972      0.992      0.765\n"
     ]
    },
    {
     "name": "stderr",
     "output_type": "stream",
     "text": [
      "\n"
     ]
    },
    {
     "name": "stdout",
     "output_type": "stream",
     "text": [
      "\n",
      "      Epoch    GPU_mem   box_loss   cls_loss   dfl_loss  Instances       Size\n"
     ]
    },
    {
     "name": "stderr",
     "output_type": "stream",
     "text": [
      "    210/230      2.39G     0.4502     0.3088     0.9676         15        640: 100%|██████████| 27/27 [00:08<00:00,  3.21it/s]\n",
      "                 Class     Images  Instances      Box(P          R      mAP50  mAP50-95): 100%|██████████| 4/4 [00:01<00:00,  3.60it/s]"
     ]
    },
    {
     "name": "stdout",
     "output_type": "stream",
     "text": [
      "                   all        119        180      0.993      0.972      0.993      0.765\n"
     ]
    },
    {
     "name": "stderr",
     "output_type": "stream",
     "text": [
      "\n"
     ]
    },
    {
     "name": "stdout",
     "output_type": "stream",
     "text": [
      "\n",
      "      Epoch    GPU_mem   box_loss   cls_loss   dfl_loss  Instances       Size\n"
     ]
    },
    {
     "name": "stderr",
     "output_type": "stream",
     "text": [
      "    211/230      2.39G     0.4665     0.3293     0.9873         15        640: 100%|██████████| 27/27 [00:08<00:00,  3.22it/s]\n",
      "                 Class     Images  Instances      Box(P          R      mAP50  mAP50-95): 100%|██████████| 4/4 [00:01<00:00,  3.46it/s]"
     ]
    },
    {
     "name": "stdout",
     "output_type": "stream",
     "text": [
      "                   all        119        180      0.989       0.97      0.991      0.773\n"
     ]
    },
    {
     "name": "stderr",
     "output_type": "stream",
     "text": [
      "\n"
     ]
    },
    {
     "name": "stdout",
     "output_type": "stream",
     "text": [
      "\n",
      "      Epoch    GPU_mem   box_loss   cls_loss   dfl_loss  Instances       Size\n"
     ]
    },
    {
     "name": "stderr",
     "output_type": "stream",
     "text": [
      "    212/230       2.4G     0.4287     0.2973     0.9729          8        640: 100%|██████████| 27/27 [00:08<00:00,  3.23it/s]\n",
      "                 Class     Images  Instances      Box(P          R      mAP50  mAP50-95): 100%|██████████| 4/4 [00:01<00:00,  3.45it/s]"
     ]
    },
    {
     "name": "stdout",
     "output_type": "stream",
     "text": [
      "                   all        119        180      0.977      0.983      0.992      0.775\n"
     ]
    },
    {
     "name": "stderr",
     "output_type": "stream",
     "text": [
      "\n"
     ]
    },
    {
     "name": "stdout",
     "output_type": "stream",
     "text": [
      "\n",
      "      Epoch    GPU_mem   box_loss   cls_loss   dfl_loss  Instances       Size\n"
     ]
    },
    {
     "name": "stderr",
     "output_type": "stream",
     "text": [
      "    213/230      2.41G     0.4544     0.3204     0.9671         11        640: 100%|██████████| 27/27 [00:08<00:00,  3.22it/s]\n",
      "                 Class     Images  Instances      Box(P          R      mAP50  mAP50-95): 100%|██████████| 4/4 [00:01<00:00,  3.41it/s]"
     ]
    },
    {
     "name": "stdout",
     "output_type": "stream",
     "text": [
      "                   all        119        180      0.982      0.972      0.992      0.769\n"
     ]
    },
    {
     "name": "stderr",
     "output_type": "stream",
     "text": [
      "\n"
     ]
    },
    {
     "name": "stdout",
     "output_type": "stream",
     "text": [
      "\n",
      "      Epoch    GPU_mem   box_loss   cls_loss   dfl_loss  Instances       Size\n"
     ]
    },
    {
     "name": "stderr",
     "output_type": "stream",
     "text": [
      "    214/230       2.4G     0.4483       0.31      0.981         10        640: 100%|██████████| 27/27 [00:08<00:00,  3.21it/s]\n",
      "                 Class     Images  Instances      Box(P          R      mAP50  mAP50-95): 100%|██████████| 4/4 [00:01<00:00,  3.55it/s]"
     ]
    },
    {
     "name": "stdout",
     "output_type": "stream",
     "text": [
      "                   all        119        180      0.983      0.972      0.992      0.772\n"
     ]
    },
    {
     "name": "stderr",
     "output_type": "stream",
     "text": [
      "\n"
     ]
    },
    {
     "name": "stdout",
     "output_type": "stream",
     "text": [
      "\n",
      "      Epoch    GPU_mem   box_loss   cls_loss   dfl_loss  Instances       Size\n"
     ]
    },
    {
     "name": "stderr",
     "output_type": "stream",
     "text": [
      "    215/230      2.39G      0.436     0.3081     0.9672          7        640: 100%|██████████| 27/27 [00:08<00:00,  3.21it/s]\n",
      "                 Class     Images  Instances      Box(P          R      mAP50  mAP50-95): 100%|██████████| 4/4 [00:01<00:00,  3.58it/s]"
     ]
    },
    {
     "name": "stdout",
     "output_type": "stream",
     "text": [
      "                   all        119        180      0.982      0.972      0.993      0.777\n"
     ]
    },
    {
     "name": "stderr",
     "output_type": "stream",
     "text": [
      "\n"
     ]
    },
    {
     "name": "stdout",
     "output_type": "stream",
     "text": [
      "\n",
      "      Epoch    GPU_mem   box_loss   cls_loss   dfl_loss  Instances       Size\n"
     ]
    },
    {
     "name": "stderr",
     "output_type": "stream",
     "text": [
      "    216/230       2.4G     0.4356     0.3175     0.9782          3        640: 100%|██████████| 27/27 [00:08<00:00,  3.23it/s]\n",
      "                 Class     Images  Instances      Box(P          R      mAP50  mAP50-95): 100%|██████████| 4/4 [00:01<00:00,  3.52it/s]"
     ]
    },
    {
     "name": "stdout",
     "output_type": "stream",
     "text": [
      "                   all        119        180      0.972      0.981      0.993      0.774\n"
     ]
    },
    {
     "name": "stderr",
     "output_type": "stream",
     "text": [
      "\n"
     ]
    },
    {
     "name": "stdout",
     "output_type": "stream",
     "text": [
      "\n",
      "      Epoch    GPU_mem   box_loss   cls_loss   dfl_loss  Instances       Size\n"
     ]
    },
    {
     "name": "stderr",
     "output_type": "stream",
     "text": [
      "    217/230      2.38G     0.4424     0.3111     0.9764          6        640: 100%|██████████| 27/27 [00:08<00:00,  3.22it/s]\n",
      "                 Class     Images  Instances      Box(P          R      mAP50  mAP50-95): 100%|██████████| 4/4 [00:01<00:00,  3.44it/s]"
     ]
    },
    {
     "name": "stdout",
     "output_type": "stream",
     "text": [
      "                   all        119        180      0.983      0.971      0.993      0.772\n"
     ]
    },
    {
     "name": "stderr",
     "output_type": "stream",
     "text": [
      "\n"
     ]
    },
    {
     "name": "stdout",
     "output_type": "stream",
     "text": [
      "\n",
      "      Epoch    GPU_mem   box_loss   cls_loss   dfl_loss  Instances       Size\n"
     ]
    },
    {
     "name": "stderr",
     "output_type": "stream",
     "text": [
      "    218/230      2.41G     0.4573     0.3194     0.9731         13        640: 100%|██████████| 27/27 [00:08<00:00,  3.22it/s]\n",
      "                 Class     Images  Instances      Box(P          R      mAP50  mAP50-95): 100%|██████████| 4/4 [00:01<00:00,  3.59it/s]"
     ]
    },
    {
     "name": "stdout",
     "output_type": "stream",
     "text": [
      "                   all        119        180      0.983      0.972      0.993      0.778\n"
     ]
    },
    {
     "name": "stderr",
     "output_type": "stream",
     "text": [
      "\n"
     ]
    },
    {
     "name": "stdout",
     "output_type": "stream",
     "text": [
      "\n",
      "      Epoch    GPU_mem   box_loss   cls_loss   dfl_loss  Instances       Size\n"
     ]
    },
    {
     "name": "stderr",
     "output_type": "stream",
     "text": [
      "    219/230      2.37G     0.4592     0.3206      1.004          5        640: 100%|██████████| 27/27 [00:08<00:00,  3.21it/s]\n",
      "                 Class     Images  Instances      Box(P          R      mAP50  mAP50-95): 100%|██████████| 4/4 [00:01<00:00,  3.48it/s]"
     ]
    },
    {
     "name": "stdout",
     "output_type": "stream",
     "text": [
      "                   all        119        180      0.983      0.972      0.993      0.775\n"
     ]
    },
    {
     "name": "stderr",
     "output_type": "stream",
     "text": [
      "\n"
     ]
    },
    {
     "name": "stdout",
     "output_type": "stream",
     "text": [
      "\n",
      "      Epoch    GPU_mem   box_loss   cls_loss   dfl_loss  Instances       Size\n"
     ]
    },
    {
     "name": "stderr",
     "output_type": "stream",
     "text": [
      "    220/230      2.38G     0.4512     0.3134     0.9831          5        640: 100%|██████████| 27/27 [00:09<00:00,  2.82it/s]\n",
      "                 Class     Images  Instances      Box(P          R      mAP50  mAP50-95): 100%|██████████| 4/4 [00:01<00:00,  3.39it/s]"
     ]
    },
    {
     "name": "stdout",
     "output_type": "stream",
     "text": [
      "                   all        119        180      0.978      0.977      0.993      0.775\n"
     ]
    },
    {
     "name": "stderr",
     "output_type": "stream",
     "text": [
      "\n"
     ]
    },
    {
     "name": "stdout",
     "output_type": "stream",
     "text": [
      "Closing dataloader mosaic\n",
      "\n",
      "      Epoch    GPU_mem   box_loss   cls_loss   dfl_loss  Instances       Size\n"
     ]
    },
    {
     "name": "stderr",
     "output_type": "stream",
     "text": [
      "    221/230      2.38G     0.4124     0.2916     0.9723          3        640: 100%|██████████| 27/27 [00:08<00:00,  3.16it/s]\n",
      "                 Class     Images  Instances      Box(P          R      mAP50  mAP50-95): 100%|██████████| 4/4 [00:01<00:00,  3.44it/s]"
     ]
    },
    {
     "name": "stdout",
     "output_type": "stream",
     "text": [
      "                   all        119        180      0.982      0.972      0.993      0.772\n"
     ]
    },
    {
     "name": "stderr",
     "output_type": "stream",
     "text": [
      "\n"
     ]
    },
    {
     "name": "stdout",
     "output_type": "stream",
     "text": [
      "\n",
      "      Epoch    GPU_mem   box_loss   cls_loss   dfl_loss  Instances       Size\n"
     ]
    },
    {
     "name": "stderr",
     "output_type": "stream",
     "text": [
      "    222/230      2.38G     0.4006      0.272     0.9356          4        640: 100%|██████████| 27/27 [00:08<00:00,  3.26it/s]\n",
      "                 Class     Images  Instances      Box(P          R      mAP50  mAP50-95): 100%|██████████| 4/4 [00:01<00:00,  3.63it/s]"
     ]
    },
    {
     "name": "stdout",
     "output_type": "stream",
     "text": [
      "                   all        119        180      0.983      0.972      0.993      0.775\n"
     ]
    },
    {
     "name": "stderr",
     "output_type": "stream",
     "text": [
      "\n"
     ]
    },
    {
     "name": "stdout",
     "output_type": "stream",
     "text": [
      "\n",
      "      Epoch    GPU_mem   box_loss   cls_loss   dfl_loss  Instances       Size\n"
     ]
    },
    {
     "name": "stderr",
     "output_type": "stream",
     "text": [
      "    223/230      2.37G     0.4041     0.2885      0.974          2        640: 100%|██████████| 27/27 [07:11<00:00, 15.99s/it]\n",
      "                 Class     Images  Instances      Box(P          R      mAP50  mAP50-95): 100%|██████████| 4/4 [00:01<00:00,  3.33it/s]"
     ]
    },
    {
     "name": "stdout",
     "output_type": "stream",
     "text": [
      "                   all        119        180      0.978      0.981      0.993      0.775\n"
     ]
    },
    {
     "name": "stderr",
     "output_type": "stream",
     "text": [
      "\n"
     ]
    },
    {
     "name": "stdout",
     "output_type": "stream",
     "text": [
      "\n",
      "      Epoch    GPU_mem   box_loss   cls_loss   dfl_loss  Instances       Size\n"
     ]
    },
    {
     "name": "stderr",
     "output_type": "stream",
     "text": [
      "    224/230      2.38G     0.3928     0.2475      0.953          3        640: 100%|██████████| 27/27 [00:08<00:00,  3.14it/s]\n",
      "                 Class     Images  Instances      Box(P          R      mAP50  mAP50-95): 100%|██████████| 4/4 [00:01<00:00,  3.43it/s]"
     ]
    },
    {
     "name": "stdout",
     "output_type": "stream",
     "text": [
      "                   all        119        180      0.972      0.983      0.993      0.776\n"
     ]
    },
    {
     "name": "stderr",
     "output_type": "stream",
     "text": [
      "\n"
     ]
    },
    {
     "name": "stdout",
     "output_type": "stream",
     "text": [
      "\n",
      "      Epoch    GPU_mem   box_loss   cls_loss   dfl_loss  Instances       Size\n"
     ]
    },
    {
     "name": "stderr",
     "output_type": "stream",
     "text": [
      "    225/230      2.42G     0.3649     0.2389     0.9328          2        640: 100%|██████████| 27/27 [00:08<00:00,  3.24it/s]\n",
      "                 Class     Images  Instances      Box(P          R      mAP50  mAP50-95): 100%|██████████| 4/4 [00:01<00:00,  3.51it/s]"
     ]
    },
    {
     "name": "stdout",
     "output_type": "stream",
     "text": [
      "                   all        119        180      0.972      0.983      0.993      0.776\n"
     ]
    },
    {
     "name": "stderr",
     "output_type": "stream",
     "text": [
      "\n"
     ]
    },
    {
     "name": "stdout",
     "output_type": "stream",
     "text": [
      "\n",
      "      Epoch    GPU_mem   box_loss   cls_loss   dfl_loss  Instances       Size\n"
     ]
    },
    {
     "name": "stderr",
     "output_type": "stream",
     "text": [
      "    226/230      2.39G     0.3747     0.2343     0.9282          7        640: 100%|██████████| 27/27 [00:08<00:00,  3.22it/s]\n",
      "                 Class     Images  Instances      Box(P          R      mAP50  mAP50-95): 100%|██████████| 4/4 [00:01<00:00,  3.44it/s]"
     ]
    },
    {
     "name": "stdout",
     "output_type": "stream",
     "text": [
      "                   all        119        180      0.978      0.982      0.993      0.774\n"
     ]
    },
    {
     "name": "stderr",
     "output_type": "stream",
     "text": [
      "\n"
     ]
    },
    {
     "name": "stdout",
     "output_type": "stream",
     "text": [
      "\n",
      "      Epoch    GPU_mem   box_loss   cls_loss   dfl_loss  Instances       Size\n"
     ]
    },
    {
     "name": "stderr",
     "output_type": "stream",
     "text": [
      "    227/230      2.37G     0.3719     0.2446     0.9357          4        640: 100%|██████████| 27/27 [00:08<00:00,  3.24it/s]\n",
      "                 Class     Images  Instances      Box(P          R      mAP50  mAP50-95): 100%|██████████| 4/4 [00:01<00:00,  3.51it/s]"
     ]
    },
    {
     "name": "stdout",
     "output_type": "stream",
     "text": [
      "                   all        119        180      0.978      0.983      0.993      0.777\n"
     ]
    },
    {
     "name": "stderr",
     "output_type": "stream",
     "text": [
      "\n"
     ]
    },
    {
     "name": "stdout",
     "output_type": "stream",
     "text": [
      "\n",
      "      Epoch    GPU_mem   box_loss   cls_loss   dfl_loss  Instances       Size\n"
     ]
    },
    {
     "name": "stderr",
     "output_type": "stream",
     "text": [
      "    228/230      2.38G     0.3678     0.2645     0.9302          2        640: 100%|██████████| 27/27 [00:08<00:00,  3.27it/s]\n",
      "                 Class     Images  Instances      Box(P          R      mAP50  mAP50-95): 100%|██████████| 4/4 [00:01<00:00,  3.43it/s]"
     ]
    },
    {
     "name": "stdout",
     "output_type": "stream",
     "text": [
      "                   all        119        180      0.977      0.983      0.993      0.779\n"
     ]
    },
    {
     "name": "stderr",
     "output_type": "stream",
     "text": [
      "\n"
     ]
    },
    {
     "name": "stdout",
     "output_type": "stream",
     "text": [
      "\n",
      "      Epoch    GPU_mem   box_loss   cls_loss   dfl_loss  Instances       Size\n"
     ]
    },
    {
     "name": "stderr",
     "output_type": "stream",
     "text": [
      "    229/230      2.38G     0.3655     0.2344     0.9423          3        640: 100%|██████████| 27/27 [00:08<00:00,  3.25it/s]\n",
      "                 Class     Images  Instances      Box(P          R      mAP50  mAP50-95): 100%|██████████| 4/4 [00:01<00:00,  3.52it/s]"
     ]
    },
    {
     "name": "stdout",
     "output_type": "stream",
     "text": [
      "                   all        119        180      0.977      0.983      0.993      0.776\n"
     ]
    },
    {
     "name": "stderr",
     "output_type": "stream",
     "text": [
      "\n"
     ]
    },
    {
     "name": "stdout",
     "output_type": "stream",
     "text": [
      "\n",
      "      Epoch    GPU_mem   box_loss   cls_loss   dfl_loss  Instances       Size\n"
     ]
    },
    {
     "name": "stderr",
     "output_type": "stream",
     "text": [
      "    230/230      2.38G     0.3802     0.2339      0.944          3        640: 100%|██████████| 27/27 [00:08<00:00,  3.23it/s]\n",
      "                 Class     Images  Instances      Box(P          R      mAP50  mAP50-95): 100%|██████████| 4/4 [00:01<00:00,  3.49it/s]"
     ]
    },
    {
     "name": "stdout",
     "output_type": "stream",
     "text": [
      "                   all        119        180      0.977      0.983      0.993      0.777\n"
     ]
    },
    {
     "name": "stderr",
     "output_type": "stream",
     "text": [
      "\n"
     ]
    },
    {
     "name": "stdout",
     "output_type": "stream",
     "text": [
      "\n",
      "230 epochs completed in 1.019 hours.\n",
      "Optimizer stripped from runs\\detect\\train2\\weights\\last.pt, 6.3MB\n",
      "Optimizer stripped from runs\\detect\\train2\\weights\\best.pt, 6.3MB\n",
      "\n",
      "Validating runs\\detect\\train2\\weights\\best.pt...\n",
      "Ultralytics YOLOv8.2.60  Python-3.10.14 torch-2.3.1 CUDA:0 (NVIDIA GeForce RTX 2050, 4096MiB)\n",
      "Model summary (fused): 168 layers, 3,005,843 parameters, 0 gradients, 8.1 GFLOPs\n"
     ]
    },
    {
     "name": "stderr",
     "output_type": "stream",
     "text": [
      "                 Class     Images  Instances      Box(P          R      mAP50  mAP50-95): 100%|██████████| 4/4 [00:01<00:00,  2.75it/s]\n"
     ]
    },
    {
     "name": "stdout",
     "output_type": "stream",
     "text": [
      "                   all        119        180      0.989      0.981      0.988      0.781\n",
      "Speed: 0.5ms preprocess, 6.6ms inference, 0.0ms loss, 1.3ms postprocess per image\n",
      "Results saved to \u001b[1mruns\\detect\\train2\u001b[0m\n"
     ]
    }
   ],
   "source": [
    "model = YOLO('yolov8n.pt')\n",
    "model = model.train(data=r'D:\\Prabha\\Automatic_numbeplate_detection\\Dataset\\data.yaml',epochs=230,imgsz=640)"
   ]
  },
  {
   "cell_type": "code",
   "execution_count": 3,
   "metadata": {},
   "outputs": [],
   "source": [
    "model= YOLO(r'D:\\Prabha\\Automatic_numbeplate_detection\\model\\runs\\detect\\train4\\weights\\best.pt')\n"
   ]
  },
  {
   "cell_type": "code",
   "execution_count": 4,
   "metadata": {},
   "outputs": [
    {
     "name": "stdout",
     "output_type": "stream",
     "text": [
      "Requirement already satisfied: pytesseract in c:\\mini conda\\envs\\pytorch\\lib\\site-packages (0.3.10)\n",
      "Requirement already satisfied: packaging>=21.3 in c:\\users\\aksha\\appdata\\roaming\\python\\python310\\site-packages (from pytesseract) (24.1)\n",
      "Requirement already satisfied: Pillow>=8.0.0 in c:\\mini conda\\envs\\pytorch\\lib\\site-packages (from pytesseract) (10.4.0)\n"
     ]
    }
   ],
   "source": [
    "!pip install pytesseract"
   ]
  },
  {
   "cell_type": "code",
   "execution_count": 4,
   "metadata": {},
   "outputs": [
    {
     "data": {
      "text/plain": [
       "'cuda'"
      ]
     },
     "execution_count": 4,
     "metadata": {},
     "output_type": "execute_result"
    }
   ],
   "source": [
    "import cv2\n",
    "import csv\n",
    "import torch\n",
    "from ultralytics import YOLO\n",
    "\n",
    "device = 'cuda' if torch.cuda.is_available() else 'cpu'\n",
    "device"
   ]
  },
  {
   "cell_type": "code",
   "execution_count": 5,
   "metadata": {},
   "outputs": [],
   "source": [
    "import pytesseract"
   ]
  },
  {
   "cell_type": "code",
   "execution_count": 6,
   "metadata": {},
   "outputs": [],
   "source": [
    "pytesseract.pytesseract.tesseract_cmd = r'C:\\Program Files\\Tesseract-OCR\\tesseract.exe'"
   ]
  },
  {
   "cell_type": "code",
   "execution_count": 7,
   "metadata": {},
   "outputs": [
    {
     "name": "stdout",
     "output_type": "stream",
     "text": [
      "\n",
      "0: 640x640 2 licenses, 8.7ms\n",
      "Speed: 7.5ms preprocess, 8.7ms inference, 463.0ms postprocess per image at shape (1, 3, 640, 640)\n",
      "Number plate detected and stored for frame 1\n",
      "Processed frame 1\n",
      "\n",
      "0: 640x640 1 license, 10.1ms\n",
      "Speed: 0.0ms preprocess, 10.1ms inference, 0.0ms postprocess per image at shape (1, 3, 640, 640)\n",
      "Number plate detected and stored for frame 2\n",
      "Processed frame 2\n",
      "\n",
      "0: 640x640 1 license, 1.6ms\n",
      "Speed: 4.1ms preprocess, 1.6ms inference, 7.7ms postprocess per image at shape (1, 3, 640, 640)\n",
      "Number plate detected and stored for frame 3\n",
      "Processed frame 3\n",
      "\n",
      "0: 640x640 1 license, 10.1ms\n",
      "Speed: 1.0ms preprocess, 10.1ms inference, 3.1ms postprocess per image at shape (1, 3, 640, 640)\n",
      "Number plate detected and stored for frame 4\n",
      "Processed frame 4\n",
      "\n",
      "0: 640x640 2 licenses, 21.2ms\n",
      "Speed: 0.0ms preprocess, 21.2ms inference, 2.3ms postprocess per image at shape (1, 3, 640, 640)\n",
      "Number plate detected and stored for frame 5\n",
      "Processed frame 5\n",
      "\n",
      "0: 640x640 2 licenses, 13.9ms\n",
      "Speed: 0.0ms preprocess, 13.9ms inference, 1.9ms postprocess per image at shape (1, 3, 640, 640)\n",
      "Number plate detected and stored for frame 6\n",
      "Processed frame 6\n",
      "\n",
      "0: 640x640 2 licenses, 18.3ms\n",
      "Speed: 0.0ms preprocess, 18.3ms inference, 4.4ms postprocess per image at shape (1, 3, 640, 640)\n",
      "Number plate detected and stored for frame 7\n",
      "Processed frame 7\n",
      "\n",
      "0: 640x640 2 licenses, 0.0ms\n",
      "Speed: 9.9ms preprocess, 0.0ms inference, 10.1ms postprocess per image at shape (1, 3, 640, 640)\n",
      "Number plate detected and stored for frame 8\n",
      "Processed frame 8\n",
      "\n",
      "0: 640x640 2 licenses, 7.2ms\n",
      "Speed: 0.0ms preprocess, 7.2ms inference, 8.1ms postprocess per image at shape (1, 3, 640, 640)\n",
      "Number plate detected and stored for frame 9\n",
      "Processed frame 9\n",
      "\n",
      "0: 640x640 2 licenses, 5.9ms\n",
      "Speed: 3.5ms preprocess, 5.9ms inference, 0.0ms postprocess per image at shape (1, 3, 640, 640)\n",
      "Number plate detected and stored for frame 10\n",
      "Processed frame 10\n",
      "\n",
      "0: 640x640 2 licenses, 10.0ms\n",
      "Speed: 0.0ms preprocess, 10.0ms inference, 0.0ms postprocess per image at shape (1, 3, 640, 640)\n",
      "Number plate detected and stored for frame 11\n",
      "Processed frame 11\n",
      "\n",
      "0: 640x640 2 licenses, 15.7ms\n",
      "Speed: 7.3ms preprocess, 15.7ms inference, 4.6ms postprocess per image at shape (1, 3, 640, 640)\n",
      "Number plate detected and stored for frame 12\n",
      "Processed frame 12\n",
      "\n",
      "0: 640x640 1 license, 12.1ms\n",
      "Speed: 2.6ms preprocess, 12.1ms inference, 2.0ms postprocess per image at shape (1, 3, 640, 640)\n",
      "Number plate detected and stored for frame 13\n",
      "Processed frame 13\n",
      "\n",
      "0: 640x640 2 licenses, 52.1ms\n",
      "Speed: 9.2ms preprocess, 52.1ms inference, 0.0ms postprocess per image at shape (1, 3, 640, 640)\n",
      "Number plate detected and stored for frame 14\n",
      "Processed frame 14\n",
      "\n",
      "0: 640x640 1 license, 11.2ms\n",
      "Speed: 3.2ms preprocess, 11.2ms inference, 3.3ms postprocess per image at shape (1, 3, 640, 640)\n",
      "Number plate detected and stored for frame 15\n",
      "Processed frame 15\n",
      "\n",
      "0: 640x640 1 license, 12.0ms\n",
      "Speed: 10.8ms preprocess, 12.0ms inference, 0.0ms postprocess per image at shape (1, 3, 640, 640)\n",
      "Number plate detected and stored for frame 16\n",
      "Processed frame 16\n",
      "\n",
      "0: 640x640 1 license, 10.3ms\n",
      "Speed: 0.0ms preprocess, 10.3ms inference, 0.0ms postprocess per image at shape (1, 3, 640, 640)\n",
      "Number plate detected and stored for frame 17\n",
      "Processed frame 17\n",
      "\n",
      "0: 640x640 1 license, 11.9ms\n",
      "Speed: 10.0ms preprocess, 11.9ms inference, 2.7ms postprocess per image at shape (1, 3, 640, 640)\n",
      "Number plate detected and stored for frame 18\n",
      "Processed frame 18\n",
      "\n",
      "0: 640x640 1 license, 20.2ms\n",
      "Speed: 0.0ms preprocess, 20.2ms inference, 3.7ms postprocess per image at shape (1, 3, 640, 640)\n",
      "Number plate detected and stored for frame 19\n",
      "Processed frame 19\n",
      "\n",
      "0: 640x640 1 license, 13.6ms\n",
      "Speed: 0.0ms preprocess, 13.6ms inference, 2.9ms postprocess per image at shape (1, 3, 640, 640)\n",
      "Number plate detected and stored for frame 20\n",
      "Processed frame 20\n",
      "\n",
      "0: 640x640 1 license, 17.6ms\n",
      "Speed: 0.0ms preprocess, 17.6ms inference, 3.1ms postprocess per image at shape (1, 3, 640, 640)\n",
      "Number plate detected and stored for frame 21\n",
      "Processed frame 21\n",
      "\n",
      "0: 640x640 1 license, 13.3ms\n",
      "Speed: 10.1ms preprocess, 13.3ms inference, 5.1ms postprocess per image at shape (1, 3, 640, 640)\n",
      "Number plate detected and stored for frame 22\n",
      "Processed frame 22\n",
      "\n",
      "0: 640x640 1 license, 69.8ms\n",
      "Speed: 0.0ms preprocess, 69.8ms inference, 10.1ms postprocess per image at shape (1, 3, 640, 640)\n",
      "Number plate detected and stored for frame 23\n",
      "Processed frame 23\n",
      "\n",
      "0: 640x640 1 license, 71.1ms\n",
      "Speed: 10.0ms preprocess, 71.1ms inference, 0.0ms postprocess per image at shape (1, 3, 640, 640)\n",
      "Number plate detected and stored for frame 24\n",
      "Processed frame 24\n",
      "\n",
      "0: 640x640 1 license, 10.0ms\n",
      "Speed: 10.0ms preprocess, 10.0ms inference, 7.0ms postprocess per image at shape (1, 3, 640, 640)\n",
      "Number plate detected and stored for frame 25\n",
      "Processed frame 25\n",
      "\n",
      "0: 640x640 1 license, 17.8ms\n",
      "Speed: 0.0ms preprocess, 17.8ms inference, 3.1ms postprocess per image at shape (1, 3, 640, 640)\n",
      "Number plate detected and stored for frame 26\n",
      "Processed frame 26\n",
      "\n",
      "0: 640x640 1 license, 19.0ms\n",
      "Speed: 0.0ms preprocess, 19.0ms inference, 3.5ms postprocess per image at shape (1, 3, 640, 640)\n",
      "Number plate detected and stored for frame 27\n",
      "Processed frame 27\n",
      "\n",
      "0: 640x640 1 license, 11.6ms\n",
      "Speed: 10.0ms preprocess, 11.6ms inference, 0.0ms postprocess per image at shape (1, 3, 640, 640)\n",
      "Number plate detected and stored for frame 28\n",
      "Processed frame 28\n",
      "\n",
      "0: 640x640 1 license, 14.5ms\n",
      "Speed: 0.0ms preprocess, 14.5ms inference, 3.0ms postprocess per image at shape (1, 3, 640, 640)\n",
      "Number plate detected and stored for frame 29\n",
      "Processed frame 29\n",
      "\n",
      "0: 640x640 1 license, 19.5ms\n",
      "Speed: 0.0ms preprocess, 19.5ms inference, 3.4ms postprocess per image at shape (1, 3, 640, 640)\n",
      "Number plate detected and stored for frame 30\n",
      "Processed frame 30\n",
      "\n",
      "0: 640x640 1 license, 11.5ms\n",
      "Speed: 10.0ms preprocess, 11.5ms inference, 3.5ms postprocess per image at shape (1, 3, 640, 640)\n",
      "Number plate detected and stored for frame 31\n",
      "Processed frame 31\n",
      "\n",
      "0: 640x640 1 license, 18.7ms\n",
      "Speed: 0.0ms preprocess, 18.7ms inference, 0.0ms postprocess per image at shape (1, 3, 640, 640)\n",
      "Number plate detected and stored for frame 32\n",
      "Processed frame 32\n",
      "\n",
      "0: 640x640 1 license, 18.5ms\n",
      "Speed: 0.0ms preprocess, 18.5ms inference, 3.8ms postprocess per image at shape (1, 3, 640, 640)\n",
      "Number plate detected and stored for frame 33\n",
      "Processed frame 33\n",
      "\n",
      "0: 640x640 1 license, 77.5ms\n",
      "Speed: 10.0ms preprocess, 77.5ms inference, 0.0ms postprocess per image at shape (1, 3, 640, 640)\n",
      "Number plate detected and stored for frame 34\n",
      "Processed frame 34\n",
      "\n",
      "0: 640x640 1 license, 66.7ms\n",
      "Speed: 5.3ms preprocess, 66.7ms inference, 10.0ms postprocess per image at shape (1, 3, 640, 640)\n",
      "Number plate detected and stored for frame 35\n",
      "Processed frame 35\n",
      "\n",
      "0: 640x640 1 license, 13.4ms\n",
      "Speed: 2.0ms preprocess, 13.4ms inference, 5.9ms postprocess per image at shape (1, 3, 640, 640)\n",
      "Number plate detected and stored for frame 36\n",
      "Processed frame 36\n",
      "\n",
      "0: 640x640 1 license, 12.0ms\n",
      "Speed: 10.0ms preprocess, 12.0ms inference, 2.2ms postprocess per image at shape (1, 3, 640, 640)\n",
      "Number plate detected and stored for frame 37\n",
      "Processed frame 37\n",
      "\n",
      "0: 640x640 1 license, 12.3ms\n",
      "Speed: 5.0ms preprocess, 12.3ms inference, 6.8ms postprocess per image at shape (1, 3, 640, 640)\n",
      "Number plate detected and stored for frame 38\n",
      "Processed frame 38\n",
      "\n",
      "0: 640x640 1 license, 18.7ms\n",
      "Speed: 3.6ms preprocess, 18.7ms inference, 1.8ms postprocess per image at shape (1, 3, 640, 640)\n",
      "Number plate detected and stored for frame 39\n",
      "Processed frame 39\n",
      "\n",
      "0: 640x640 1 license, 10.0ms\n",
      "Speed: 0.0ms preprocess, 10.0ms inference, 0.0ms postprocess per image at shape (1, 3, 640, 640)\n",
      "Number plate detected and stored for frame 40\n",
      "Processed frame 40\n",
      "\n",
      "0: 640x640 1 license, 13.4ms\n",
      "Speed: 10.0ms preprocess, 13.4ms inference, 0.0ms postprocess per image at shape (1, 3, 640, 640)\n",
      "Number plate detected and stored for frame 41\n",
      "Processed frame 41\n",
      "\n",
      "0: 640x640 1 license, 10.2ms\n",
      "Speed: 5.8ms preprocess, 10.2ms inference, 7.0ms postprocess per image at shape (1, 3, 640, 640)\n",
      "Number plate detected and stored for frame 42\n",
      "Processed frame 42\n",
      "\n",
      "0: 640x640 1 license, 68.9ms\n",
      "Speed: 0.6ms preprocess, 68.9ms inference, 0.0ms postprocess per image at shape (1, 3, 640, 640)\n",
      "Number plate detected and stored for frame 43\n",
      "Processed frame 43\n",
      "\n",
      "0: 640x640 1 license, 58.8ms\n",
      "Speed: 10.1ms preprocess, 58.8ms inference, 0.0ms postprocess per image at shape (1, 3, 640, 640)\n",
      "Number plate detected and stored for frame 44\n",
      "Processed frame 44\n",
      "\n",
      "0: 640x640 1 license, 9.9ms\n",
      "Speed: 10.1ms preprocess, 9.9ms inference, 3.2ms postprocess per image at shape (1, 3, 640, 640)\n",
      "Number plate detected and stored for frame 45\n",
      "Processed frame 45\n",
      "\n",
      "0: 640x640 1 license, 10.0ms\n",
      "Speed: 0.0ms preprocess, 10.0ms inference, 10.0ms postprocess per image at shape (1, 3, 640, 640)\n",
      "Number plate detected and stored for frame 46\n",
      "Processed frame 46\n",
      "\n",
      "0: 640x640 1 license, 10.8ms\n",
      "Speed: 2.3ms preprocess, 10.8ms inference, 3.1ms postprocess per image at shape (1, 3, 640, 640)\n",
      "Number plate detected and stored for frame 47\n",
      "Processed frame 47\n",
      "\n",
      "0: 640x640 1 license, 10.1ms\n",
      "Speed: 0.0ms preprocess, 10.1ms inference, 10.0ms postprocess per image at shape (1, 3, 640, 640)\n",
      "Number plate detected and stored for frame 48\n",
      "Processed frame 48\n",
      "\n",
      "0: 640x640 1 license, 10.0ms\n",
      "Speed: 10.1ms preprocess, 10.0ms inference, 4.7ms postprocess per image at shape (1, 3, 640, 640)\n",
      "Number plate detected and stored for frame 49\n",
      "Processed frame 49\n",
      "\n",
      "0: 640x640 1 license, 10.0ms\n",
      "Speed: 10.0ms preprocess, 10.0ms inference, 4.9ms postprocess per image at shape (1, 3, 640, 640)\n",
      "Number plate detected and stored for frame 50\n",
      "Processed frame 50\n",
      "\n",
      "0: 640x640 1 license, 10.0ms\n",
      "Speed: 10.0ms preprocess, 10.0ms inference, 0.0ms postprocess per image at shape (1, 3, 640, 640)\n",
      "Number plate detected and stored for frame 51\n",
      "Processed frame 51\n",
      "\n",
      "0: 640x640 1 license, 20.1ms\n",
      "Speed: 0.0ms preprocess, 20.1ms inference, 0.0ms postprocess per image at shape (1, 3, 640, 640)\n",
      "Number plate detected and stored for frame 52\n",
      "Processed frame 52\n",
      "\n",
      "0: 640x640 1 license, 17.8ms\n",
      "Speed: 8.4ms preprocess, 17.8ms inference, 1.4ms postprocess per image at shape (1, 3, 640, 640)\n",
      "Number plate detected and stored for frame 53\n",
      "Processed frame 53\n",
      "\n",
      "0: 640x640 1 license, 19.9ms\n",
      "Speed: 10.2ms preprocess, 19.9ms inference, 2.4ms postprocess per image at shape (1, 3, 640, 640)\n",
      "Number plate detected and stored for frame 54\n",
      "Processed frame 54\n",
      "\n",
      "0: 640x640 1 license, 18.4ms\n",
      "Speed: 0.0ms preprocess, 18.4ms inference, 10.1ms postprocess per image at shape (1, 3, 640, 640)\n",
      "Number plate detected and stored for frame 55\n",
      "Processed frame 55\n",
      "\n",
      "0: 640x640 1 license, 24.6ms\n",
      "Speed: 0.0ms preprocess, 24.6ms inference, 6.7ms postprocess per image at shape (1, 3, 640, 640)\n",
      "Number plate detected and stored for frame 56\n",
      "Processed frame 56\n",
      "\n",
      "0: 640x640 1 license, 75.8ms\n",
      "Speed: 10.0ms preprocess, 75.8ms inference, 10.1ms postprocess per image at shape (1, 3, 640, 640)\n",
      "Number plate detected and stored for frame 57\n",
      "Processed frame 57\n",
      "\n",
      "0: 640x640 1 license, 68.0ms\n",
      "Speed: 0.0ms preprocess, 68.0ms inference, 0.0ms postprocess per image at shape (1, 3, 640, 640)\n",
      "Number plate detected and stored for frame 58\n",
      "Processed frame 58\n",
      "\n",
      "0: 640x640 1 license, 10.1ms\n",
      "Speed: 0.0ms preprocess, 10.1ms inference, 10.0ms postprocess per image at shape (1, 3, 640, 640)\n",
      "Number plate detected and stored for frame 59\n",
      "Processed frame 59\n",
      "\n",
      "0: 640x640 1 license, 10.0ms\n",
      "Speed: 0.0ms preprocess, 10.0ms inference, 10.0ms postprocess per image at shape (1, 3, 640, 640)\n",
      "Number plate detected and stored for frame 60\n",
      "Processed frame 60\n",
      "\n",
      "0: 640x640 1 license, 10.0ms\n",
      "Speed: 0.0ms preprocess, 10.0ms inference, 0.0ms postprocess per image at shape (1, 3, 640, 640)\n",
      "Number plate detected and stored for frame 61\n",
      "Processed frame 61\n",
      "\n",
      "0: 640x640 1 license, 20.0ms\n",
      "Speed: 0.0ms preprocess, 20.0ms inference, 0.0ms postprocess per image at shape (1, 3, 640, 640)\n",
      "Number plate detected and stored for frame 62\n",
      "Processed frame 62\n",
      "\n",
      "0: 640x640 1 license, 10.0ms\n",
      "Speed: 0.0ms preprocess, 10.0ms inference, 10.0ms postprocess per image at shape (1, 3, 640, 640)\n",
      "Number plate detected and stored for frame 63\n",
      "Processed frame 63\n",
      "\n",
      "0: 640x640 1 license, 20.0ms\n",
      "Speed: 0.0ms preprocess, 20.0ms inference, 3.6ms postprocess per image at shape (1, 3, 640, 640)\n",
      "Number plate detected and stored for frame 64\n",
      "Processed frame 64\n",
      "\n",
      "0: 640x640 1 license, 18.2ms\n",
      "Speed: 9.9ms preprocess, 18.2ms inference, 2.4ms postprocess per image at shape (1, 3, 640, 640)\n",
      "Number plate detected and stored for frame 65\n",
      "Processed frame 65\n",
      "\n",
      "0: 640x640 1 license, 20.8ms\n",
      "Speed: 0.0ms preprocess, 20.8ms inference, 0.0ms postprocess per image at shape (1, 3, 640, 640)\n",
      "Number plate detected and stored for frame 66\n",
      "Processed frame 66\n",
      "\n",
      "0: 640x640 1 license, 69.0ms\n",
      "Speed: 5.6ms preprocess, 69.0ms inference, 10.1ms postprocess per image at shape (1, 3, 640, 640)\n",
      "Number plate detected and stored for frame 67\n",
      "Processed frame 67\n",
      "\n",
      "0: 640x640 1 license, 65.8ms\n",
      "Speed: 0.0ms preprocess, 65.8ms inference, 10.1ms postprocess per image at shape (1, 3, 640, 640)\n",
      "Number plate detected and stored for frame 68\n",
      "Processed frame 68\n",
      "\n",
      "0: 640x640 1 license, 9.6ms\n",
      "Speed: 0.0ms preprocess, 9.6ms inference, 0.0ms postprocess per image at shape (1, 3, 640, 640)\n",
      "Number plate detected and stored for frame 69\n",
      "Processed frame 69\n",
      "\n",
      "0: 640x640 1 license, 17.8ms\n",
      "Speed: 0.0ms preprocess, 17.8ms inference, 0.0ms postprocess per image at shape (1, 3, 640, 640)\n",
      "Number plate detected and stored for frame 70\n",
      "Processed frame 70\n",
      "\n",
      "0: 640x640 1 license, 14.6ms\n",
      "Speed: 0.0ms preprocess, 14.6ms inference, 3.6ms postprocess per image at shape (1, 3, 640, 640)\n",
      "Number plate detected and stored for frame 71\n",
      "Processed frame 71\n",
      "\n",
      "0: 640x640 1 license, 20.6ms\n",
      "Speed: 0.0ms preprocess, 20.6ms inference, 3.9ms postprocess per image at shape (1, 3, 640, 640)\n",
      "Number plate detected and stored for frame 72\n",
      "Processed frame 72\n",
      "\n",
      "0: 640x640 1 license, 14.1ms\n",
      "Speed: 0.4ms preprocess, 14.1ms inference, 0.0ms postprocess per image at shape (1, 3, 640, 640)\n",
      "Number plate detected and stored for frame 73\n",
      "Processed frame 73\n",
      "\n",
      "0: 640x640 1 license, 18.7ms\n",
      "Speed: 0.0ms preprocess, 18.7ms inference, 0.0ms postprocess per image at shape (1, 3, 640, 640)\n",
      "Number plate detected and stored for frame 74\n",
      "Processed frame 74\n",
      "\n",
      "0: 640x640 1 license, 10.8ms\n",
      "Speed: 2.8ms preprocess, 10.8ms inference, 2.1ms postprocess per image at shape (1, 3, 640, 640)\n",
      "Number plate detected and stored for frame 75\n",
      "Processed frame 75\n",
      "\n",
      "0: 640x640 1 license, 20.2ms\n",
      "Speed: 0.0ms preprocess, 20.2ms inference, 0.0ms postprocess per image at shape (1, 3, 640, 640)\n",
      "Number plate detected and stored for frame 76\n",
      "Processed frame 76\n",
      "\n",
      "0: 640x640 1 license, 10.1ms\n",
      "Speed: 3.5ms preprocess, 10.1ms inference, 4.6ms postprocess per image at shape (1, 3, 640, 640)\n",
      "Number plate detected and stored for frame 77\n",
      "Processed frame 77\n",
      "\n",
      "0: 640x640 1 license, 17.4ms\n",
      "Speed: 5.2ms preprocess, 17.4ms inference, 3.4ms postprocess per image at shape (1, 3, 640, 640)\n",
      "Number plate detected and stored for frame 78\n",
      "Processed frame 78\n",
      "\n",
      "0: 640x640 1 license, 16.9ms\n",
      "Speed: 9.4ms preprocess, 16.9ms inference, 3.0ms postprocess per image at shape (1, 3, 640, 640)\n",
      "Number plate detected and stored for frame 79\n",
      "Processed frame 79\n",
      "\n",
      "0: 640x640 1 license, 21.0ms\n",
      "Speed: 0.7ms preprocess, 21.0ms inference, 3.8ms postprocess per image at shape (1, 3, 640, 640)\n",
      "Number plate detected and stored for frame 80\n",
      "Processed frame 80\n",
      "\n",
      "0: 640x640 1 license, 23.0ms\n",
      "Speed: 2.8ms preprocess, 23.0ms inference, 0.0ms postprocess per image at shape (1, 3, 640, 640)\n",
      "Number plate detected and stored for frame 81\n",
      "Processed frame 81\n",
      "\n",
      "0: 640x640 1 license, 65.0ms\n",
      "Speed: 5.5ms preprocess, 65.0ms inference, 8.9ms postprocess per image at shape (1, 3, 640, 640)\n",
      "Number plate detected and stored for frame 82\n",
      "Processed frame 82\n",
      "\n",
      "0: 640x640 1 license, 72.0ms\n",
      "Speed: 1.5ms preprocess, 72.0ms inference, 2.6ms postprocess per image at shape (1, 3, 640, 640)\n",
      "Number plate detected and stored for frame 83\n",
      "Processed frame 83\n",
      "\n",
      "0: 640x640 1 license, 12.0ms\n",
      "Speed: 3.6ms preprocess, 12.0ms inference, 1.5ms postprocess per image at shape (1, 3, 640, 640)\n",
      "Number plate detected and stored for frame 84\n",
      "Processed frame 84\n",
      "\n",
      "0: 640x640 1 license, 7.1ms\n",
      "Speed: 7.4ms preprocess, 7.1ms inference, 6.4ms postprocess per image at shape (1, 3, 640, 640)\n",
      "Number plate detected and stored for frame 85\n",
      "Processed frame 85\n",
      "\n",
      "0: 640x640 1 license, 17.7ms\n",
      "Speed: 0.0ms preprocess, 17.7ms inference, 2.6ms postprocess per image at shape (1, 3, 640, 640)\n",
      "Number plate detected and stored for frame 86\n",
      "Processed frame 86\n",
      "\n",
      "0: 640x640 1 license, 14.2ms\n",
      "Speed: 4.4ms preprocess, 14.2ms inference, 2.5ms postprocess per image at shape (1, 3, 640, 640)\n",
      "Number plate detected and stored for frame 87\n",
      "Processed frame 87\n",
      "\n",
      "0: 640x640 1 license, 14.7ms\n",
      "Speed: 0.0ms preprocess, 14.7ms inference, 0.0ms postprocess per image at shape (1, 3, 640, 640)\n",
      "Number plate detected and stored for frame 88\n",
      "Processed frame 88\n",
      "\n",
      "0: 640x640 1 license, 10.6ms\n",
      "Speed: 0.8ms preprocess, 10.6ms inference, 4.5ms postprocess per image at shape (1, 3, 640, 640)\n",
      "Number plate detected and stored for frame 89\n",
      "Processed frame 89\n",
      "\n",
      "0: 640x640 1 license, 9.2ms\n",
      "Speed: 7.0ms preprocess, 9.2ms inference, 3.5ms postprocess per image at shape (1, 3, 640, 640)\n",
      "Number plate detected and stored for frame 90\n",
      "Processed frame 90\n",
      "\n",
      "0: 640x640 1 license, 14.3ms\n",
      "Speed: 6.2ms preprocess, 14.3ms inference, 0.0ms postprocess per image at shape (1, 3, 640, 640)\n",
      "Number plate detected and stored for frame 91\n",
      "Processed frame 91\n",
      "\n",
      "0: 640x640 1 license, 15.2ms\n",
      "Speed: 0.0ms preprocess, 15.2ms inference, 0.0ms postprocess per image at shape (1, 3, 640, 640)\n",
      "Number plate detected and stored for frame 92\n",
      "Processed frame 92\n",
      "\n",
      "0: 640x640 1 license, 61.8ms\n",
      "Speed: 5.1ms preprocess, 61.8ms inference, 0.0ms postprocess per image at shape (1, 3, 640, 640)\n",
      "Number plate detected and stored for frame 93\n",
      "Processed frame 93\n",
      "\n",
      "0: 640x640 1 license, 55.1ms\n",
      "Speed: 6.9ms preprocess, 55.1ms inference, 5.1ms postprocess per image at shape (1, 3, 640, 640)\n",
      "Number plate detected and stored for frame 94\n",
      "Processed frame 94\n",
      "\n",
      "0: 640x640 1 license, 58.5ms\n",
      "Speed: 3.8ms preprocess, 58.5ms inference, 3.5ms postprocess per image at shape (1, 3, 640, 640)\n",
      "Number plate detected and stored for frame 95\n",
      "Processed frame 95\n",
      "\n",
      "0: 640x640 2 licenses, 61.8ms\n",
      "Speed: 7.8ms preprocess, 61.8ms inference, 0.0ms postprocess per image at shape (1, 3, 640, 640)\n",
      "Number plate detected and stored for frame 96\n",
      "Processed frame 96\n",
      "\n",
      "0: 640x640 1 license, 63.8ms\n",
      "Speed: 10.0ms preprocess, 63.8ms inference, 2.4ms postprocess per image at shape (1, 3, 640, 640)\n",
      "Number plate detected and stored for frame 97\n",
      "Processed frame 97\n",
      "\n",
      "0: 640x640 1 license, 55.6ms\n",
      "Speed: 6.3ms preprocess, 55.6ms inference, 0.0ms postprocess per image at shape (1, 3, 640, 640)\n",
      "Number plate detected and stored for frame 98\n",
      "Processed frame 98\n",
      "\n",
      "0: 640x640 1 license, 63.0ms\n",
      "Speed: 7.0ms preprocess, 63.0ms inference, 0.0ms postprocess per image at shape (1, 3, 640, 640)\n",
      "Number plate detected and stored for frame 99\n",
      "Processed frame 99\n",
      "\n",
      "0: 640x640 1 license, 55.6ms\n",
      "Speed: 6.6ms preprocess, 55.6ms inference, 6.6ms postprocess per image at shape (1, 3, 640, 640)\n",
      "Number plate detected and stored for frame 100\n",
      "Processed frame 100\n",
      "\n",
      "0: 640x640 1 license, 62.9ms\n",
      "Speed: 3.0ms preprocess, 62.9ms inference, 3.6ms postprocess per image at shape (1, 3, 640, 640)\n",
      "Number plate detected and stored for frame 101\n",
      "Processed frame 101\n",
      "\n",
      "0: 640x640 1 license, 57.2ms\n",
      "Speed: 4.2ms preprocess, 57.2ms inference, 5.6ms postprocess per image at shape (1, 3, 640, 640)\n",
      "Number plate detected and stored for frame 102\n",
      "Processed frame 102\n",
      "\n",
      "0: 640x640 1 license, 54.0ms\n",
      "Speed: 6.1ms preprocess, 54.0ms inference, 2.8ms postprocess per image at shape (1, 3, 640, 640)\n",
      "Number plate detected and stored for frame 103\n",
      "Processed frame 103\n",
      "\n",
      "0: 640x640 1 license, 53.3ms\n",
      "Speed: 2.6ms preprocess, 53.3ms inference, 6.5ms postprocess per image at shape (1, 3, 640, 640)\n",
      "Number plate detected and stored for frame 104\n",
      "Processed frame 104\n",
      "\n",
      "0: 640x640 1 license, 62.1ms\n",
      "Speed: 0.0ms preprocess, 62.1ms inference, 0.0ms postprocess per image at shape (1, 3, 640, 640)\n",
      "Number plate detected and stored for frame 105\n",
      "Processed frame 105\n",
      "\n",
      "0: 640x640 1 license, 54.0ms\n",
      "Speed: 1.4ms preprocess, 54.0ms inference, 7.3ms postprocess per image at shape (1, 3, 640, 640)\n",
      "Number plate detected and stored for frame 106\n",
      "Processed frame 106\n",
      "\n",
      "0: 640x640 1 license, 55.2ms\n",
      "Speed: 7.5ms preprocess, 55.2ms inference, 0.0ms postprocess per image at shape (1, 3, 640, 640)\n",
      "Number plate detected and stored for frame 107\n",
      "Processed frame 107\n",
      "\n",
      "0: 640x640 1 license, 61.4ms\n",
      "Speed: 3.9ms preprocess, 61.4ms inference, 3.5ms postprocess per image at shape (1, 3, 640, 640)\n",
      "Number plate detected and stored for frame 108\n",
      "Processed frame 108\n",
      "\n",
      "0: 640x640 1 license, 55.2ms\n",
      "Speed: 7.4ms preprocess, 55.2ms inference, 0.0ms postprocess per image at shape (1, 3, 640, 640)\n",
      "Number plate detected and stored for frame 109\n",
      "Processed frame 109\n",
      "\n",
      "0: 640x640 1 license, 60.5ms\n",
      "Speed: 8.6ms preprocess, 60.5ms inference, 6.5ms postprocess per image at shape (1, 3, 640, 640)\n",
      "Number plate detected and stored for frame 110\n",
      "Processed frame 110\n",
      "\n",
      "0: 640x640 1 license, 12.0ms\n",
      "Speed: 3.8ms preprocess, 12.0ms inference, 1.2ms postprocess per image at shape (1, 3, 640, 640)\n",
      "Number plate detected and stored for frame 111\n",
      "Processed frame 111\n",
      "\n",
      "0: 640x640 1 license, 10.0ms\n",
      "Speed: 5.1ms preprocess, 10.0ms inference, 0.0ms postprocess per image at shape (1, 3, 640, 640)\n",
      "Number plate detected and stored for frame 112\n",
      "Processed frame 112\n",
      "\n",
      "0: 640x640 1 license, 8.4ms\n",
      "Speed: 7.0ms preprocess, 8.4ms inference, 3.6ms postprocess per image at shape (1, 3, 640, 640)\n",
      "Number plate detected and stored for frame 113\n",
      "Processed frame 113\n",
      "\n",
      "0: 640x640 1 license, 15.3ms\n",
      "Speed: 0.0ms preprocess, 15.3ms inference, 0.0ms postprocess per image at shape (1, 3, 640, 640)\n",
      "Number plate detected and stored for frame 114\n",
      "Processed frame 114\n",
      "\n",
      "0: 640x640 1 license, 14.9ms\n",
      "Speed: 0.9ms preprocess, 14.9ms inference, 2.8ms postprocess per image at shape (1, 3, 640, 640)\n",
      "Number plate detected and stored for frame 115\n",
      "Processed frame 115\n",
      "\n",
      "0: 640x640 1 license, 14.5ms\n",
      "Speed: 0.0ms preprocess, 14.5ms inference, 5.4ms postprocess per image at shape (1, 3, 640, 640)\n",
      "Number plate detected and stored for frame 116\n",
      "Processed frame 116\n",
      "\n",
      "0: 640x640 1 license, 8.6ms\n",
      "Speed: 5.1ms preprocess, 8.6ms inference, 0.0ms postprocess per image at shape (1, 3, 640, 640)\n",
      "Number plate detected and stored for frame 117\n",
      "Processed frame 117\n",
      "\n",
      "0: 640x640 1 license, 63.1ms\n",
      "Speed: 6.4ms preprocess, 63.1ms inference, 0.0ms postprocess per image at shape (1, 3, 640, 640)\n",
      "Number plate detected and stored for frame 118\n",
      "Processed frame 118\n",
      "\n",
      "0: 640x640 1 license, 60.0ms\n",
      "Speed: 10.1ms preprocess, 60.0ms inference, 0.0ms postprocess per image at shape (1, 3, 640, 640)\n",
      "Number plate detected and stored for frame 119\n",
      "Processed frame 119\n",
      "\n",
      "0: 640x640 1 license, 64.0ms\n",
      "Speed: 3.0ms preprocess, 64.0ms inference, 0.0ms postprocess per image at shape (1, 3, 640, 640)\n",
      "Number plate detected and stored for frame 120\n",
      "Processed frame 120\n",
      "\n",
      "0: 640x640 1 license, 63.0ms\n",
      "Speed: 4.7ms preprocess, 63.0ms inference, 6.0ms postprocess per image at shape (1, 3, 640, 640)\n",
      "Number plate detected and stored for frame 121\n",
      "Processed frame 121\n",
      "\n",
      "0: 640x640 1 license, 54.8ms\n",
      "Speed: 6.9ms preprocess, 54.8ms inference, 5.1ms postprocess per image at shape (1, 3, 640, 640)\n",
      "Number plate detected and stored for frame 122\n",
      "Processed frame 122\n",
      "\n",
      "0: 640x640 1 license, 54.7ms\n",
      "Speed: 6.7ms preprocess, 54.7ms inference, 1.2ms postprocess per image at shape (1, 3, 640, 640)\n",
      "Number plate detected and stored for frame 123\n",
      "Processed frame 123\n",
      "\n",
      "0: 640x640 1 license, 56.9ms\n",
      "Speed: 0.6ms preprocess, 56.9ms inference, 4.1ms postprocess per image at shape (1, 3, 640, 640)\n",
      "Number plate detected and stored for frame 124\n",
      "Processed frame 124\n",
      "\n",
      "0: 640x640 1 license, 62.9ms\n",
      "Speed: 6.1ms preprocess, 62.9ms inference, 0.0ms postprocess per image at shape (1, 3, 640, 640)\n",
      "Number plate detected and stored for frame 125\n",
      "Processed frame 125\n",
      "\n",
      "0: 640x640 1 license, 56.6ms\n",
      "Speed: 8.2ms preprocess, 56.6ms inference, 4.5ms postprocess per image at shape (1, 3, 640, 640)\n",
      "Number plate detected and stored for frame 126\n",
      "Processed frame 126\n",
      "\n",
      "0: 640x640 1 license, 60.8ms\n",
      "Speed: 6.2ms preprocess, 60.8ms inference, 2.5ms postprocess per image at shape (1, 3, 640, 640)\n",
      "Number plate detected and stored for frame 127\n",
      "Processed frame 127\n",
      "\n",
      "0: 640x640 1 license, 51.3ms\n",
      "Speed: 8.4ms preprocess, 51.3ms inference, 6.1ms postprocess per image at shape (1, 3, 640, 640)\n",
      "Number plate detected and stored for frame 128\n",
      "Processed frame 128\n",
      "\n",
      "0: 640x640 1 license, 56.5ms\n",
      "Speed: 8.5ms preprocess, 56.5ms inference, 2.4ms postprocess per image at shape (1, 3, 640, 640)\n",
      "Number plate detected and stored for frame 129\n",
      "Processed frame 129\n",
      "\n",
      "0: 640x640 1 license, 14.4ms\n",
      "Speed: 0.0ms preprocess, 14.4ms inference, 2.6ms postprocess per image at shape (1, 3, 640, 640)\n",
      "Number plate detected and stored for frame 130\n",
      "Processed frame 130\n",
      "\n",
      "0: 640x640 1 license, 10.2ms\n",
      "Speed: 3.2ms preprocess, 10.2ms inference, 4.0ms postprocess per image at shape (1, 3, 640, 640)\n",
      "Number plate detected and stored for frame 131\n",
      "Processed frame 131\n",
      "\n",
      "0: 640x640 1 license, 10.7ms\n",
      "Speed: 4.8ms preprocess, 10.7ms inference, 8.1ms postprocess per image at shape (1, 3, 640, 640)\n",
      "Number plate detected and stored for frame 132\n",
      "Processed frame 132\n",
      "\n",
      "0: 640x640 1 license, 12.9ms\n",
      "Speed: 4.0ms preprocess, 12.9ms inference, 0.0ms postprocess per image at shape (1, 3, 640, 640)\n",
      "Number plate detected and stored for frame 133\n",
      "Processed frame 133\n",
      "\n",
      "0: 640x640 1 license, 12.4ms\n",
      "Speed: 0.0ms preprocess, 12.4ms inference, 3.0ms postprocess per image at shape (1, 3, 640, 640)\n",
      "Number plate detected and stored for frame 134\n",
      "Processed frame 134\n",
      "\n",
      "0: 640x640 1 license, 8.4ms\n",
      "Speed: 4.7ms preprocess, 8.4ms inference, 2.3ms postprocess per image at shape (1, 3, 640, 640)\n",
      "Number plate detected and stored for frame 135\n",
      "Processed frame 135\n",
      "\n",
      "0: 640x640 1 license, 11.0ms\n",
      "Speed: 4.6ms preprocess, 11.0ms inference, 2.5ms postprocess per image at shape (1, 3, 640, 640)\n",
      "Number plate detected and stored for frame 136\n",
      "Processed frame 136\n",
      "\n",
      "0: 640x640 1 license, 63.8ms\n",
      "Speed: 5.3ms preprocess, 63.8ms inference, 0.0ms postprocess per image at shape (1, 3, 640, 640)\n",
      "Number plate detected and stored for frame 137\n",
      "Processed frame 137\n",
      "\n",
      "0: 640x640 1 license, 68.7ms\n",
      "Speed: 3.7ms preprocess, 68.7ms inference, 0.0ms postprocess per image at shape (1, 3, 640, 640)\n",
      "Number plate detected and stored for frame 138\n",
      "Processed frame 138\n",
      "\n",
      "0: 640x640 1 license, 65.4ms\n",
      "Speed: 3.9ms preprocess, 65.4ms inference, 0.0ms postprocess per image at shape (1, 3, 640, 640)\n",
      "Number plate detected and stored for frame 139\n",
      "Processed frame 139\n",
      "\n",
      "0: 640x640 1 license, 64.7ms\n",
      "Speed: 0.0ms preprocess, 64.7ms inference, 0.0ms postprocess per image at shape (1, 3, 640, 640)\n",
      "Number plate detected and stored for frame 140\n",
      "Processed frame 140\n",
      "\n",
      "0: 640x640 1 license, 58.2ms\n",
      "Speed: 9.6ms preprocess, 58.2ms inference, 5.0ms postprocess per image at shape (1, 3, 640, 640)\n",
      "Number plate detected and stored for frame 141\n",
      "Processed frame 141\n",
      "\n",
      "0: 640x640 1 license, 55.3ms\n",
      "Speed: 6.5ms preprocess, 55.3ms inference, 0.0ms postprocess per image at shape (1, 3, 640, 640)\n",
      "Number plate detected and stored for frame 142\n",
      "Processed frame 142\n",
      "\n",
      "0: 640x640 1 license, 48.8ms\n",
      "Speed: 8.2ms preprocess, 48.8ms inference, 6.4ms postprocess per image at shape (1, 3, 640, 640)\n",
      "Number plate detected and stored for frame 143\n",
      "Processed frame 143\n",
      "\n",
      "0: 640x640 1 license, 62.2ms\n",
      "Speed: 6.2ms preprocess, 62.2ms inference, 4.4ms postprocess per image at shape (1, 3, 640, 640)\n",
      "Number plate detected and stored for frame 144\n",
      "Processed frame 144\n",
      "\n",
      "0: 640x640 1 license, 59.3ms\n",
      "Speed: 5.1ms preprocess, 59.3ms inference, 3.0ms postprocess per image at shape (1, 3, 640, 640)\n",
      "Number plate detected and stored for frame 145\n",
      "Processed frame 145\n",
      "\n",
      "0: 640x640 1 license, 55.3ms\n",
      "Speed: 5.5ms preprocess, 55.3ms inference, 0.0ms postprocess per image at shape (1, 3, 640, 640)\n",
      "Number plate detected and stored for frame 146\n",
      "Processed frame 146\n",
      "\n",
      "0: 640x640 2 licenses, 57.8ms\n",
      "Speed: 3.1ms preprocess, 57.8ms inference, 1.9ms postprocess per image at shape (1, 3, 640, 640)\n",
      "Number plate detected and stored for frame 147\n",
      "Processed frame 147\n",
      "\n",
      "0: 640x640 1 license, 55.8ms\n",
      "Speed: 6.6ms preprocess, 55.8ms inference, 2.1ms postprocess per image at shape (1, 3, 640, 640)\n",
      "Number plate detected and stored for frame 148\n",
      "Processed frame 148\n",
      "\n",
      "0: 640x640 1 license, 29.4ms\n",
      "Speed: 0.0ms preprocess, 29.4ms inference, 5.3ms postprocess per image at shape (1, 3, 640, 640)\n",
      "Number plate detected and stored for frame 149\n",
      "Processed frame 149\n",
      "\n",
      "0: 640x640 1 license, 20.8ms\n",
      "Speed: 3.9ms preprocess, 20.8ms inference, 7.1ms postprocess per image at shape (1, 3, 640, 640)\n",
      "Number plate detected and stored for frame 150\n",
      "Processed frame 150\n",
      "\n",
      "0: 640x640 1 license, 11.4ms\n",
      "Speed: 6.3ms preprocess, 11.4ms inference, 3.8ms postprocess per image at shape (1, 3, 640, 640)\n",
      "Number plate detected and stored for frame 151\n",
      "Processed frame 151\n",
      "\n",
      "0: 640x640 1 license, 6.7ms\n",
      "Speed: 7.6ms preprocess, 6.7ms inference, 6.8ms postprocess per image at shape (1, 3, 640, 640)\n",
      "Number plate detected and stored for frame 152\n",
      "Processed frame 152\n",
      "\n",
      "0: 640x640 1 license, 19.5ms\n",
      "Speed: 0.0ms preprocess, 19.5ms inference, 3.3ms postprocess per image at shape (1, 3, 640, 640)\n",
      "Number plate detected and stored for frame 153\n",
      "Processed frame 153\n",
      "\n",
      "0: 640x640 1 license, 14.7ms\n",
      "Speed: 2.1ms preprocess, 14.7ms inference, 3.9ms postprocess per image at shape (1, 3, 640, 640)\n",
      "Number plate detected and stored for frame 154\n",
      "Processed frame 154\n",
      "\n",
      "0: 640x640 1 license, 13.9ms\n",
      "Speed: 3.6ms preprocess, 13.9ms inference, 2.5ms postprocess per image at shape (1, 3, 640, 640)\n",
      "Number plate detected and stored for frame 155\n",
      "Processed frame 155\n",
      "\n",
      "0: 640x640 1 license, 19.5ms\n",
      "Speed: 4.6ms preprocess, 19.5ms inference, 3.0ms postprocess per image at shape (1, 3, 640, 640)\n",
      "Number plate detected and stored for frame 156\n",
      "Processed frame 156\n",
      "\n",
      "0: 640x640 1 license, 26.1ms\n",
      "Speed: 6.0ms preprocess, 26.1ms inference, 0.0ms postprocess per image at shape (1, 3, 640, 640)\n",
      "Number plate detected and stored for frame 157\n",
      "Processed frame 157\n",
      "\n",
      "0: 640x640 1 license, 63.7ms\n",
      "Speed: 10.1ms preprocess, 63.7ms inference, 2.4ms postprocess per image at shape (1, 3, 640, 640)\n",
      "Number plate detected and stored for frame 158\n",
      "Processed frame 158\n",
      "\n",
      "0: 640x640 1 license, 66.5ms\n",
      "Speed: 1.9ms preprocess, 66.5ms inference, 0.3ms postprocess per image at shape (1, 3, 640, 640)\n",
      "Number plate detected and stored for frame 159\n",
      "Processed frame 159\n",
      "\n",
      "0: 640x640 1 license, 64.2ms\n",
      "Speed: 7.6ms preprocess, 64.2ms inference, 4.5ms postprocess per image at shape (1, 3, 640, 640)\n",
      "Number plate detected and stored for frame 160\n",
      "Processed frame 160\n",
      "\n",
      "0: 640x640 1 license, 54.4ms\n",
      "Speed: 5.5ms preprocess, 54.4ms inference, 0.0ms postprocess per image at shape (1, 3, 640, 640)\n",
      "Number plate detected and stored for frame 161\n",
      "Processed frame 161\n",
      "\n",
      "0: 640x640 1 license, 59.4ms\n",
      "Speed: 9.5ms preprocess, 59.4ms inference, 3.6ms postprocess per image at shape (1, 3, 640, 640)\n",
      "Number plate detected and stored for frame 162\n",
      "Processed frame 162\n",
      "\n",
      "0: 640x640 2 licenses, 62.0ms\n",
      "Speed: 1.3ms preprocess, 62.0ms inference, 6.0ms postprocess per image at shape (1, 3, 640, 640)\n",
      "Number plate detected and stored for frame 163\n",
      "Processed frame 163\n",
      "\n",
      "0: 640x640 1 license, 54.5ms\n",
      "Speed: 1.6ms preprocess, 54.5ms inference, 9.6ms postprocess per image at shape (1, 3, 640, 640)\n",
      "Number plate detected and stored for frame 164\n",
      "Processed frame 164\n",
      "\n",
      "0: 640x640 1 license, 60.3ms\n",
      "Speed: 9.1ms preprocess, 60.3ms inference, 1.1ms postprocess per image at shape (1, 3, 640, 640)\n",
      "Number plate detected and stored for frame 165\n",
      "Processed frame 165\n",
      "\n",
      "0: 640x640 2 licenses, 55.7ms\n",
      "Speed: 4.3ms preprocess, 55.7ms inference, 0.0ms postprocess per image at shape (1, 3, 640, 640)\n",
      "Number plate detected and stored for frame 166\n",
      "Processed frame 166\n",
      "\n",
      "0: 640x640 1 license, 54.0ms\n",
      "Speed: 5.1ms preprocess, 54.0ms inference, 4.3ms postprocess per image at shape (1, 3, 640, 640)\n",
      "Number plate detected and stored for frame 167\n",
      "Processed frame 167\n",
      "\n",
      "0: 640x640 1 license, 13.1ms\n",
      "Speed: 0.0ms preprocess, 13.1ms inference, 7.0ms postprocess per image at shape (1, 3, 640, 640)\n",
      "Number plate detected and stored for frame 168\n",
      "Processed frame 168\n",
      "\n",
      "0: 640x640 2 licenses, 19.3ms\n",
      "Speed: 4.2ms preprocess, 19.3ms inference, 3.8ms postprocess per image at shape (1, 3, 640, 640)\n",
      "Number plate detected and stored for frame 169\n",
      "Processed frame 169\n",
      "\n",
      "0: 640x640 2 licenses, 16.1ms\n",
      "Speed: 5.6ms preprocess, 16.1ms inference, 1.8ms postprocess per image at shape (1, 3, 640, 640)\n",
      "Number plate detected and stored for frame 170\n",
      "Processed frame 170\n",
      "\n",
      "0: 640x640 1 license, 11.2ms\n",
      "Speed: 6.6ms preprocess, 11.2ms inference, 3.2ms postprocess per image at shape (1, 3, 640, 640)\n",
      "Number plate detected and stored for frame 171\n",
      "Processed frame 171\n",
      "\n",
      "0: 640x640 1 license, 11.5ms\n",
      "Speed: 2.3ms preprocess, 11.5ms inference, 1.9ms postprocess per image at shape (1, 3, 640, 640)\n",
      "Number plate detected and stored for frame 172\n",
      "Processed frame 172\n",
      "\n",
      "0: 640x640 1 license, 7.9ms\n",
      "Speed: 6.7ms preprocess, 7.9ms inference, 6.1ms postprocess per image at shape (1, 3, 640, 640)\n",
      "Number plate detected and stored for frame 173\n",
      "Processed frame 173\n",
      "\n",
      "0: 640x640 1 license, 13.5ms\n",
      "Speed: 3.1ms preprocess, 13.5ms inference, 1.7ms postprocess per image at shape (1, 3, 640, 640)\n",
      "Number plate detected and stored for frame 174\n",
      "Processed frame 174\n",
      "\n",
      "0: 640x640 1 license, 59.1ms\n",
      "Speed: 6.5ms preprocess, 59.1ms inference, 0.8ms postprocess per image at shape (1, 3, 640, 640)\n",
      "Number plate detected and stored for frame 175\n",
      "Processed frame 175\n",
      "\n",
      "0: 640x640 1 license, 59.9ms\n",
      "Speed: 7.1ms preprocess, 59.9ms inference, 2.3ms postprocess per image at shape (1, 3, 640, 640)\n",
      "Number plate detected and stored for frame 176\n",
      "Processed frame 176\n",
      "\n",
      "0: 640x640 1 license, 61.5ms\n",
      "Speed: 3.1ms preprocess, 61.5ms inference, 6.6ms postprocess per image at shape (1, 3, 640, 640)\n",
      "Number plate detected and stored for frame 177\n",
      "Processed frame 177\n",
      "\n",
      "0: 640x640 1 license, 58.4ms\n",
      "Speed: 7.5ms preprocess, 58.4ms inference, 0.0ms postprocess per image at shape (1, 3, 640, 640)\n",
      "Number plate detected and stored for frame 178\n",
      "Processed frame 178\n",
      "\n",
      "0: 640x640 1 license, 61.5ms\n",
      "Speed: 8.1ms preprocess, 61.5ms inference, 6.6ms postprocess per image at shape (1, 3, 640, 640)\n",
      "Number plate detected and stored for frame 179\n",
      "Processed frame 179\n",
      "\n",
      "0: 640x640 1 license, 62.9ms\n",
      "Speed: 0.0ms preprocess, 62.9ms inference, 0.0ms postprocess per image at shape (1, 3, 640, 640)\n",
      "Number plate detected and stored for frame 180\n",
      "Processed frame 180\n",
      "\n",
      "0: 640x640 1 license, 62.1ms\n",
      "Speed: 0.0ms preprocess, 62.1ms inference, 0.0ms postprocess per image at shape (1, 3, 640, 640)\n",
      "Number plate detected and stored for frame 181\n",
      "Processed frame 181\n",
      "\n",
      "0: 640x640 1 license, 54.7ms\n",
      "Speed: 8.7ms preprocess, 54.7ms inference, 5.5ms postprocess per image at shape (1, 3, 640, 640)\n",
      "Number plate detected and stored for frame 182\n",
      "Processed frame 182\n",
      "\n",
      "0: 640x640 1 license, 62.1ms\n",
      "Speed: 7.0ms preprocess, 62.1ms inference, 0.8ms postprocess per image at shape (1, 3, 640, 640)\n",
      "Number plate detected and stored for frame 183\n",
      "Processed frame 183\n",
      "\n",
      "0: 640x640 1 license, 56.3ms\n",
      "Speed: 5.4ms preprocess, 56.3ms inference, 5.7ms postprocess per image at shape (1, 3, 640, 640)\n",
      "Number plate detected and stored for frame 184\n",
      "Processed frame 184\n",
      "\n",
      "0: 640x640 1 license, 61.9ms\n",
      "Speed: 7.4ms preprocess, 61.9ms inference, 0.6ms postprocess per image at shape (1, 3, 640, 640)\n",
      "Number plate detected and stored for frame 185\n",
      "Processed frame 185\n",
      "\n",
      "0: 640x640 1 license, 60.0ms\n",
      "Speed: 5.8ms preprocess, 60.0ms inference, 0.0ms postprocess per image at shape (1, 3, 640, 640)\n",
      "Number plate detected and stored for frame 186\n",
      "Processed frame 186\n",
      "\n",
      "0: 640x640 1 license, 49.4ms\n",
      "Speed: 7.4ms preprocess, 49.4ms inference, 6.9ms postprocess per image at shape (1, 3, 640, 640)\n",
      "Number plate detected and stored for frame 187\n",
      "Processed frame 187\n",
      "\n",
      "0: 640x640 1 license, 54.7ms\n",
      "Speed: 5.1ms preprocess, 54.7ms inference, 0.4ms postprocess per image at shape (1, 3, 640, 640)\n",
      "Number plate detected and stored for frame 188\n",
      "Processed frame 188\n",
      "\n",
      "0: 640x640 1 license, 55.3ms\n",
      "Speed: 6.9ms preprocess, 55.3ms inference, 6.5ms postprocess per image at shape (1, 3, 640, 640)\n",
      "Number plate detected and stored for frame 189\n",
      "Processed frame 189\n",
      "\n",
      "0: 640x640 1 license, 58.4ms\n",
      "Speed: 7.5ms preprocess, 58.4ms inference, 4.0ms postprocess per image at shape (1, 3, 640, 640)\n",
      "Number plate detected and stored for frame 190\n",
      "Processed frame 190\n",
      "\n",
      "0: 640x640 1 license, 11.7ms\n",
      "Speed: 0.6ms preprocess, 11.7ms inference, 0.0ms postprocess per image at shape (1, 3, 640, 640)\n",
      "Number plate detected and stored for frame 191\n",
      "Processed frame 191\n",
      "\n",
      "0: 640x640 1 license, 6.7ms\n",
      "Speed: 2.5ms preprocess, 6.7ms inference, 7.1ms postprocess per image at shape (1, 3, 640, 640)\n",
      "Number plate detected and stored for frame 192\n",
      "Processed frame 192\n",
      "\n",
      "0: 640x640 1 license, 9.3ms\n",
      "Speed: 8.5ms preprocess, 9.3ms inference, 0.0ms postprocess per image at shape (1, 3, 640, 640)\n",
      "Number plate detected and stored for frame 193\n",
      "Processed frame 193\n",
      "\n",
      "0: 640x640 1 license, 14.6ms\n",
      "Speed: 0.0ms preprocess, 14.6ms inference, 2.6ms postprocess per image at shape (1, 3, 640, 640)\n",
      "Number plate detected and stored for frame 194\n",
      "Processed frame 194\n",
      "\n",
      "0: 640x640 1 license, 11.3ms\n",
      "Speed: 7.7ms preprocess, 11.3ms inference, 1.2ms postprocess per image at shape (1, 3, 640, 640)\n",
      "Number plate detected and stored for frame 195\n",
      "Processed frame 195\n",
      "\n",
      "0: 640x640 1 license, 13.5ms\n",
      "Speed: 7.3ms preprocess, 13.5ms inference, 3.3ms postprocess per image at shape (1, 3, 640, 640)\n",
      "Number plate detected and stored for frame 196\n",
      "Processed frame 196\n",
      "\n",
      "0: 640x640 1 license, 11.4ms\n",
      "Speed: 3.5ms preprocess, 11.4ms inference, 3.5ms postprocess per image at shape (1, 3, 640, 640)\n",
      "Number plate detected and stored for frame 197\n",
      "Processed frame 197\n",
      "\n",
      "0: 640x640 1 license, 16.9ms\n",
      "Speed: 0.6ms preprocess, 16.9ms inference, 0.0ms postprocess per image at shape (1, 3, 640, 640)\n",
      "Number plate detected and stored for frame 198\n",
      "Processed frame 198\n",
      "\n",
      "0: 640x640 1 license, 8.4ms\n",
      "Speed: 2.0ms preprocess, 8.4ms inference, 5.7ms postprocess per image at shape (1, 3, 640, 640)\n",
      "Number plate detected and stored for frame 199\n",
      "Processed frame 199\n",
      "\n",
      "0: 640x640 1 license, 19.4ms\n",
      "Speed: 4.8ms preprocess, 19.4ms inference, 0.0ms postprocess per image at shape (1, 3, 640, 640)\n",
      "Number plate detected and stored for frame 200\n",
      "Processed frame 200\n",
      "\n",
      "0: 640x640 1 license, 62.8ms\n",
      "Speed: 5.4ms preprocess, 62.8ms inference, 1.1ms postprocess per image at shape (1, 3, 640, 640)\n",
      "Number plate detected and stored for frame 201\n",
      "Processed frame 201\n",
      "\n",
      "0: 640x640 1 license, 55.8ms\n",
      "Speed: 13.5ms preprocess, 55.8ms inference, 6.7ms postprocess per image at shape (1, 3, 640, 640)\n",
      "Number plate detected and stored for frame 202\n",
      "Processed frame 202\n",
      "\n",
      "0: 640x640 1 license, 62.8ms\n",
      "Speed: 6.9ms preprocess, 62.8ms inference, 7.7ms postprocess per image at shape (1, 3, 640, 640)\n",
      "Number plate detected and stored for frame 203\n",
      "Processed frame 203\n",
      "\n",
      "0: 640x640 1 license, 59.8ms\n",
      "Speed: 7.0ms preprocess, 59.8ms inference, 2.2ms postprocess per image at shape (1, 3, 640, 640)\n",
      "Number plate detected and stored for frame 204\n",
      "Processed frame 204\n",
      "\n",
      "0: 640x640 1 license, 62.5ms\n",
      "Speed: 4.0ms preprocess, 62.5ms inference, 7.1ms postprocess per image at shape (1, 3, 640, 640)\n",
      "Number plate detected and stored for frame 205\n",
      "Processed frame 205\n",
      "\n",
      "0: 640x640 1 license, 55.4ms\n",
      "Speed: 7.0ms preprocess, 55.4ms inference, 0.0ms postprocess per image at shape (1, 3, 640, 640)\n",
      "Number plate detected and stored for frame 206\n",
      "Processed frame 206\n",
      "\n",
      "0: 640x640 1 license, 57.3ms\n",
      "Speed: 5.4ms preprocess, 57.3ms inference, 6.7ms postprocess per image at shape (1, 3, 640, 640)\n",
      "Number plate detected and stored for frame 207\n",
      "Processed frame 207\n",
      "\n",
      "0: 640x640 1 license, 62.4ms\n",
      "Speed: 0.0ms preprocess, 62.4ms inference, 0.0ms postprocess per image at shape (1, 3, 640, 640)\n",
      "Number plate detected and stored for frame 208\n",
      "Processed frame 208\n",
      "\n",
      "0: 640x640 1 license, 62.3ms\n",
      "Speed: 0.0ms preprocess, 62.3ms inference, 0.0ms postprocess per image at shape (1, 3, 640, 640)\n",
      "Number plate detected and stored for frame 209\n",
      "Processed frame 209\n",
      "\n",
      "0: 640x640 2 licenses, 69.1ms\n",
      "Speed: 1.0ms preprocess, 69.1ms inference, 0.0ms postprocess per image at shape (1, 3, 640, 640)\n",
      "Number plate detected and stored for frame 210\n",
      "Processed frame 210\n",
      "\n",
      "0: 640x640 1 license, 61.7ms\n",
      "Speed: 0.0ms preprocess, 61.7ms inference, 0.0ms postprocess per image at shape (1, 3, 640, 640)\n",
      "Number plate detected and stored for frame 211\n",
      "Processed frame 211\n",
      "\n",
      "0: 640x640 1 license, 66.0ms\n",
      "Speed: 0.0ms preprocess, 66.0ms inference, 4.0ms postprocess per image at shape (1, 3, 640, 640)\n",
      "Number plate detected and stored for frame 212\n",
      "Processed frame 212\n",
      "\n",
      "0: 640x640 1 license, 7.5ms\n",
      "Speed: 0.0ms preprocess, 7.5ms inference, 0.0ms postprocess per image at shape (1, 3, 640, 640)\n",
      "Number plate detected and stored for frame 213\n",
      "Processed frame 213\n",
      "\n",
      "0: 640x640 1 license, 10.7ms\n",
      "Speed: 5.1ms preprocess, 10.7ms inference, 6.2ms postprocess per image at shape (1, 3, 640, 640)\n",
      "Number plate detected and stored for frame 214\n",
      "Processed frame 214\n",
      "\n",
      "0: 640x640 1 license, 14.3ms\n",
      "Speed: 0.0ms preprocess, 14.3ms inference, 0.0ms postprocess per image at shape (1, 3, 640, 640)\n",
      "Number plate detected and stored for frame 215\n",
      "Processed frame 215\n",
      "\n",
      "0: 640x640 1 license, 18.6ms\n",
      "Speed: 0.0ms preprocess, 18.6ms inference, 0.0ms postprocess per image at shape (1, 3, 640, 640)\n",
      "Number plate detected and stored for frame 216\n",
      "Processed frame 216\n",
      "\n",
      "0: 640x640 1 license, 20.7ms\n",
      "Speed: 0.0ms preprocess, 20.7ms inference, 0.0ms postprocess per image at shape (1, 3, 640, 640)\n",
      "Number plate detected and stored for frame 217\n",
      "Processed frame 217\n",
      "\n",
      "0: 640x640 1 license, 17.5ms\n",
      "Speed: 5.8ms preprocess, 17.5ms inference, 0.0ms postprocess per image at shape (1, 3, 640, 640)\n",
      "Number plate detected and stored for frame 218\n",
      "Processed frame 218\n",
      "\n",
      "0: 640x640 1 license, 57.9ms\n",
      "Speed: 7.5ms preprocess, 57.9ms inference, 0.0ms postprocess per image at shape (1, 3, 640, 640)\n",
      "Number plate detected and stored for frame 219\n",
      "Processed frame 219\n",
      "\n",
      "0: 640x640 1 license, 15.9ms\n",
      "Speed: 8.1ms preprocess, 15.9ms inference, 2.0ms postprocess per image at shape (1, 3, 640, 640)\n",
      "Number plate detected and stored for frame 220\n",
      "Processed frame 220\n",
      "\n",
      "0: 640x640 1 license, 23.9ms\n",
      "Speed: 0.0ms preprocess, 23.9ms inference, 1.6ms postprocess per image at shape (1, 3, 640, 640)\n",
      "Number plate detected and stored for frame 221\n",
      "Processed frame 221\n",
      "\n",
      "0: 640x640 1 license, 17.1ms\n",
      "Speed: 3.9ms preprocess, 17.1ms inference, 0.0ms postprocess per image at shape (1, 3, 640, 640)\n",
      "Number plate detected and stored for frame 222\n",
      "Processed frame 222\n",
      "\n",
      "0: 640x640 1 license, 20.2ms\n",
      "Speed: 5.1ms preprocess, 20.2ms inference, 0.0ms postprocess per image at shape (1, 3, 640, 640)\n",
      "Number plate detected and stored for frame 223\n",
      "Processed frame 223\n",
      "\n",
      "0: 640x640 1 license, 56.0ms\n",
      "Speed: 6.9ms preprocess, 56.0ms inference, 8.2ms postprocess per image at shape (1, 3, 640, 640)\n",
      "Number plate detected and stored for frame 224\n",
      "Processed frame 224\n",
      "\n",
      "0: 640x640 1 license, 59.6ms\n",
      "Speed: 6.0ms preprocess, 59.6ms inference, 2.6ms postprocess per image at shape (1, 3, 640, 640)\n",
      "Number plate detected and stored for frame 225\n",
      "Processed frame 225\n",
      "\n",
      "0: 640x640 1 license, 55.5ms\n",
      "Speed: 6.7ms preprocess, 55.5ms inference, 4.5ms postprocess per image at shape (1, 3, 640, 640)\n",
      "Number plate detected and stored for frame 226\n",
      "Processed frame 226\n",
      "\n",
      "0: 640x640 1 license, 61.1ms\n",
      "Speed: 3.5ms preprocess, 61.1ms inference, 1.1ms postprocess per image at shape (1, 3, 640, 640)\n",
      "Number plate detected and stored for frame 227\n",
      "Processed frame 227\n",
      "\n",
      "0: 640x640 1 license, 63.5ms\n",
      "Speed: 5.4ms preprocess, 63.5ms inference, 4.9ms postprocess per image at shape (1, 3, 640, 640)\n",
      "Number plate detected and stored for frame 228\n",
      "Processed frame 228\n",
      "\n",
      "0: 640x640 1 license, 58.8ms\n",
      "Speed: 3.0ms preprocess, 58.8ms inference, 4.0ms postprocess per image at shape (1, 3, 640, 640)\n",
      "Number plate detected and stored for frame 229\n",
      "Processed frame 229\n",
      "\n",
      "0: 640x640 1 license, 59.0ms\n",
      "Speed: 3.7ms preprocess, 59.0ms inference, 0.0ms postprocess per image at shape (1, 3, 640, 640)\n",
      "Number plate detected and stored for frame 230\n",
      "Processed frame 230\n",
      "\n",
      "0: 640x640 1 license, 59.5ms\n",
      "Speed: 6.6ms preprocess, 59.5ms inference, 3.4ms postprocess per image at shape (1, 3, 640, 640)\n",
      "Number plate detected and stored for frame 231\n",
      "Processed frame 231\n",
      "\n",
      "0: 640x640 1 license, 58.6ms\n",
      "Speed: 6.6ms preprocess, 58.6ms inference, 3.5ms postprocess per image at shape (1, 3, 640, 640)\n",
      "Number plate detected and stored for frame 232\n",
      "Processed frame 232\n",
      "\n",
      "0: 640x640 1 license, 62.2ms\n",
      "Speed: 4.0ms preprocess, 62.2ms inference, 4.5ms postprocess per image at shape (1, 3, 640, 640)\n",
      "Number plate detected and stored for frame 233\n",
      "Processed frame 233\n",
      "\n",
      "0: 640x640 1 license, 54.9ms\n",
      "Speed: 6.5ms preprocess, 54.9ms inference, 0.6ms postprocess per image at shape (1, 3, 640, 640)\n",
      "Number plate detected and stored for frame 234\n",
      "Processed frame 234\n",
      "\n",
      "0: 640x640 1 license, 8.5ms\n",
      "Speed: 5.1ms preprocess, 8.5ms inference, 3.7ms postprocess per image at shape (1, 3, 640, 640)\n",
      "Number plate detected and stored for frame 235\n",
      "Processed frame 235\n",
      "\n",
      "0: 640x640 1 license, 9.3ms\n",
      "Speed: 6.5ms preprocess, 9.3ms inference, 0.0ms postprocess per image at shape (1, 3, 640, 640)\n",
      "Number plate detected and stored for frame 236\n",
      "Processed frame 236\n",
      "\n",
      "0: 640x640 1 license, 16.7ms\n",
      "Speed: 0.2ms preprocess, 16.7ms inference, 2.1ms postprocess per image at shape (1, 3, 640, 640)\n",
      "Number plate detected and stored for frame 237\n",
      "Processed frame 237\n",
      "\n",
      "0: 640x640 1 license, 6.9ms\n",
      "Speed: 7.2ms preprocess, 6.9ms inference, 7.5ms postprocess per image at shape (1, 3, 640, 640)\n",
      "Number plate detected and stored for frame 238\n",
      "Processed frame 238\n",
      "\n",
      "0: 640x640 1 license, 12.3ms\n",
      "Speed: 1.1ms preprocess, 12.3ms inference, 0.0ms postprocess per image at shape (1, 3, 640, 640)\n",
      "Number plate detected and stored for frame 239\n",
      "Processed frame 239\n",
      "\n",
      "0: 640x640 1 license, 14.7ms\n",
      "Speed: 0.0ms preprocess, 14.7ms inference, 0.0ms postprocess per image at shape (1, 3, 640, 640)\n",
      "Number plate detected and stored for frame 240\n",
      "Processed frame 240\n",
      "\n",
      "0: 640x640 1 license, 16.0ms\n",
      "Speed: 2.1ms preprocess, 16.0ms inference, 3.4ms postprocess per image at shape (1, 3, 640, 640)\n",
      "Number plate detected and stored for frame 241\n",
      "Processed frame 241\n",
      "\n",
      "0: 640x640 1 license, 9.3ms\n",
      "Speed: 4.9ms preprocess, 9.3ms inference, 0.0ms postprocess per image at shape (1, 3, 640, 640)\n",
      "Number plate detected and stored for frame 242\n",
      "Processed frame 242\n",
      "\n",
      "0: 640x640 1 license, 22.3ms\n",
      "Speed: 0.0ms preprocess, 22.3ms inference, 4.4ms postprocess per image at shape (1, 3, 640, 640)\n",
      "Number plate detected and stored for frame 243\n",
      "Processed frame 243\n",
      "\n",
      "0: 640x640 1 license, 17.8ms\n",
      "Speed: 9.0ms preprocess, 17.8ms inference, 0.0ms postprocess per image at shape (1, 3, 640, 640)\n",
      "Number plate detected and stored for frame 244\n",
      "Processed frame 244\n",
      "\n",
      "0: 640x640 1 license, 63.2ms\n",
      "Speed: 6.6ms preprocess, 63.2ms inference, 0.0ms postprocess per image at shape (1, 3, 640, 640)\n",
      "Number plate detected and stored for frame 245\n",
      "Processed frame 245\n",
      "\n",
      "0: 640x640 1 license, 56.1ms\n",
      "Speed: 8.4ms preprocess, 56.1ms inference, 0.0ms postprocess per image at shape (1, 3, 640, 640)\n",
      "Number plate detected and stored for frame 246\n",
      "Processed frame 246\n",
      "\n",
      "0: 640x640 1 license, 61.9ms\n",
      "Speed: 5.2ms preprocess, 61.9ms inference, 3.0ms postprocess per image at shape (1, 3, 640, 640)\n",
      "Number plate detected and stored for frame 247\n",
      "Processed frame 247\n",
      "\n",
      "0: 640x640 1 license, 54.6ms\n",
      "Speed: 8.1ms preprocess, 54.6ms inference, 7.0ms postprocess per image at shape (1, 3, 640, 640)\n",
      "Number plate detected and stored for frame 248\n",
      "Processed frame 248\n",
      "\n",
      "0: 640x640 1 license, 52.5ms\n",
      "Speed: 9.9ms preprocess, 52.5ms inference, 0.0ms postprocess per image at shape (1, 3, 640, 640)\n",
      "Number plate detected and stored for frame 249\n",
      "Processed frame 249\n",
      "\n",
      "0: 640x640 1 license, 58.0ms\n",
      "Speed: 3.5ms preprocess, 58.0ms inference, 7.4ms postprocess per image at shape (1, 3, 640, 640)\n",
      "Number plate detected and stored for frame 250\n",
      "Processed frame 250\n",
      "\n",
      "0: 640x640 1 license, 62.5ms\n",
      "Speed: 6.9ms preprocess, 62.5ms inference, 0.5ms postprocess per image at shape (1, 3, 640, 640)\n",
      "Number plate detected and stored for frame 251\n",
      "Processed frame 251\n",
      "\n",
      "0: 640x640 1 license, 61.8ms\n",
      "Speed: 3.5ms preprocess, 61.8ms inference, 0.0ms postprocess per image at shape (1, 3, 640, 640)\n",
      "Number plate detected and stored for frame 252\n",
      "Processed frame 252\n",
      "\n",
      "0: 640x640 1 license, 62.1ms\n",
      "Speed: 9.7ms preprocess, 62.1ms inference, 3.9ms postprocess per image at shape (1, 3, 640, 640)\n",
      "Number plate detected and stored for frame 253\n",
      "Processed frame 253\n",
      "\n",
      "0: 640x640 1 license, 58.3ms\n",
      "Speed: 10.6ms preprocess, 58.3ms inference, 0.0ms postprocess per image at shape (1, 3, 640, 640)\n",
      "Number plate detected and stored for frame 254\n",
      "Processed frame 254\n",
      "\n",
      "0: 640x640 1 license, 53.0ms\n",
      "Speed: 6.4ms preprocess, 53.0ms inference, 0.0ms postprocess per image at shape (1, 3, 640, 640)\n",
      "Number plate detected and stored for frame 255\n",
      "Processed frame 255\n",
      "\n",
      "0: 640x640 1 license, 60.7ms\n",
      "Speed: 2.1ms preprocess, 60.7ms inference, 0.0ms postprocess per image at shape (1, 3, 640, 640)\n",
      "Number plate detected and stored for frame 256\n",
      "Processed frame 256\n",
      "\n",
      "0: 640x640 1 license, 55.3ms\n",
      "Speed: 6.5ms preprocess, 55.3ms inference, 7.2ms postprocess per image at shape (1, 3, 640, 640)\n",
      "Number plate detected and stored for frame 257\n",
      "Processed frame 257\n",
      "\n",
      "0: 640x640 1 license, 6.6ms\n",
      "Speed: 3.4ms preprocess, 6.6ms inference, 7.6ms postprocess per image at shape (1, 3, 640, 640)\n",
      "Number plate detected and stored for frame 258\n",
      "Processed frame 258\n",
      "\n",
      "0: 640x640 1 license, 23.5ms\n",
      "Speed: 0.0ms preprocess, 23.5ms inference, 6.1ms postprocess per image at shape (1, 3, 640, 640)\n",
      "Number plate detected and stored for frame 259\n",
      "Processed frame 259\n",
      "\n",
      "0: 640x640 2 licenses, 13.7ms\n",
      "Speed: 6.1ms preprocess, 13.7ms inference, 0.0ms postprocess per image at shape (1, 3, 640, 640)\n",
      "Number plate detected and stored for frame 260\n",
      "Processed frame 260\n",
      "\n",
      "0: 640x640 1 license, 13.5ms\n",
      "Speed: 2.8ms preprocess, 13.5ms inference, 4.6ms postprocess per image at shape (1, 3, 640, 640)\n",
      "Number plate detected and stored for frame 261\n",
      "Processed frame 261\n",
      "\n",
      "0: 640x640 2 licenses, 12.9ms\n",
      "Speed: 0.8ms preprocess, 12.9ms inference, 1.6ms postprocess per image at shape (1, 3, 640, 640)\n",
      "Number plate detected and stored for frame 262\n",
      "Processed frame 262\n",
      "\n",
      "0: 640x640 1 license, 23.2ms\n",
      "Speed: 0.0ms preprocess, 23.2ms inference, 1.2ms postprocess per image at shape (1, 3, 640, 640)\n",
      "Number plate detected and stored for frame 263\n",
      "Processed frame 263\n",
      "\n",
      "0: 640x640 1 license, 11.0ms\n",
      "Speed: 4.3ms preprocess, 11.0ms inference, 1.5ms postprocess per image at shape (1, 3, 640, 640)\n",
      "Number plate detected and stored for frame 264\n",
      "Processed frame 264\n",
      "\n",
      "0: 640x640 1 license, 11.7ms\n",
      "Speed: 5.5ms preprocess, 11.7ms inference, 0.0ms postprocess per image at shape (1, 3, 640, 640)\n",
      "Number plate detected and stored for frame 265\n",
      "Processed frame 265\n",
      "\n",
      "0: 640x640 1 license, 59.8ms\n",
      "Speed: 9.8ms preprocess, 59.8ms inference, 1.0ms postprocess per image at shape (1, 3, 640, 640)\n",
      "Number plate detected and stored for frame 266\n",
      "Processed frame 266\n",
      "\n",
      "0: 640x640 1 license, 57.0ms\n",
      "Speed: 5.8ms preprocess, 57.0ms inference, 6.8ms postprocess per image at shape (1, 3, 640, 640)\n",
      "Number plate detected and stored for frame 267\n",
      "Processed frame 267\n",
      "\n",
      "0: 640x640 1 license, 52.9ms\n",
      "Speed: 7.1ms preprocess, 52.9ms inference, 9.0ms postprocess per image at shape (1, 3, 640, 640)\n",
      "Number plate detected and stored for frame 268\n",
      "Processed frame 268\n",
      "\n",
      "0: 640x640 1 license, 64.1ms\n",
      "Speed: 0.0ms preprocess, 64.1ms inference, 2.5ms postprocess per image at shape (1, 3, 640, 640)\n",
      "Number plate detected and stored for frame 269\n",
      "Processed frame 269\n",
      "\n",
      "0: 640x640 1 license, 56.5ms\n",
      "Speed: 7.5ms preprocess, 56.5ms inference, 2.2ms postprocess per image at shape (1, 3, 640, 640)\n",
      "Number plate detected and stored for frame 270\n",
      "Processed frame 270\n",
      "\n",
      "0: 640x640 1 license, 61.9ms\n",
      "Speed: 4.9ms preprocess, 61.9ms inference, 3.3ms postprocess per image at shape (1, 3, 640, 640)\n",
      "Number plate detected and stored for frame 271\n",
      "Processed frame 271\n",
      "\n",
      "0: 640x640 1 license, 58.9ms\n",
      "Speed: 8.2ms preprocess, 58.9ms inference, 7.4ms postprocess per image at shape (1, 3, 640, 640)\n",
      "Number plate detected and stored for frame 272\n",
      "Processed frame 272\n",
      "\n",
      "0: 640x640 1 license, 55.8ms\n",
      "Speed: 7.9ms preprocess, 55.8ms inference, 0.0ms postprocess per image at shape (1, 3, 640, 640)\n",
      "Number plate detected and stored for frame 273\n",
      "Processed frame 273\n",
      "\n",
      "0: 640x640 1 license, 61.6ms\n",
      "Speed: 11.5ms preprocess, 61.6ms inference, 2.3ms postprocess per image at shape (1, 3, 640, 640)\n",
      "Number plate detected and stored for frame 274\n",
      "Processed frame 274\n",
      "\n",
      "0: 640x640 1 license, 61.7ms\n",
      "Speed: 1.3ms preprocess, 61.7ms inference, 0.0ms postprocess per image at shape (1, 3, 640, 640)\n",
      "Number plate detected and stored for frame 275\n",
      "Processed frame 275\n",
      "\n",
      "0: 640x640 1 license, 59.5ms\n",
      "Speed: 4.2ms preprocess, 59.5ms inference, 0.0ms postprocess per image at shape (1, 3, 640, 640)\n",
      "Number plate detected and stored for frame 276\n",
      "Processed frame 276\n",
      "\n",
      "0: 640x640 1 license, 68.2ms\n",
      "Speed: 0.0ms preprocess, 68.2ms inference, 1.0ms postprocess per image at shape (1, 3, 640, 640)\n",
      "Number plate detected and stored for frame 277\n",
      "Processed frame 277\n",
      "\n",
      "0: 640x640 1 license, 62.9ms\n",
      "Speed: 1.1ms preprocess, 62.9ms inference, 0.0ms postprocess per image at shape (1, 3, 640, 640)\n",
      "Number plate detected and stored for frame 278\n",
      "Processed frame 278\n",
      "\n",
      "0: 640x640 2 licenses, 50.9ms\n",
      "Speed: 4.1ms preprocess, 50.9ms inference, 15.8ms postprocess per image at shape (1, 3, 640, 640)\n",
      "Number plate detected and stored for frame 279\n",
      "Processed frame 279\n",
      "\n",
      "0: 640x640 1 license, 59.4ms\n",
      "Speed: 10.4ms preprocess, 59.4ms inference, 0.0ms postprocess per image at shape (1, 3, 640, 640)\n",
      "Number plate detected and stored for frame 280\n",
      "Processed frame 280\n",
      "\n",
      "0: 640x640 1 license, 62.6ms\n",
      "Speed: 0.0ms preprocess, 62.6ms inference, 7.3ms postprocess per image at shape (1, 3, 640, 640)\n",
      "Number plate detected and stored for frame 281\n",
      "Processed frame 281\n",
      "\n",
      "0: 640x640 1 license, 13.7ms\n",
      "Speed: 1.1ms preprocess, 13.7ms inference, 1.0ms postprocess per image at shape (1, 3, 640, 640)\n",
      "Number plate detected and stored for frame 282\n",
      "Processed frame 282\n",
      "\n",
      "0: 640x640 1 license, 15.4ms\n",
      "Speed: 0.0ms preprocess, 15.4ms inference, 3.0ms postprocess per image at shape (1, 3, 640, 640)\n",
      "Number plate detected and stored for frame 283\n",
      "Processed frame 283\n",
      "\n",
      "0: 640x640 1 license, 10.9ms\n",
      "Speed: 5.2ms preprocess, 10.9ms inference, 3.0ms postprocess per image at shape (1, 3, 640, 640)\n",
      "Number plate detected and stored for frame 284\n",
      "Processed frame 284\n",
      "\n",
      "0: 640x640 1 license, 10.6ms\n",
      "Speed: 1.6ms preprocess, 10.6ms inference, 0.0ms postprocess per image at shape (1, 3, 640, 640)\n",
      "Number plate detected and stored for frame 285\n",
      "Processed frame 285\n",
      "\n",
      "0: 640x640 1 license, 17.7ms\n",
      "Speed: 0.0ms preprocess, 17.7ms inference, 6.8ms postprocess per image at shape (1, 3, 640, 640)\n",
      "Number plate detected and stored for frame 286\n",
      "Processed frame 286\n",
      "\n",
      "0: 640x640 1 license, 14.0ms\n",
      "Speed: 2.0ms preprocess, 14.0ms inference, 0.0ms postprocess per image at shape (1, 3, 640, 640)\n",
      "Number plate detected and stored for frame 287\n",
      "Processed frame 287\n",
      "\n",
      "0: 640x640 1 license, 13.4ms\n",
      "Speed: 0.0ms preprocess, 13.4ms inference, 0.0ms postprocess per image at shape (1, 3, 640, 640)\n",
      "Number plate detected and stored for frame 288\n",
      "Processed frame 288\n",
      "\n",
      "0: 640x640 1 license, 9.4ms\n",
      "Speed: 5.1ms preprocess, 9.4ms inference, 6.5ms postprocess per image at shape (1, 3, 640, 640)\n",
      "Number plate detected and stored for frame 289\n",
      "Processed frame 289\n",
      "\n",
      "0: 640x640 1 license, 57.0ms\n",
      "Speed: 6.4ms preprocess, 57.0ms inference, 5.7ms postprocess per image at shape (1, 3, 640, 640)\n",
      "Number plate detected and stored for frame 290\n",
      "Processed frame 290\n",
      "\n",
      "0: 640x640 1 license, 56.3ms\n",
      "Speed: 7.0ms preprocess, 56.3ms inference, 0.0ms postprocess per image at shape (1, 3, 640, 640)\n",
      "Number plate detected and stored for frame 291\n",
      "Processed frame 291\n",
      "\n",
      "0: 640x640 1 license, 61.3ms\n",
      "Speed: 6.4ms preprocess, 61.3ms inference, 2.6ms postprocess per image at shape (1, 3, 640, 640)\n",
      "Number plate detected and stored for frame 292\n",
      "Processed frame 292\n",
      "\n",
      "0: 640x640 1 license, 61.9ms\n",
      "Speed: 7.4ms preprocess, 61.9ms inference, 0.0ms postprocess per image at shape (1, 3, 640, 640)\n",
      "Number plate detected and stored for frame 293\n",
      "Processed frame 293\n",
      "\n",
      "0: 640x640 1 license, 55.4ms\n",
      "Speed: 5.5ms preprocess, 55.4ms inference, 7.1ms postprocess per image at shape (1, 3, 640, 640)\n",
      "Number plate detected and stored for frame 294\n",
      "Processed frame 294\n",
      "\n",
      "0: 640x640 1 license, 65.8ms\n",
      "Speed: 6.9ms preprocess, 65.8ms inference, 2.6ms postprocess per image at shape (1, 3, 640, 640)\n",
      "Number plate detected and stored for frame 295\n",
      "Processed frame 295\n",
      "\n",
      "0: 640x640 1 license, 59.4ms\n",
      "Speed: 3.1ms preprocess, 59.4ms inference, 0.0ms postprocess per image at shape (1, 3, 640, 640)\n",
      "Number plate detected and stored for frame 296\n",
      "Processed frame 296\n",
      "\n",
      "0: 640x640 1 license, 54.6ms\n",
      "Speed: 0.5ms preprocess, 54.6ms inference, 5.1ms postprocess per image at shape (1, 3, 640, 640)\n",
      "Number plate detected and stored for frame 297\n",
      "Processed frame 297\n",
      "\n",
      "0: 640x640 1 license, 62.5ms\n",
      "Speed: 6.1ms preprocess, 62.5ms inference, 0.4ms postprocess per image at shape (1, 3, 640, 640)\n",
      "Number plate detected and stored for frame 298\n",
      "Processed frame 298\n",
      "\n",
      "0: 640x640 1 license, 57.6ms\n",
      "Speed: 6.2ms preprocess, 57.6ms inference, 7.2ms postprocess per image at shape (1, 3, 640, 640)\n",
      "Number plate detected and stored for frame 299\n",
      "Processed frame 299\n",
      "\n",
      "0: 640x640 1 license, 15.7ms\n",
      "Speed: 6.3ms preprocess, 15.7ms inference, 0.0ms postprocess per image at shape (1, 3, 640, 640)\n",
      "Number plate detected and stored for frame 300\n",
      "Processed frame 300\n",
      "\n",
      "0: 640x640 1 license, 16.9ms\n",
      "Speed: 3.6ms preprocess, 16.9ms inference, 3.1ms postprocess per image at shape (1, 3, 640, 640)\n",
      "Number plate detected and stored for frame 301\n",
      "Processed frame 301\n",
      "\n",
      "0: 640x640 1 license, 7.1ms\n",
      "Speed: 6.2ms preprocess, 7.1ms inference, 5.3ms postprocess per image at shape (1, 3, 640, 640)\n",
      "Number plate detected and stored for frame 302\n",
      "Processed frame 302\n",
      "\n",
      "0: 640x640 1 license, 15.6ms\n",
      "Speed: 0.0ms preprocess, 15.6ms inference, 0.0ms postprocess per image at shape (1, 3, 640, 640)\n",
      "Number plate detected and stored for frame 303\n",
      "Processed frame 303\n",
      "\n",
      "0: 640x640 1 license, 13.3ms\n",
      "Speed: 0.7ms preprocess, 13.3ms inference, 0.0ms postprocess per image at shape (1, 3, 640, 640)\n",
      "Number plate detected and stored for frame 304\n",
      "Processed frame 304\n",
      "\n",
      "0: 640x640 1 license, 12.4ms\n",
      "Speed: 7.1ms preprocess, 12.4ms inference, 2.6ms postprocess per image at shape (1, 3, 640, 640)\n",
      "Number plate detected and stored for frame 305\n",
      "Processed frame 305\n",
      "\n",
      "0: 640x640 1 license, 5.7ms\n",
      "Speed: 7.3ms preprocess, 5.7ms inference, 1.5ms postprocess per image at shape (1, 3, 640, 640)\n",
      "Number plate detected and stored for frame 306\n",
      "Processed frame 306\n",
      "\n",
      "0: 640x640 1 license, 10.2ms\n",
      "Speed: 3.4ms preprocess, 10.2ms inference, 2.6ms postprocess per image at shape (1, 3, 640, 640)\n",
      "Number plate detected and stored for frame 307\n",
      "Processed frame 307\n",
      "\n",
      "0: 640x640 1 license, 19.1ms\n",
      "Speed: 3.9ms preprocess, 19.1ms inference, 0.0ms postprocess per image at shape (1, 3, 640, 640)\n",
      "Number plate detected and stored for frame 308\n",
      "Processed frame 308\n",
      "\n",
      "0: 640x640 1 license, 18.6ms\n",
      "Speed: 0.3ms preprocess, 18.6ms inference, 6.3ms postprocess per image at shape (1, 3, 640, 640)\n",
      "Number plate detected and stored for frame 309\n",
      "Processed frame 309\n",
      "\n",
      "0: 640x640 1 license, 69.7ms\n",
      "Speed: 8.0ms preprocess, 69.7ms inference, 5.2ms postprocess per image at shape (1, 3, 640, 640)\n",
      "Number plate detected and stored for frame 310\n",
      "Processed frame 310\n",
      "\n",
      "0: 640x640 1 license, 71.1ms\n",
      "Speed: 7.0ms preprocess, 71.1ms inference, 4.3ms postprocess per image at shape (1, 3, 640, 640)\n",
      "Number plate detected and stored for frame 311\n",
      "Processed frame 311\n",
      "\n",
      "0: 640x640 1 license, 59.8ms\n",
      "Speed: 9.2ms preprocess, 59.8ms inference, 36.9ms postprocess per image at shape (1, 3, 640, 640)\n",
      "Number plate detected and stored for frame 312\n",
      "Processed frame 312\n",
      "\n",
      "0: 640x640 1 license, 62.8ms\n",
      "Speed: 6.1ms preprocess, 62.8ms inference, 4.1ms postprocess per image at shape (1, 3, 640, 640)\n",
      "Number plate detected and stored for frame 313\n",
      "Processed frame 313\n",
      "\n",
      "0: 640x640 1 license, 55.5ms\n",
      "Speed: 5.2ms preprocess, 55.5ms inference, 0.0ms postprocess per image at shape (1, 3, 640, 640)\n",
      "Number plate detected and stored for frame 314\n",
      "Processed frame 314\n",
      "\n",
      "0: 640x640 1 license, 62.4ms\n",
      "Speed: 5.2ms preprocess, 62.4ms inference, 1.2ms postprocess per image at shape (1, 3, 640, 640)\n",
      "Number plate detected and stored for frame 315\n",
      "Processed frame 315\n",
      "\n",
      "0: 640x640 1 license, 62.5ms\n",
      "Speed: 2.8ms preprocess, 62.5ms inference, 0.0ms postprocess per image at shape (1, 3, 640, 640)\n",
      "Number plate detected and stored for frame 316\n",
      "Processed frame 316\n",
      "\n",
      "0: 640x640 1 license, 60.7ms\n",
      "Speed: 4.4ms preprocess, 60.7ms inference, 5.4ms postprocess per image at shape (1, 3, 640, 640)\n",
      "Number plate detected and stored for frame 317\n",
      "Processed frame 317\n",
      "\n",
      "0: 640x640 1 license, 55.5ms\n",
      "Speed: 6.9ms preprocess, 55.5ms inference, 0.0ms postprocess per image at shape (1, 3, 640, 640)\n",
      "Number plate detected and stored for frame 318\n",
      "Processed frame 318\n",
      "\n",
      "0: 640x640 1 license, 59.2ms\n",
      "Speed: 4.5ms preprocess, 59.2ms inference, 0.0ms postprocess per image at shape (1, 3, 640, 640)\n",
      "Number plate detected and stored for frame 319\n",
      "Processed frame 319\n",
      "\n",
      "0: 640x640 1 license, 53.1ms\n",
      "Speed: 8.3ms preprocess, 53.1ms inference, 7.3ms postprocess per image at shape (1, 3, 640, 640)\n",
      "Number plate detected and stored for frame 320\n",
      "Processed frame 320\n",
      "\n",
      "0: 640x640 1 license, 55.6ms\n",
      "Speed: 5.1ms preprocess, 55.6ms inference, 6.7ms postprocess per image at shape (1, 3, 640, 640)\n",
      "Number plate detected and stored for frame 321\n",
      "Processed frame 321\n",
      "\n",
      "0: 640x640 1 license, 49.1ms\n",
      "Speed: 5.5ms preprocess, 49.1ms inference, 0.4ms postprocess per image at shape (1, 3, 640, 640)\n",
      "Number plate detected and stored for frame 322\n",
      "Processed frame 322\n",
      "\n",
      "0: 640x640 1 license, 68.0ms\n",
      "Speed: 1.1ms preprocess, 68.0ms inference, 0.7ms postprocess per image at shape (1, 3, 640, 640)\n",
      "Number plate detected and stored for frame 323\n",
      "Processed frame 323\n",
      "\n",
      "0: 640x640 1 license, 14.0ms\n",
      "Speed: 3.5ms preprocess, 14.0ms inference, 3.0ms postprocess per image at shape (1, 3, 640, 640)\n",
      "Number plate detected and stored for frame 324\n",
      "Processed frame 324\n",
      "\n",
      "0: 640x640 1 license, 13.8ms\n",
      "Speed: 0.0ms preprocess, 13.8ms inference, 0.0ms postprocess per image at shape (1, 3, 640, 640)\n",
      "Number plate detected and stored for frame 325\n",
      "Processed frame 325\n",
      "\n",
      "0: 640x640 1 license, 12.8ms\n",
      "Speed: 3.5ms preprocess, 12.8ms inference, 0.1ms postprocess per image at shape (1, 3, 640, 640)\n",
      "Number plate detected and stored for frame 326\n",
      "Processed frame 326\n",
      "\n",
      "0: 640x640 1 license, 10.3ms\n",
      "Speed: 0.0ms preprocess, 10.3ms inference, 0.0ms postprocess per image at shape (1, 3, 640, 640)\n",
      "Number plate detected and stored for frame 327\n",
      "Processed frame 327\n",
      "\n",
      "0: 640x640 1 license, 15.6ms\n",
      "Speed: 5.1ms preprocess, 15.6ms inference, 3.0ms postprocess per image at shape (1, 3, 640, 640)\n",
      "Number plate detected and stored for frame 328\n",
      "Processed frame 328\n",
      "\n",
      "0: 640x640 1 license, 13.1ms\n",
      "Speed: 3.9ms preprocess, 13.1ms inference, 2.1ms postprocess per image at shape (1, 3, 640, 640)\n",
      "Number plate detected and stored for frame 329\n",
      "Processed frame 329\n",
      "\n",
      "0: 640x640 1 license, 7.6ms\n",
      "Speed: 7.0ms preprocess, 7.6ms inference, 0.0ms postprocess per image at shape (1, 3, 640, 640)\n",
      "Number plate detected and stored for frame 330\n",
      "Processed frame 330\n",
      "\n",
      "0: 640x640 1 license, 9.9ms\n",
      "Speed: 6.0ms preprocess, 9.9ms inference, 3.8ms postprocess per image at shape (1, 3, 640, 640)\n",
      "Number plate detected and stored for frame 331\n",
      "Processed frame 331\n",
      "\n",
      "0: 640x640 1 license, 63.7ms\n",
      "Speed: 5.1ms preprocess, 63.7ms inference, 0.0ms postprocess per image at shape (1, 3, 640, 640)\n",
      "Number plate detected and stored for frame 332\n",
      "Processed frame 332\n",
      "\n",
      "0: 640x640 1 license, 59.3ms\n",
      "Speed: 9.6ms preprocess, 59.3ms inference, 4.6ms postprocess per image at shape (1, 3, 640, 640)\n",
      "Number plate detected and stored for frame 333\n",
      "Processed frame 333\n",
      "\n",
      "0: 640x640 1 license, 62.8ms\n",
      "Speed: 1.5ms preprocess, 62.8ms inference, 6.7ms postprocess per image at shape (1, 3, 640, 640)\n",
      "Number plate detected and stored for frame 334\n",
      "Processed frame 334\n",
      "\n",
      "0: 640x640 1 license, 59.7ms\n",
      "Speed: 3.3ms preprocess, 59.7ms inference, 6.6ms postprocess per image at shape (1, 3, 640, 640)\n",
      "Number plate detected and stored for frame 335\n",
      "Processed frame 335\n",
      "\n",
      "0: 640x640 1 license, 55.5ms\n",
      "Speed: 5.5ms preprocess, 55.5ms inference, 2.6ms postprocess per image at shape (1, 3, 640, 640)\n",
      "Number plate detected and stored for frame 336\n",
      "Processed frame 336\n",
      "\n",
      "0: 640x640 1 license, 54.7ms\n",
      "Speed: 0.8ms preprocess, 54.7ms inference, 0.0ms postprocess per image at shape (1, 3, 640, 640)\n",
      "Number plate detected and stored for frame 337\n",
      "Processed frame 337\n",
      "\n",
      "0: 640x640 1 license, 59.5ms\n",
      "Speed: 6.7ms preprocess, 59.5ms inference, 0.0ms postprocess per image at shape (1, 3, 640, 640)\n",
      "Number plate detected and stored for frame 338\n",
      "Processed frame 338\n",
      "\n",
      "0: 640x640 1 license, 60.5ms\n",
      "Speed: 5.6ms preprocess, 60.5ms inference, 3.4ms postprocess per image at shape (1, 3, 640, 640)\n",
      "Number plate detected and stored for frame 339\n",
      "Processed frame 339\n",
      "\n",
      "0: 640x640 1 license, 62.4ms\n",
      "Speed: 0.0ms preprocess, 62.4ms inference, 0.8ms postprocess per image at shape (1, 3, 640, 640)\n",
      "Number plate detected and stored for frame 340\n",
      "Processed frame 340\n",
      "\n",
      "0: 640x640 1 license, 60.0ms\n",
      "Speed: 2.6ms preprocess, 60.0ms inference, 3.2ms postprocess per image at shape (1, 3, 640, 640)\n",
      "Number plate detected and stored for frame 341\n",
      "Processed frame 341\n",
      "\n",
      "0: 640x640 1 license, 59.2ms\n",
      "Speed: 6.2ms preprocess, 59.2ms inference, 0.0ms postprocess per image at shape (1, 3, 640, 640)\n",
      "Number plate detected and stored for frame 342\n",
      "Processed frame 342\n",
      "\n",
      "0: 640x640 1 license, 10.9ms\n",
      "Speed: 5.6ms preprocess, 10.9ms inference, 4.2ms postprocess per image at shape (1, 3, 640, 640)\n",
      "Number plate detected and stored for frame 343\n",
      "Processed frame 343\n",
      "\n",
      "0: 640x640 1 license, 6.9ms\n",
      "Speed: 6.7ms preprocess, 6.9ms inference, 6.4ms postprocess per image at shape (1, 3, 640, 640)\n",
      "Number plate detected and stored for frame 344\n",
      "Processed frame 344\n",
      "\n",
      "0: 640x640 2 licenses, 11.0ms\n",
      "Speed: 3.0ms preprocess, 11.0ms inference, 4.1ms postprocess per image at shape (1, 3, 640, 640)\n",
      "Number plate detected and stored for frame 345\n",
      "Processed frame 345\n",
      "\n",
      "0: 640x640 1 license, 8.3ms\n",
      "Speed: 3.6ms preprocess, 8.3ms inference, 5.0ms postprocess per image at shape (1, 3, 640, 640)\n",
      "Number plate detected and stored for frame 346\n",
      "Processed frame 346\n",
      "\n",
      "0: 640x640 1 license, 13.3ms\n",
      "Speed: 7.4ms preprocess, 13.3ms inference, 0.0ms postprocess per image at shape (1, 3, 640, 640)\n",
      "Number plate detected and stored for frame 347\n",
      "Processed frame 347\n",
      "\n",
      "0: 640x640 2 licenses, 13.0ms\n",
      "Speed: 4.3ms preprocess, 13.0ms inference, 4.3ms postprocess per image at shape (1, 3, 640, 640)\n",
      "Number plate detected and stored for frame 348\n",
      "Processed frame 348\n",
      "\n",
      "0: 640x640 1 license, 11.2ms\n",
      "Speed: 7.2ms preprocess, 11.2ms inference, 0.0ms postprocess per image at shape (1, 3, 640, 640)\n",
      "Number plate detected and stored for frame 349\n",
      "Processed frame 349\n",
      "\n",
      "0: 640x640 2 licenses, 12.4ms\n",
      "Speed: 0.5ms preprocess, 12.4ms inference, 0.0ms postprocess per image at shape (1, 3, 640, 640)\n",
      "Number plate detected and stored for frame 350\n",
      "Processed frame 350\n",
      "\n",
      "0: 640x640 1 license, 62.1ms\n",
      "Speed: 0.4ms preprocess, 62.1ms inference, 0.0ms postprocess per image at shape (1, 3, 640, 640)\n",
      "Number plate detected and stored for frame 351\n",
      "Processed frame 351\n",
      "\n",
      "0: 640x640 1 license, 58.8ms\n",
      "Speed: 5.4ms preprocess, 58.8ms inference, 3.9ms postprocess per image at shape (1, 3, 640, 640)\n",
      "Number plate detected and stored for frame 352\n",
      "Processed frame 352\n",
      "\n",
      "0: 640x640 1 license, 55.9ms\n",
      "Speed: 5.5ms preprocess, 55.9ms inference, 7.2ms postprocess per image at shape (1, 3, 640, 640)\n",
      "Number plate detected and stored for frame 353\n",
      "Processed frame 353\n",
      "\n",
      "0: 640x640 1 license, 51.6ms\n",
      "Speed: 11.4ms preprocess, 51.6ms inference, 0.0ms postprocess per image at shape (1, 3, 640, 640)\n",
      "Number plate detected and stored for frame 354\n",
      "Processed frame 354\n",
      "\n",
      "0: 640x640 1 license, 56.1ms\n",
      "Speed: 6.7ms preprocess, 56.1ms inference, 0.0ms postprocess per image at shape (1, 3, 640, 640)\n",
      "Number plate detected and stored for frame 355\n",
      "Processed frame 355\n",
      "\n",
      "0: 640x640 1 license, 61.8ms\n",
      "Speed: 0.0ms preprocess, 61.8ms inference, 6.1ms postprocess per image at shape (1, 3, 640, 640)\n",
      "Number plate detected and stored for frame 356\n",
      "Processed frame 356\n",
      "\n",
      "0: 640x640 1 license, 56.8ms\n",
      "Speed: 6.6ms preprocess, 56.8ms inference, 0.0ms postprocess per image at shape (1, 3, 640, 640)\n",
      "Number plate detected and stored for frame 357\n",
      "Processed frame 357\n",
      "\n",
      "0: 640x640 1 license, 55.9ms\n",
      "Speed: 6.7ms preprocess, 55.9ms inference, 0.0ms postprocess per image at shape (1, 3, 640, 640)\n",
      "Number plate detected and stored for frame 358\n",
      "Processed frame 358\n",
      "\n",
      "0: 640x640 1 license, 55.2ms\n",
      "Speed: 3.7ms preprocess, 55.2ms inference, 0.0ms postprocess per image at shape (1, 3, 640, 640)\n",
      "Number plate detected and stored for frame 359\n",
      "Processed frame 359\n",
      "\n",
      "0: 640x640 1 license, 59.3ms\n",
      "Speed: 10.6ms preprocess, 59.3ms inference, 0.0ms postprocess per image at shape (1, 3, 640, 640)\n",
      "Number plate detected and stored for frame 360\n",
      "Processed frame 360\n",
      "\n",
      "0: 640x640 1 license, 59.0ms\n",
      "Speed: 3.3ms preprocess, 59.0ms inference, 0.0ms postprocess per image at shape (1, 3, 640, 640)\n",
      "Number plate detected and stored for frame 361\n",
      "Processed frame 361\n",
      "\n",
      "0: 640x640 1 license, 58.5ms\n",
      "Speed: 6.8ms preprocess, 58.5ms inference, 2.4ms postprocess per image at shape (1, 3, 640, 640)\n",
      "Number plate detected and stored for frame 362\n",
      "Processed frame 362\n",
      "\n",
      "0: 640x640 1 license, 14.2ms\n",
      "Speed: 0.0ms preprocess, 14.2ms inference, 3.5ms postprocess per image at shape (1, 3, 640, 640)\n",
      "Number plate detected and stored for frame 363\n",
      "Processed frame 363\n",
      "\n",
      "0: 640x640 1 license, 14.0ms\n",
      "Speed: 0.0ms preprocess, 14.0ms inference, 2.0ms postprocess per image at shape (1, 3, 640, 640)\n",
      "Number plate detected and stored for frame 364\n",
      "Processed frame 364\n",
      "\n",
      "0: 640x640 1 license, 11.7ms\n",
      "Speed: 3.3ms preprocess, 11.7ms inference, 1.5ms postprocess per image at shape (1, 3, 640, 640)\n",
      "Number plate detected and stored for frame 365\n",
      "Processed frame 365\n",
      "\n",
      "0: 640x640 1 license, 16.9ms\n",
      "Speed: 1.3ms preprocess, 16.9ms inference, 7.9ms postprocess per image at shape (1, 3, 640, 640)\n",
      "Number plate detected and stored for frame 366\n",
      "Processed frame 366\n",
      "\n",
      "0: 640x640 1 license, 6.2ms\n",
      "Speed: 3.2ms preprocess, 6.2ms inference, 6.7ms postprocess per image at shape (1, 3, 640, 640)\n",
      "Number plate detected and stored for frame 367\n",
      "Processed frame 367\n",
      "\n",
      "0: 640x640 1 license, 13.4ms\n",
      "Speed: 2.5ms preprocess, 13.4ms inference, 2.6ms postprocess per image at shape (1, 3, 640, 640)\n",
      "Number plate detected and stored for frame 368\n",
      "Processed frame 368\n",
      "\n",
      "0: 640x640 1 license, 14.1ms\n",
      "Speed: 1.0ms preprocess, 14.1ms inference, 0.0ms postprocess per image at shape (1, 3, 640, 640)\n",
      "Number plate detected and stored for frame 369\n",
      "Processed frame 369\n",
      "\n",
      "0: 640x640 1 license, 13.9ms\n",
      "Speed: 6.9ms preprocess, 13.9ms inference, 2.3ms postprocess per image at shape (1, 3, 640, 640)\n",
      "Number plate detected and stored for frame 370\n",
      "Processed frame 370\n",
      "\n",
      "0: 640x640 1 license, 19.0ms\n",
      "Speed: 7.3ms preprocess, 19.0ms inference, 3.5ms postprocess per image at shape (1, 3, 640, 640)\n",
      "Number plate detected and stored for frame 371\n",
      "Processed frame 371\n",
      "\n",
      "0: 640x640 1 license, 69.7ms\n",
      "Speed: 4.1ms preprocess, 69.7ms inference, 0.0ms postprocess per image at shape (1, 3, 640, 640)\n",
      "Number plate detected and stored for frame 372\n",
      "Processed frame 372\n",
      "\n",
      "0: 640x640 1 license, 57.1ms\n",
      "Speed: 6.8ms preprocess, 57.1ms inference, 4.8ms postprocess per image at shape (1, 3, 640, 640)\n",
      "Number plate detected and stored for frame 373\n",
      "Processed frame 373\n",
      "\n",
      "0: 640x640 1 license, 55.7ms\n",
      "Speed: 6.7ms preprocess, 55.7ms inference, 6.5ms postprocess per image at shape (1, 3, 640, 640)\n",
      "Number plate detected and stored for frame 374\n",
      "Processed frame 374\n",
      "\n",
      "0: 640x640 1 license, 67.2ms\n",
      "Speed: 3.6ms preprocess, 67.2ms inference, 5.8ms postprocess per image at shape (1, 3, 640, 640)\n",
      "Number plate detected and stored for frame 375\n",
      "Processed frame 375\n",
      "\n",
      "0: 640x640 1 license, 59.3ms\n",
      "Speed: 10.2ms preprocess, 59.3ms inference, 10.1ms postprocess per image at shape (1, 3, 640, 640)\n",
      "Number plate detected and stored for frame 376\n",
      "Processed frame 376\n",
      "\n",
      "0: 640x640 1 license, 63.8ms\n",
      "Speed: 7.1ms preprocess, 63.8ms inference, 0.0ms postprocess per image at shape (1, 3, 640, 640)\n",
      "Number plate detected and stored for frame 377\n",
      "Processed frame 377\n",
      "\n",
      "0: 640x640 1 license, 63.3ms\n",
      "Speed: 6.9ms preprocess, 63.3ms inference, 0.0ms postprocess per image at shape (1, 3, 640, 640)\n",
      "Number plate detected and stored for frame 378\n",
      "Processed frame 378\n",
      "\n",
      "0: 640x640 1 license, 53.4ms\n",
      "Speed: 5.2ms preprocess, 53.4ms inference, 3.8ms postprocess per image at shape (1, 3, 640, 640)\n",
      "Number plate detected and stored for frame 379\n",
      "Processed frame 379\n",
      "\n",
      "0: 640x640 1 license, 54.0ms\n",
      "Speed: 9.3ms preprocess, 54.0ms inference, 0.0ms postprocess per image at shape (1, 3, 640, 640)\n",
      "Number plate detected and stored for frame 380\n",
      "Processed frame 380\n",
      "\n",
      "0: 640x640 1 license, 63.1ms\n",
      "Speed: 7.3ms preprocess, 63.1ms inference, 0.0ms postprocess per image at shape (1, 3, 640, 640)\n",
      "Number plate detected and stored for frame 381\n",
      "Processed frame 381\n",
      "\n",
      "0: 640x640 1 license, 58.7ms\n",
      "Speed: 6.9ms preprocess, 58.7ms inference, 3.6ms postprocess per image at shape (1, 3, 640, 640)\n",
      "Number plate detected and stored for frame 382\n",
      "Processed frame 382\n",
      "\n",
      "0: 640x640 1 license, 55.4ms\n",
      "Speed: 14.0ms preprocess, 55.4ms inference, 0.0ms postprocess per image at shape (1, 3, 640, 640)\n",
      "Number plate detected and stored for frame 383\n",
      "Processed frame 383\n",
      "\n",
      "0: 640x640 1 license, 62.9ms\n",
      "Speed: 0.0ms preprocess, 62.9ms inference, 5.1ms postprocess per image at shape (1, 3, 640, 640)\n",
      "Number plate detected and stored for frame 384\n",
      "Processed frame 384\n",
      "\n",
      "0: 640x640 1 license, 55.6ms\n",
      "Speed: 6.9ms preprocess, 55.6ms inference, 0.0ms postprocess per image at shape (1, 3, 640, 640)\n",
      "Number plate detected and stored for frame 385\n",
      "Processed frame 385\n",
      "\n",
      "0: 640x640 1 license, 14.0ms\n",
      "Speed: 6.3ms preprocess, 14.0ms inference, 4.8ms postprocess per image at shape (1, 3, 640, 640)\n",
      "Number plate detected and stored for frame 386\n",
      "Processed frame 386\n",
      "\n",
      "0: 640x640 1 license, 13.1ms\n",
      "Speed: 0.2ms preprocess, 13.1ms inference, 5.5ms postprocess per image at shape (1, 3, 640, 640)\n",
      "Number plate detected and stored for frame 387\n",
      "Processed frame 387\n",
      "\n",
      "0: 640x640 1 license, 13.7ms\n",
      "Speed: 5.9ms preprocess, 13.7ms inference, 0.0ms postprocess per image at shape (1, 3, 640, 640)\n",
      "Number plate detected and stored for frame 388\n",
      "Processed frame 388\n",
      "\n",
      "0: 640x640 1 license, 16.8ms\n",
      "Speed: 3.1ms preprocess, 16.8ms inference, 3.3ms postprocess per image at shape (1, 3, 640, 640)\n",
      "Number plate detected and stored for frame 389\n",
      "Processed frame 389\n",
      "\n",
      "0: 640x640 1 license, 14.5ms\n",
      "Speed: 0.0ms preprocess, 14.5ms inference, 6.0ms postprocess per image at shape (1, 3, 640, 640)\n",
      "Number plate detected and stored for frame 390\n",
      "Processed frame 390\n",
      "\n",
      "0: 640x640 1 license, 12.3ms\n",
      "Speed: 0.9ms preprocess, 12.3ms inference, 0.0ms postprocess per image at shape (1, 3, 640, 640)\n",
      "Number plate detected and stored for frame 391\n",
      "Processed frame 391\n",
      "\n",
      "0: 640x640 1 license, 7.2ms\n",
      "Speed: 6.6ms preprocess, 7.2ms inference, 7.0ms postprocess per image at shape (1, 3, 640, 640)\n",
      "Number plate detected and stored for frame 392\n",
      "Processed frame 392\n",
      "\n",
      "0: 640x640 1 license, 64.3ms\n",
      "Speed: 5.1ms preprocess, 64.3ms inference, 6.2ms postprocess per image at shape (1, 3, 640, 640)\n",
      "Number plate detected and stored for frame 393\n",
      "Processed frame 393\n",
      "\n",
      "0: 640x640 1 license, 55.4ms\n",
      "Speed: 6.5ms preprocess, 55.4ms inference, 9.9ms postprocess per image at shape (1, 3, 640, 640)\n",
      "Number plate detected and stored for frame 394\n",
      "Processed frame 394\n",
      "\n",
      "0: 640x640 1 license, 50.9ms\n",
      "Speed: 7.0ms preprocess, 50.9ms inference, 6.6ms postprocess per image at shape (1, 3, 640, 640)\n",
      "Number plate detected and stored for frame 395\n",
      "Processed frame 395\n",
      "\n",
      "0: 640x640 1 license, 62.8ms\n",
      "Speed: 6.8ms preprocess, 62.8ms inference, 6.7ms postprocess per image at shape (1, 3, 640, 640)\n",
      "Number plate detected and stored for frame 396\n",
      "Processed frame 396\n",
      "\n",
      "0: 640x640 1 license, 59.8ms\n",
      "Speed: 8.4ms preprocess, 59.8ms inference, 5.0ms postprocess per image at shape (1, 3, 640, 640)\n",
      "Number plate detected and stored for frame 397\n",
      "Processed frame 397\n",
      "\n",
      "0: 640x640 1 license, 59.2ms\n",
      "Speed: 3.0ms preprocess, 59.2ms inference, 0.7ms postprocess per image at shape (1, 3, 640, 640)\n",
      "Number plate detected and stored for frame 398\n",
      "Processed frame 398\n",
      "\n",
      "0: 640x640 1 license, 55.6ms\n",
      "Speed: 6.3ms preprocess, 55.6ms inference, 7.1ms postprocess per image at shape (1, 3, 640, 640)\n",
      "Number plate detected and stored for frame 399\n",
      "Processed frame 399\n",
      "\n",
      "0: 640x640 1 license, 55.5ms\n",
      "Speed: 6.4ms preprocess, 55.5ms inference, 3.1ms postprocess per image at shape (1, 3, 640, 640)\n",
      "Number plate detected and stored for frame 400\n",
      "Processed frame 400\n",
      "\n",
      "0: 640x640 1 license, 63.2ms\n",
      "Speed: 6.5ms preprocess, 63.2ms inference, 0.0ms postprocess per image at shape (1, 3, 640, 640)\n",
      "Number plate detected and stored for frame 401\n",
      "Processed frame 401\n",
      "\n",
      "0: 640x640 1 license, 59.0ms\n",
      "Speed: 6.3ms preprocess, 59.0ms inference, 3.0ms postprocess per image at shape (1, 3, 640, 640)\n",
      "Number plate detected and stored for frame 402\n",
      "Processed frame 402\n",
      "\n",
      "0: 640x640 1 license, 64.8ms\n",
      "Speed: 10.3ms preprocess, 64.8ms inference, 0.3ms postprocess per image at shape (1, 3, 640, 640)\n",
      "Number plate detected and stored for frame 403\n",
      "Processed frame 403\n",
      "\n",
      "0: 640x640 1 license, 55.8ms\n",
      "Speed: 3.7ms preprocess, 55.8ms inference, 0.0ms postprocess per image at shape (1, 3, 640, 640)\n",
      "Number plate detected and stored for frame 404\n",
      "Processed frame 404\n",
      "\n",
      "0: 640x640 1 license, 60.7ms\n",
      "Speed: 0.0ms preprocess, 60.7ms inference, 3.0ms postprocess per image at shape (1, 3, 640, 640)\n",
      "Number plate detected and stored for frame 405\n",
      "Processed frame 405\n",
      "\n",
      "0: 640x640 1 license, 55.0ms\n",
      "Speed: 7.0ms preprocess, 55.0ms inference, 0.8ms postprocess per image at shape (1, 3, 640, 640)\n",
      "Number plate detected and stored for frame 406\n",
      "Processed frame 406\n",
      "\n",
      "0: 640x640 1 license, 5.7ms\n",
      "Speed: 4.4ms preprocess, 5.7ms inference, 6.9ms postprocess per image at shape (1, 3, 640, 640)\n",
      "Number plate detected and stored for frame 407\n",
      "Processed frame 407\n",
      "\n",
      "0: 640x640 1 license, 13.7ms\n",
      "Speed: 0.0ms preprocess, 13.7ms inference, 4.5ms postprocess per image at shape (1, 3, 640, 640)\n",
      "Number plate detected and stored for frame 408\n",
      "Processed frame 408\n",
      "\n",
      "0: 640x640 1 license, 8.2ms\n",
      "Speed: 4.0ms preprocess, 8.2ms inference, 5.6ms postprocess per image at shape (1, 3, 640, 640)\n",
      "Number plate detected and stored for frame 409\n",
      "Processed frame 409\n",
      "\n",
      "0: 640x640 1 license, 13.6ms\n",
      "Speed: 5.9ms preprocess, 13.6ms inference, 2.5ms postprocess per image at shape (1, 3, 640, 640)\n",
      "Number plate detected and stored for frame 410\n",
      "Processed frame 410\n",
      "\n",
      "0: 640x640 1 license, 17.7ms\n",
      "Speed: 2.7ms preprocess, 17.7ms inference, 3.8ms postprocess per image at shape (1, 3, 640, 640)\n",
      "Number plate detected and stored for frame 411\n",
      "Processed frame 411\n",
      "\n",
      "0: 640x640 1 license, 12.5ms\n",
      "Speed: 0.0ms preprocess, 12.5ms inference, 4.1ms postprocess per image at shape (1, 3, 640, 640)\n",
      "Number plate detected and stored for frame 412\n",
      "Processed frame 412\n",
      "\n",
      "0: 640x640 1 license, 17.8ms\n",
      "Speed: 0.0ms preprocess, 17.8ms inference, 0.0ms postprocess per image at shape (1, 3, 640, 640)\n",
      "Number plate detected and stored for frame 413\n",
      "Processed frame 413\n",
      "\n",
      "0: 640x640 1 license, 10.3ms\n",
      "Speed: 2.4ms preprocess, 10.3ms inference, 0.0ms postprocess per image at shape (1, 3, 640, 640)\n",
      "Number plate detected and stored for frame 414\n",
      "Processed frame 414\n",
      "\n",
      "0: 640x640 1 license, 69.3ms\n",
      "Speed: 0.6ms preprocess, 69.3ms inference, 3.6ms postprocess per image at shape (1, 3, 640, 640)\n",
      "Number plate detected and stored for frame 415\n",
      "Processed frame 415\n",
      "\n",
      "0: 640x640 1 license, 59.9ms\n",
      "Speed: 7.1ms preprocess, 59.9ms inference, 2.2ms postprocess per image at shape (1, 3, 640, 640)\n",
      "Number plate detected and stored for frame 416\n",
      "Processed frame 416\n",
      "\n",
      "0: 640x640 1 license, 63.2ms\n",
      "Speed: 5.7ms preprocess, 63.2ms inference, 3.5ms postprocess per image at shape (1, 3, 640, 640)\n",
      "Number plate detected and stored for frame 417\n",
      "Processed frame 417\n",
      "\n",
      "0: 640x640 1 license, 56.2ms\n",
      "Speed: 5.4ms preprocess, 56.2ms inference, 6.2ms postprocess per image at shape (1, 3, 640, 640)\n",
      "Number plate detected and stored for frame 418\n",
      "Processed frame 418\n",
      "\n",
      "0: 640x640 1 license, 62.1ms\n",
      "Speed: 7.9ms preprocess, 62.1ms inference, 6.5ms postprocess per image at shape (1, 3, 640, 640)\n",
      "Number plate detected and stored for frame 419\n",
      "Processed frame 419\n",
      "\n",
      "0: 640x640 1 license, 60.8ms\n",
      "Speed: 6.8ms preprocess, 60.8ms inference, 1.4ms postprocess per image at shape (1, 3, 640, 640)\n",
      "Number plate detected and stored for frame 420\n",
      "Processed frame 420\n",
      "\n",
      "0: 640x640 1 license, 63.5ms\n",
      "Speed: 0.0ms preprocess, 63.5ms inference, 4.9ms postprocess per image at shape (1, 3, 640, 640)\n",
      "Number plate detected and stored for frame 421\n",
      "Processed frame 421\n",
      "\n",
      "0: 640x640 1 license, 62.2ms\n",
      "Speed: 2.6ms preprocess, 62.2ms inference, 0.0ms postprocess per image at shape (1, 3, 640, 640)\n",
      "Number plate detected and stored for frame 422\n",
      "Processed frame 422\n",
      "\n",
      "0: 640x640 1 license, 54.4ms\n",
      "Speed: 7.2ms preprocess, 54.4ms inference, 0.6ms postprocess per image at shape (1, 3, 640, 640)\n",
      "Number plate detected and stored for frame 423\n",
      "Processed frame 423\n",
      "\n",
      "0: 640x640 1 license, 56.2ms\n",
      "Speed: 8.6ms preprocess, 56.2ms inference, 2.1ms postprocess per image at shape (1, 3, 640, 640)\n",
      "Number plate detected and stored for frame 424\n",
      "Processed frame 424\n",
      "\n",
      "0: 640x640 1 license, 55.4ms\n",
      "Speed: 5.9ms preprocess, 55.4ms inference, 5.5ms postprocess per image at shape (1, 3, 640, 640)\n",
      "Number plate detected and stored for frame 425\n",
      "Processed frame 425\n",
      "\n",
      "0: 640x640 1 license, 62.5ms\n",
      "Speed: 6.6ms preprocess, 62.5ms inference, 0.0ms postprocess per image at shape (1, 3, 640, 640)\n",
      "Number plate detected and stored for frame 426\n",
      "Processed frame 426\n",
      "\n",
      "0: 640x640 1 license, 58.4ms\n",
      "Speed: 7.9ms preprocess, 58.4ms inference, 3.8ms postprocess per image at shape (1, 3, 640, 640)\n",
      "Number plate detected and stored for frame 427\n",
      "Processed frame 427\n",
      "\n",
      "0: 640x640 1 license, 56.1ms\n",
      "Speed: 6.4ms preprocess, 56.1ms inference, 6.9ms postprocess per image at shape (1, 3, 640, 640)\n",
      "Number plate detected and stored for frame 428\n",
      "Processed frame 428\n",
      "\n",
      "0: 640x640 1 license, 56.0ms\n",
      "Speed: 6.6ms preprocess, 56.0ms inference, 6.6ms postprocess per image at shape (1, 3, 640, 640)\n",
      "Number plate detected and stored for frame 429\n",
      "Processed frame 429\n",
      "\n",
      "0: 640x640 1 license, 62.7ms\n",
      "Speed: 0.0ms preprocess, 62.7ms inference, 0.0ms postprocess per image at shape (1, 3, 640, 640)\n",
      "Number plate detected and stored for frame 430\n",
      "Processed frame 430\n",
      "\n",
      "0: 640x640 1 license, 7.8ms\n",
      "Speed: 8.1ms preprocess, 7.8ms inference, 4.1ms postprocess per image at shape (1, 3, 640, 640)\n",
      "Number plate detected and stored for frame 431\n",
      "Processed frame 431\n",
      "\n",
      "0: 640x640 1 license, 10.3ms\n",
      "Speed: 4.0ms preprocess, 10.3ms inference, 5.1ms postprocess per image at shape (1, 3, 640, 640)\n",
      "Number plate detected and stored for frame 432\n",
      "Processed frame 432\n",
      "\n",
      "0: 640x640 1 license, 7.9ms\n",
      "Speed: 4.1ms preprocess, 7.9ms inference, 0.0ms postprocess per image at shape (1, 3, 640, 640)\n",
      "Number plate detected and stored for frame 433\n",
      "Processed frame 433\n",
      "\n",
      "0: 640x640 1 license, 12.6ms\n",
      "Speed: 0.0ms preprocess, 12.6ms inference, 6.8ms postprocess per image at shape (1, 3, 640, 640)\n",
      "Number plate detected and stored for frame 434\n",
      "Processed frame 434\n",
      "\n",
      "0: 640x640 1 license, 15.8ms\n",
      "Speed: 4.0ms preprocess, 15.8ms inference, 0.0ms postprocess per image at shape (1, 3, 640, 640)\n",
      "Number plate detected and stored for frame 435\n",
      "Processed frame 435\n",
      "\n",
      "0: 640x640 1 license, 8.9ms\n",
      "Speed: 6.9ms preprocess, 8.9ms inference, 4.6ms postprocess per image at shape (1, 3, 640, 640)\n",
      "Number plate detected and stored for frame 436\n",
      "Processed frame 436\n",
      "\n",
      "0: 640x640 (no detections), 10.1ms\n",
      "Speed: 5.7ms preprocess, 10.1ms inference, 2.5ms postprocess per image at shape (1, 3, 640, 640)\n",
      "Processed frame 437\n",
      "\n",
      "0: 640x640 (no detections), 10.8ms\n",
      "Speed: 2.9ms preprocess, 10.8ms inference, 0.0ms postprocess per image at shape (1, 3, 640, 640)\n",
      "Processed frame 438\n",
      "\n",
      "0: 640x640 (no detections), 7.9ms\n",
      "Speed: 3.4ms preprocess, 7.9ms inference, 0.0ms postprocess per image at shape (1, 3, 640, 640)\n",
      "Processed frame 439\n",
      "\n",
      "0: 640x640 (no detections), 14.7ms\n",
      "Speed: 2.6ms preprocess, 14.7ms inference, 0.0ms postprocess per image at shape (1, 3, 640, 640)\n",
      "Processed frame 440\n",
      "\n",
      "0: 640x640 (no detections), 13.6ms\n",
      "Speed: 4.5ms preprocess, 13.6ms inference, 0.0ms postprocess per image at shape (1, 3, 640, 640)\n",
      "Processed frame 441\n",
      "\n",
      "0: 640x640 (no detections), 9.5ms\n",
      "Speed: 4.0ms preprocess, 9.5ms inference, 3.3ms postprocess per image at shape (1, 3, 640, 640)\n",
      "Processed frame 442\n",
      "\n",
      "0: 640x640 (no detections), 13.9ms\n",
      "Speed: 0.0ms preprocess, 13.9ms inference, 2.2ms postprocess per image at shape (1, 3, 640, 640)\n",
      "Processed frame 443\n",
      "\n",
      "0: 640x640 (no detections), 6.9ms\n",
      "Speed: 3.4ms preprocess, 6.9ms inference, 0.0ms postprocess per image at shape (1, 3, 640, 640)\n",
      "Processed frame 444\n",
      "\n",
      "0: 640x640 (no detections), 12.8ms\n",
      "Speed: 1.2ms preprocess, 12.8ms inference, 0.0ms postprocess per image at shape (1, 3, 640, 640)\n",
      "Processed frame 445\n",
      "\n",
      "0: 640x640 (no detections), 11.0ms\n",
      "Speed: 1.4ms preprocess, 11.0ms inference, 3.4ms postprocess per image at shape (1, 3, 640, 640)\n",
      "Processed frame 446\n",
      "\n",
      "0: 640x640 (no detections), 9.9ms\n",
      "Speed: 3.4ms preprocess, 9.9ms inference, 0.0ms postprocess per image at shape (1, 3, 640, 640)\n",
      "Processed frame 447\n",
      "\n",
      "0: 640x640 (no detections), 14.0ms\n",
      "Speed: 3.2ms preprocess, 14.0ms inference, 0.0ms postprocess per image at shape (1, 3, 640, 640)\n",
      "Processed frame 448\n",
      "\n",
      "0: 640x640 (no detections), 10.3ms\n",
      "Speed: 6.2ms preprocess, 10.3ms inference, 7.1ms postprocess per image at shape (1, 3, 640, 640)\n",
      "Processed frame 449\n",
      "\n",
      "0: 640x640 (no detections), 11.4ms\n",
      "Speed: 5.0ms preprocess, 11.4ms inference, 0.0ms postprocess per image at shape (1, 3, 640, 640)\n",
      "Processed frame 450\n",
      "\n",
      "0: 640x640 (no detections), 11.5ms\n",
      "Speed: 4.6ms preprocess, 11.5ms inference, 0.0ms postprocess per image at shape (1, 3, 640, 640)\n",
      "Processed frame 451\n",
      "\n",
      "0: 640x640 (no detections), 11.3ms\n",
      "Speed: 0.0ms preprocess, 11.3ms inference, 4.6ms postprocess per image at shape (1, 3, 640, 640)\n",
      "Processed frame 452\n",
      "\n",
      "0: 640x640 (no detections), 20.3ms\n",
      "Speed: 0.5ms preprocess, 20.3ms inference, 1.3ms postprocess per image at shape (1, 3, 640, 640)\n",
      "Processed frame 453\n",
      "\n",
      "0: 640x640 (no detections), 14.7ms\n",
      "Speed: 0.0ms preprocess, 14.7ms inference, 0.0ms postprocess per image at shape (1, 3, 640, 640)\n",
      "Processed frame 454\n",
      "\n",
      "0: 640x640 (no detections), 12.0ms\n",
      "Speed: 2.3ms preprocess, 12.0ms inference, 1.5ms postprocess per image at shape (1, 3, 640, 640)\n",
      "Processed frame 455\n",
      "\n",
      "0: 640x640 (no detections), 11.2ms\n",
      "Speed: 0.2ms preprocess, 11.2ms inference, 3.5ms postprocess per image at shape (1, 3, 640, 640)\n",
      "Processed frame 456\n",
      "\n",
      "0: 640x640 (no detections), 9.7ms\n",
      "Speed: 3.0ms preprocess, 9.7ms inference, 3.0ms postprocess per image at shape (1, 3, 640, 640)\n",
      "Processed frame 457\n",
      "\n",
      "0: 640x640 (no detections), 8.1ms\n",
      "Speed: 7.1ms preprocess, 8.1ms inference, 0.0ms postprocess per image at shape (1, 3, 640, 640)\n",
      "Processed frame 458\n",
      "\n",
      "0: 640x640 (no detections), 11.8ms\n",
      "Speed: 4.2ms preprocess, 11.8ms inference, 0.0ms postprocess per image at shape (1, 3, 640, 640)\n",
      "Processed frame 459\n",
      "\n",
      "0: 640x640 (no detections), 11.4ms\n",
      "Speed: 4.7ms preprocess, 11.4ms inference, 1.8ms postprocess per image at shape (1, 3, 640, 640)\n",
      "Processed frame 460\n",
      "\n",
      "0: 640x640 (no detections), 8.4ms\n",
      "Speed: 3.4ms preprocess, 8.4ms inference, 4.2ms postprocess per image at shape (1, 3, 640, 640)\n",
      "Processed frame 461\n",
      "\n",
      "0: 640x640 (no detections), 8.2ms\n",
      "Speed: 3.6ms preprocess, 8.2ms inference, 5.4ms postprocess per image at shape (1, 3, 640, 640)\n",
      "Processed frame 462\n",
      "\n",
      "0: 640x640 (no detections), 12.9ms\n",
      "Speed: 4.5ms preprocess, 12.9ms inference, 3.4ms postprocess per image at shape (1, 3, 640, 640)\n",
      "Processed frame 463\n",
      "\n",
      "0: 640x640 (no detections), 11.2ms\n",
      "Speed: 2.9ms preprocess, 11.2ms inference, 0.0ms postprocess per image at shape (1, 3, 640, 640)\n",
      "Processed frame 464\n",
      "\n",
      "0: 640x640 (no detections), 16.1ms\n",
      "Speed: 7.4ms preprocess, 16.1ms inference, 0.0ms postprocess per image at shape (1, 3, 640, 640)\n",
      "Processed frame 465\n",
      "\n",
      "0: 640x640 (no detections), 7.1ms\n",
      "Speed: 6.3ms preprocess, 7.1ms inference, 6.8ms postprocess per image at shape (1, 3, 640, 640)\n",
      "Processed frame 466\n",
      "\n",
      "0: 640x640 (no detections), 17.5ms\n",
      "Speed: 2.5ms preprocess, 17.5ms inference, 0.0ms postprocess per image at shape (1, 3, 640, 640)\n",
      "Processed frame 467\n",
      "\n",
      "0: 640x640 (no detections), 12.0ms\n",
      "Speed: 2.1ms preprocess, 12.0ms inference, 0.0ms postprocess per image at shape (1, 3, 640, 640)\n",
      "Processed frame 468\n",
      "\n",
      "0: 640x640 (no detections), 13.2ms\n",
      "Speed: 0.0ms preprocess, 13.2ms inference, 8.8ms postprocess per image at shape (1, 3, 640, 640)\n",
      "Processed frame 469\n",
      "\n",
      "0: 640x640 1 license, 9.7ms\n",
      "Speed: 6.2ms preprocess, 9.7ms inference, 4.4ms postprocess per image at shape (1, 3, 640, 640)\n",
      "Number plate detected and stored for frame 470\n",
      "Processed frame 470\n",
      "\n",
      "0: 640x640 1 license, 14.1ms\n",
      "Speed: 3.7ms preprocess, 14.1ms inference, 0.0ms postprocess per image at shape (1, 3, 640, 640)\n",
      "Number plate detected and stored for frame 471\n",
      "Processed frame 471\n",
      "\n",
      "0: 640x640 2 licenses, 21.0ms\n",
      "Speed: 0.0ms preprocess, 21.0ms inference, 3.5ms postprocess per image at shape (1, 3, 640, 640)\n",
      "Number plate detected and stored for frame 472\n",
      "Processed frame 472\n",
      "\n",
      "0: 640x640 1 license, 20.9ms\n",
      "Speed: 7.1ms preprocess, 20.9ms inference, 0.0ms postprocess per image at shape (1, 3, 640, 640)\n",
      "Number plate detected and stored for frame 473\n",
      "Processed frame 473\n",
      "\n",
      "0: 640x640 1 license, 19.0ms\n",
      "Speed: 2.4ms preprocess, 19.0ms inference, 2.0ms postprocess per image at shape (1, 3, 640, 640)\n",
      "Number plate detected and stored for frame 474\n",
      "Processed frame 474\n",
      "\n",
      "0: 640x640 1 license, 17.0ms\n",
      "Speed: 8.0ms preprocess, 17.0ms inference, 3.0ms postprocess per image at shape (1, 3, 640, 640)\n",
      "Number plate detected and stored for frame 475\n",
      "Processed frame 475\n",
      "\n",
      "0: 640x640 1 license, 9.0ms\n",
      "Speed: 2.0ms preprocess, 9.0ms inference, 8.5ms postprocess per image at shape (1, 3, 640, 640)\n",
      "Number plate detected and stored for frame 476\n",
      "Processed frame 476\n",
      "\n",
      "0: 640x640 1 license, 20.5ms\n",
      "Speed: 0.0ms preprocess, 20.5ms inference, 3.9ms postprocess per image at shape (1, 3, 640, 640)\n",
      "Number plate detected and stored for frame 477\n",
      "Processed frame 477\n",
      "\n",
      "0: 640x640 1 license, 17.7ms\n",
      "Speed: 6.6ms preprocess, 17.7ms inference, 3.2ms postprocess per image at shape (1, 3, 640, 640)\n",
      "Number plate detected and stored for frame 478\n",
      "Processed frame 478\n",
      "\n",
      "0: 640x640 1 license, 20.8ms\n",
      "Speed: 3.1ms preprocess, 20.8ms inference, 4.9ms postprocess per image at shape (1, 3, 640, 640)\n",
      "Number plate detected and stored for frame 479\n",
      "Processed frame 479\n",
      "\n",
      "0: 640x640 1 license, 27.8ms\n",
      "Speed: 0.0ms preprocess, 27.8ms inference, 14.3ms postprocess per image at shape (1, 3, 640, 640)\n",
      "Number plate detected and stored for frame 480\n",
      "Processed frame 480\n",
      "\n",
      "0: 640x640 1 license, 24.5ms\n",
      "Speed: 9.1ms preprocess, 24.5ms inference, 2.2ms postprocess per image at shape (1, 3, 640, 640)\n",
      "Number plate detected and stored for frame 481\n",
      "Processed frame 481\n",
      "\n",
      "0: 640x640 1 license, 29.2ms\n",
      "Speed: 1.4ms preprocess, 29.2ms inference, 3.3ms postprocess per image at shape (1, 3, 640, 640)\n",
      "Number plate detected and stored for frame 482\n",
      "Processed frame 482\n",
      "\n",
      "0: 640x640 1 license, 29.9ms\n",
      "Speed: 4.6ms preprocess, 29.9ms inference, 0.0ms postprocess per image at shape (1, 3, 640, 640)\n",
      "Number plate detected and stored for frame 483\n",
      "Processed frame 483\n",
      "\n",
      "0: 640x640 1 license, 34.1ms\n",
      "Speed: 7.2ms preprocess, 34.1ms inference, 1.1ms postprocess per image at shape (1, 3, 640, 640)\n",
      "Number plate detected and stored for frame 484\n",
      "Processed frame 484\n",
      "\n",
      "0: 640x640 1 license, 35.0ms\n",
      "Speed: 0.0ms preprocess, 35.0ms inference, 0.0ms postprocess per image at shape (1, 3, 640, 640)\n",
      "Number plate detected and stored for frame 485\n",
      "Processed frame 485\n",
      "\n",
      "0: 640x640 1 license, 30.6ms\n",
      "Speed: 7.4ms preprocess, 30.6ms inference, 3.6ms postprocess per image at shape (1, 3, 640, 640)\n",
      "Number plate detected and stored for frame 486\n",
      "Processed frame 486\n",
      "\n",
      "0: 640x640 1 license, 30.7ms\n",
      "Speed: 4.1ms preprocess, 30.7ms inference, 6.6ms postprocess per image at shape (1, 3, 640, 640)\n",
      "Number plate detected and stored for frame 487\n",
      "Processed frame 487\n",
      "\n",
      "0: 640x640 1 license, 34.1ms\n",
      "Speed: 0.0ms preprocess, 34.1ms inference, 4.7ms postprocess per image at shape (1, 3, 640, 640)\n",
      "Number plate detected and stored for frame 488\n",
      "Processed frame 488\n",
      "\n",
      "0: 640x640 1 license, 66.4ms\n",
      "Speed: 9.5ms preprocess, 66.4ms inference, 3.5ms postprocess per image at shape (1, 3, 640, 640)\n",
      "Number plate detected and stored for frame 489\n",
      "Processed frame 489\n",
      "\n",
      "0: 640x640 1 license, 82.6ms\n",
      "Speed: 5.5ms preprocess, 82.6ms inference, 0.7ms postprocess per image at shape (1, 3, 640, 640)\n",
      "Number plate detected and stored for frame 490\n",
      "Processed frame 490\n",
      "\n",
      "0: 640x640 1 license, 73.5ms\n",
      "Speed: 7.2ms preprocess, 73.5ms inference, 2.5ms postprocess per image at shape (1, 3, 640, 640)\n",
      "Number plate detected and stored for frame 491\n",
      "Processed frame 491\n",
      "\n",
      "0: 640x640 1 license, 68.7ms\n",
      "Speed: 2.0ms preprocess, 68.7ms inference, 3.1ms postprocess per image at shape (1, 3, 640, 640)\n",
      "Number plate detected and stored for frame 492\n",
      "Processed frame 492\n",
      "\n",
      "0: 640x640 1 license, 61.7ms\n",
      "Speed: 6.0ms preprocess, 61.7ms inference, 7.9ms postprocess per image at shape (1, 3, 640, 640)\n",
      "Number plate detected and stored for frame 493\n",
      "Processed frame 493\n",
      "\n",
      "0: 640x640 1 license, 62.1ms\n",
      "Speed: 1.6ms preprocess, 62.1ms inference, 7.3ms postprocess per image at shape (1, 3, 640, 640)\n",
      "Number plate detected and stored for frame 494\n",
      "Processed frame 494\n",
      "\n",
      "0: 640x640 1 license, 57.0ms\n",
      "Speed: 10.1ms preprocess, 57.0ms inference, 3.0ms postprocess per image at shape (1, 3, 640, 640)\n",
      "Number plate detected and stored for frame 495\n",
      "Processed frame 495\n",
      "\n",
      "0: 640x640 1 license, 55.9ms\n",
      "Speed: 7.0ms preprocess, 55.9ms inference, 0.0ms postprocess per image at shape (1, 3, 640, 640)\n",
      "Number plate detected and stored for frame 496\n",
      "Processed frame 496\n",
      "\n",
      "0: 640x640 1 license, 62.3ms\n",
      "Speed: 5.3ms preprocess, 62.3ms inference, 5.0ms postprocess per image at shape (1, 3, 640, 640)\n",
      "Number plate detected and stored for frame 497\n",
      "Processed frame 497\n",
      "\n",
      "0: 640x640 1 license, 56.0ms\n",
      "Speed: 3.6ms preprocess, 56.0ms inference, 7.8ms postprocess per image at shape (1, 3, 640, 640)\n",
      "Number plate detected and stored for frame 498\n",
      "Processed frame 498\n",
      "\n",
      "0: 640x640 1 license, 50.8ms\n",
      "Speed: 4.2ms preprocess, 50.8ms inference, 0.0ms postprocess per image at shape (1, 3, 640, 640)\n",
      "Number plate detected and stored for frame 499\n",
      "Processed frame 499\n",
      "\n",
      "0: 640x640 1 license, 55.7ms\n",
      "Speed: 5.8ms preprocess, 55.7ms inference, 6.9ms postprocess per image at shape (1, 3, 640, 640)\n",
      "Number plate detected and stored for frame 500\n",
      "Processed frame 500\n",
      "\n",
      "0: 640x640 1 license, 65.4ms\n",
      "Speed: 7.9ms preprocess, 65.4ms inference, 2.7ms postprocess per image at shape (1, 3, 640, 640)\n",
      "Number plate detected and stored for frame 501\n",
      "Processed frame 501\n",
      "\n",
      "0: 640x640 1 license, 55.2ms\n",
      "Speed: 7.0ms preprocess, 55.2ms inference, 6.1ms postprocess per image at shape (1, 3, 640, 640)\n",
      "Number plate detected and stored for frame 502\n",
      "Processed frame 502\n",
      "\n",
      "0: 640x640 1 license, 69.2ms\n",
      "Speed: 4.1ms preprocess, 69.2ms inference, 1.7ms postprocess per image at shape (1, 3, 640, 640)\n",
      "Number plate detected and stored for frame 503\n",
      "Processed frame 503\n",
      "\n",
      "0: 640x640 1 license, 58.6ms\n",
      "Speed: 5.8ms preprocess, 58.6ms inference, 0.0ms postprocess per image at shape (1, 3, 640, 640)\n",
      "Number plate detected and stored for frame 504\n",
      "Processed frame 504\n",
      "\n",
      "0: 640x640 1 license, 56.6ms\n",
      "Speed: 6.0ms preprocess, 56.6ms inference, 7.2ms postprocess per image at shape (1, 3, 640, 640)\n",
      "Number plate detected and stored for frame 505\n",
      "Processed frame 505\n",
      "\n",
      "0: 640x640 1 license, 62.9ms\n",
      "Speed: 5.0ms preprocess, 62.9ms inference, 0.0ms postprocess per image at shape (1, 3, 640, 640)\n",
      "Number plate detected and stored for frame 506\n",
      "Processed frame 506\n",
      "\n",
      "0: 640x640 1 license, 54.9ms\n",
      "Speed: 5.8ms preprocess, 54.9ms inference, 5.0ms postprocess per image at shape (1, 3, 640, 640)\n",
      "Number plate detected and stored for frame 507\n",
      "Processed frame 507\n",
      "\n",
      "0: 640x640 1 license, 55.8ms\n",
      "Speed: 3.4ms preprocess, 55.8ms inference, 0.0ms postprocess per image at shape (1, 3, 640, 640)\n",
      "Number plate detected and stored for frame 508\n",
      "Processed frame 508\n",
      "\n",
      "0: 640x640 1 license, 55.1ms\n",
      "Speed: 7.0ms preprocess, 55.1ms inference, 0.0ms postprocess per image at shape (1, 3, 640, 640)\n",
      "Number plate detected and stored for frame 509\n",
      "Processed frame 509\n",
      "\n",
      "0: 640x640 1 license, 53.7ms\n",
      "Speed: 8.5ms preprocess, 53.7ms inference, 0.0ms postprocess per image at shape (1, 3, 640, 640)\n",
      "Number plate detected and stored for frame 510\n",
      "Processed frame 510\n",
      "\n",
      "0: 640x640 1 license, 15.5ms\n",
      "Speed: 0.0ms preprocess, 15.5ms inference, 0.0ms postprocess per image at shape (1, 3, 640, 640)\n",
      "Number plate detected and stored for frame 511\n",
      "Processed frame 511\n",
      "\n",
      "0: 640x640 1 license, 9.9ms\n",
      "Speed: 2.6ms preprocess, 9.9ms inference, 3.8ms postprocess per image at shape (1, 3, 640, 640)\n",
      "Number plate detected and stored for frame 512\n",
      "Processed frame 512\n",
      "\n",
      "0: 640x640 1 license, 12.1ms\n",
      "Speed: 1.0ms preprocess, 12.1ms inference, 0.0ms postprocess per image at shape (1, 3, 640, 640)\n",
      "Number plate detected and stored for frame 513\n",
      "Processed frame 513\n",
      "\n",
      "0: 640x640 1 license, 11.0ms\n",
      "Speed: 2.9ms preprocess, 11.0ms inference, 0.0ms postprocess per image at shape (1, 3, 640, 640)\n",
      "Number plate detected and stored for frame 514\n",
      "Processed frame 514\n",
      "\n",
      "0: 640x640 1 license, 11.6ms\n",
      "Speed: 10.4ms preprocess, 11.6ms inference, 1.5ms postprocess per image at shape (1, 3, 640, 640)\n",
      "Number plate detected and stored for frame 515\n",
      "Processed frame 515\n",
      "\n",
      "0: 640x640 1 license, 13.3ms\n",
      "Speed: 0.0ms preprocess, 13.3ms inference, 5.3ms postprocess per image at shape (1, 3, 640, 640)\n",
      "Number plate detected and stored for frame 516\n",
      "Processed frame 516\n",
      "\n",
      "0: 640x640 1 license, 13.4ms\n",
      "Speed: 0.0ms preprocess, 13.4ms inference, 4.2ms postprocess per image at shape (1, 3, 640, 640)\n",
      "Number plate detected and stored for frame 517\n",
      "Processed frame 517\n",
      "\n",
      "0: 640x640 1 license, 10.5ms\n",
      "Speed: 6.0ms preprocess, 10.5ms inference, 0.0ms postprocess per image at shape (1, 3, 640, 640)\n",
      "Number plate detected and stored for frame 518\n",
      "Processed frame 518\n",
      "\n",
      "0: 640x640 1 license, 17.2ms\n",
      "Speed: 3.2ms preprocess, 17.2ms inference, 1.4ms postprocess per image at shape (1, 3, 640, 640)\n",
      "Number plate detected and stored for frame 519\n",
      "Processed frame 519\n",
      "\n",
      "0: 640x640 1 license, 19.1ms\n",
      "Speed: 2.4ms preprocess, 19.1ms inference, 2.7ms postprocess per image at shape (1, 3, 640, 640)\n",
      "Number plate detected and stored for frame 520\n",
      "Processed frame 520\n",
      "\n",
      "0: 640x640 1 license, 61.6ms\n",
      "Speed: 7.7ms preprocess, 61.6ms inference, 6.5ms postprocess per image at shape (1, 3, 640, 640)\n",
      "Number plate detected and stored for frame 521\n",
      "Processed frame 521\n",
      "\n",
      "0: 640x640 1 license, 62.6ms\n",
      "Speed: 6.9ms preprocess, 62.6ms inference, 4.7ms postprocess per image at shape (1, 3, 640, 640)\n",
      "Number plate detected and stored for frame 522\n",
      "Processed frame 522\n",
      "\n",
      "0: 640x640 1 license, 62.4ms\n",
      "Speed: 5.4ms preprocess, 62.4ms inference, 0.0ms postprocess per image at shape (1, 3, 640, 640)\n",
      "Number plate detected and stored for frame 523\n",
      "Processed frame 523\n",
      "\n",
      "0: 640x640 1 license, 59.7ms\n",
      "Speed: 7.9ms preprocess, 59.7ms inference, 3.5ms postprocess per image at shape (1, 3, 640, 640)\n",
      "Number plate detected and stored for frame 524\n",
      "Processed frame 524\n",
      "\n",
      "0: 640x640 1 license, 61.6ms\n",
      "Speed: 7.1ms preprocess, 61.6ms inference, 5.1ms postprocess per image at shape (1, 3, 640, 640)\n",
      "Number plate detected and stored for frame 525\n",
      "Processed frame 525\n",
      "\n",
      "0: 640x640 1 license, 55.8ms\n",
      "Speed: 7.3ms preprocess, 55.8ms inference, 9.6ms postprocess per image at shape (1, 3, 640, 640)\n",
      "Number plate detected and stored for frame 526\n",
      "Processed frame 526\n",
      "\n",
      "0: 640x640 1 license, 64.4ms\n",
      "Speed: 0.0ms preprocess, 64.4ms inference, 0.0ms postprocess per image at shape (1, 3, 640, 640)\n",
      "Number plate detected and stored for frame 527\n",
      "Processed frame 527\n",
      "\n",
      "0: 640x640 1 license, 56.7ms\n",
      "Speed: 4.8ms preprocess, 56.7ms inference, 0.0ms postprocess per image at shape (1, 3, 640, 640)\n",
      "Number plate detected and stored for frame 528\n",
      "Processed frame 528\n",
      "\n",
      "0: 640x640 1 license, 58.5ms\n",
      "Speed: 6.4ms preprocess, 58.5ms inference, 6.5ms postprocess per image at shape (1, 3, 640, 640)\n",
      "Number plate detected and stored for frame 529\n",
      "Processed frame 529\n",
      "\n",
      "0: 640x640 1 license, 61.6ms\n",
      "Speed: 7.1ms preprocess, 61.6ms inference, 0.8ms postprocess per image at shape (1, 3, 640, 640)\n",
      "Number plate detected and stored for frame 530\n",
      "Processed frame 530\n",
      "\n",
      "0: 640x640 1 license, 59.7ms\n",
      "Speed: 3.4ms preprocess, 59.7ms inference, 2.5ms postprocess per image at shape (1, 3, 640, 640)\n",
      "Number plate detected and stored for frame 531\n",
      "Processed frame 531\n",
      "\n",
      "0: 640x640 1 license, 61.4ms\n",
      "Speed: 6.7ms preprocess, 61.4ms inference, 1.3ms postprocess per image at shape (1, 3, 640, 640)\n",
      "Number plate detected and stored for frame 532\n",
      "Processed frame 532\n",
      "\n",
      "0: 640x640 1 license, 62.3ms\n",
      "Speed: 2.0ms preprocess, 62.3ms inference, 0.0ms postprocess per image at shape (1, 3, 640, 640)\n",
      "Number plate detected and stored for frame 533\n",
      "Processed frame 533\n",
      "\n",
      "0: 640x640 1 license, 60.2ms\n",
      "Speed: 2.8ms preprocess, 60.2ms inference, 1.3ms postprocess per image at shape (1, 3, 640, 640)\n",
      "Number plate detected and stored for frame 534\n",
      "Processed frame 534\n",
      "\n",
      "0: 640x640 1 license, 54.8ms\n",
      "Speed: 7.7ms preprocess, 54.8ms inference, 0.0ms postprocess per image at shape (1, 3, 640, 640)\n",
      "Number plate detected and stored for frame 535\n",
      "Processed frame 535\n",
      "\n",
      "0: 640x640 1 license, 56.5ms\n",
      "Speed: 6.4ms preprocess, 56.5ms inference, 4.9ms postprocess per image at shape (1, 3, 640, 640)\n",
      "Number plate detected and stored for frame 536\n",
      "Processed frame 536\n",
      "\n",
      "0: 640x640 1 license, 58.2ms\n",
      "Speed: 4.1ms preprocess, 58.2ms inference, 0.0ms postprocess per image at shape (1, 3, 640, 640)\n",
      "Number plate detected and stored for frame 537\n",
      "Processed frame 537\n",
      "\n",
      "0: 640x640 1 license, 14.0ms\n",
      "Speed: 3.2ms preprocess, 14.0ms inference, 6.0ms postprocess per image at shape (1, 3, 640, 640)\n",
      "Number plate detected and stored for frame 538\n",
      "Processed frame 538\n",
      "\n",
      "0: 640x640 1 license, 14.1ms\n",
      "Speed: 3.6ms preprocess, 14.1ms inference, 0.0ms postprocess per image at shape (1, 3, 640, 640)\n",
      "Number plate detected and stored for frame 539\n",
      "Processed frame 539\n",
      "\n",
      "0: 640x640 1 license, 13.4ms\n",
      "Speed: 0.5ms preprocess, 13.4ms inference, 0.0ms postprocess per image at shape (1, 3, 640, 640)\n",
      "Number plate detected and stored for frame 540\n",
      "Processed frame 540\n",
      "\n",
      "0: 640x640 1 license, 13.7ms\n",
      "Speed: 0.0ms preprocess, 13.7ms inference, 3.0ms postprocess per image at shape (1, 3, 640, 640)\n",
      "Number plate detected and stored for frame 541\n",
      "Processed frame 541\n",
      "\n",
      "0: 640x640 1 license, 11.2ms\n",
      "Speed: 3.3ms preprocess, 11.2ms inference, 3.7ms postprocess per image at shape (1, 3, 640, 640)\n",
      "Number plate detected and stored for frame 542\n",
      "Processed frame 542\n",
      "\n",
      "0: 640x640 1 license, 8.9ms\n",
      "Speed: 4.6ms preprocess, 8.9ms inference, 0.0ms postprocess per image at shape (1, 3, 640, 640)\n",
      "Number plate detected and stored for frame 543\n",
      "Processed frame 543\n",
      "\n",
      "0: 640x640 1 license, 17.7ms\n",
      "Speed: 8.3ms preprocess, 17.7ms inference, 0.0ms postprocess per image at shape (1, 3, 640, 640)\n",
      "Number plate detected and stored for frame 544\n",
      "Processed frame 544\n",
      "\n",
      "0: 640x640 1 license, 14.1ms\n",
      "Speed: 7.3ms preprocess, 14.1ms inference, 3.0ms postprocess per image at shape (1, 3, 640, 640)\n",
      "Number plate detected and stored for frame 545\n",
      "Processed frame 545\n",
      "\n",
      "0: 640x640 1 license, 14.4ms\n",
      "Speed: 0.7ms preprocess, 14.4ms inference, 0.0ms postprocess per image at shape (1, 3, 640, 640)\n",
      "Number plate detected and stored for frame 546\n",
      "Processed frame 546\n",
      "\n",
      "0: 640x640 1 license, 20.8ms\n",
      "Speed: 2.1ms preprocess, 20.8ms inference, 0.0ms postprocess per image at shape (1, 3, 640, 640)\n",
      "Number plate detected and stored for frame 547\n",
      "Processed frame 547\n",
      "\n",
      "0: 640x640 1 license, 56.1ms\n",
      "Speed: 6.5ms preprocess, 56.1ms inference, 4.6ms postprocess per image at shape (1, 3, 640, 640)\n",
      "Number plate detected and stored for frame 548\n",
      "Processed frame 548\n",
      "\n",
      "0: 640x640 1 license, 61.6ms\n",
      "Speed: 7.6ms preprocess, 61.6ms inference, 0.0ms postprocess per image at shape (1, 3, 640, 640)\n",
      "Number plate detected and stored for frame 549\n",
      "Processed frame 549\n",
      "\n",
      "0: 640x640 1 license, 61.9ms\n",
      "Speed: 5.9ms preprocess, 61.9ms inference, 2.3ms postprocess per image at shape (1, 3, 640, 640)\n",
      "Number plate detected and stored for frame 550\n",
      "Processed frame 550\n",
      "\n",
      "0: 640x640 1 license, 59.4ms\n",
      "Speed: 2.5ms preprocess, 59.4ms inference, 4.5ms postprocess per image at shape (1, 3, 640, 640)\n",
      "Number plate detected and stored for frame 551\n",
      "Processed frame 551\n",
      "\n",
      "0: 640x640 1 license, 59.9ms\n",
      "Speed: 5.4ms preprocess, 59.9ms inference, 7.3ms postprocess per image at shape (1, 3, 640, 640)\n",
      "Number plate detected and stored for frame 552\n",
      "Processed frame 552\n",
      "\n",
      "0: 640x640 1 license, 62.3ms\n",
      "Speed: 4.6ms preprocess, 62.3ms inference, 0.0ms postprocess per image at shape (1, 3, 640, 640)\n",
      "Number plate detected and stored for frame 553\n",
      "Processed frame 553\n",
      "\n",
      "0: 640x640 1 license, 62.1ms\n",
      "Speed: 3.4ms preprocess, 62.1ms inference, 0.1ms postprocess per image at shape (1, 3, 640, 640)\n",
      "Number plate detected and stored for frame 554\n",
      "Processed frame 554\n",
      "\n",
      "0: 640x640 1 license, 58.4ms\n",
      "Speed: 7.4ms preprocess, 58.4ms inference, 0.0ms postprocess per image at shape (1, 3, 640, 640)\n",
      "Number plate detected and stored for frame 555\n",
      "Processed frame 555\n",
      "\n",
      "0: 640x640 1 license, 55.2ms\n",
      "Speed: 6.3ms preprocess, 55.2ms inference, 0.0ms postprocess per image at shape (1, 3, 640, 640)\n",
      "Number plate detected and stored for frame 556\n",
      "Processed frame 556\n",
      "\n",
      "0: 640x640 1 license, 59.1ms\n",
      "Speed: 9.9ms preprocess, 59.1ms inference, 6.8ms postprocess per image at shape (1, 3, 640, 640)\n",
      "Number plate detected and stored for frame 557\n",
      "Processed frame 557\n",
      "\n",
      "0: 640x640 1 license, 57.9ms\n",
      "Speed: 1.9ms preprocess, 57.9ms inference, 0.0ms postprocess per image at shape (1, 3, 640, 640)\n",
      "Number plate detected and stored for frame 558\n",
      "Processed frame 558\n",
      "\n",
      "0: 640x640 1 license, 62.7ms\n",
      "Speed: 0.0ms preprocess, 62.7ms inference, 0.0ms postprocess per image at shape (1, 3, 640, 640)\n",
      "Number plate detected and stored for frame 559\n",
      "Processed frame 559\n",
      "\n",
      "0: 640x640 1 license, 68.1ms\n",
      "Speed: 0.0ms preprocess, 68.1ms inference, 0.0ms postprocess per image at shape (1, 3, 640, 640)\n",
      "Number plate detected and stored for frame 560\n",
      "Processed frame 560\n",
      "\n",
      "0: 640x640 1 license, 7.9ms\n",
      "Speed: 5.0ms preprocess, 7.9ms inference, 10.0ms postprocess per image at shape (1, 3, 640, 640)\n",
      "Number plate detected and stored for frame 561\n",
      "Processed frame 561\n",
      "\n",
      "0: 640x640 1 license, 6.9ms\n",
      "Speed: 2.5ms preprocess, 6.9ms inference, 6.6ms postprocess per image at shape (1, 3, 640, 640)\n",
      "Number plate detected and stored for frame 562\n",
      "Processed frame 562\n",
      "\n",
      "0: 640x640 1 license, 14.3ms\n",
      "Speed: 6.2ms preprocess, 14.3ms inference, 4.9ms postprocess per image at shape (1, 3, 640, 640)\n",
      "Number plate detected and stored for frame 563\n",
      "Processed frame 563\n",
      "\n",
      "0: 640x640 1 license, 14.0ms\n",
      "Speed: 0.0ms preprocess, 14.0ms inference, 0.0ms postprocess per image at shape (1, 3, 640, 640)\n",
      "Number plate detected and stored for frame 564\n",
      "Processed frame 564\n",
      "\n",
      "0: 640x640 1 license, 13.0ms\n",
      "Speed: 3.1ms preprocess, 13.0ms inference, 0.0ms postprocess per image at shape (1, 3, 640, 640)\n",
      "Number plate detected and stored for frame 565\n",
      "Processed frame 565\n",
      "\n",
      "0: 640x640 1 license, 18.4ms\n",
      "Speed: 0.0ms preprocess, 18.4ms inference, 0.9ms postprocess per image at shape (1, 3, 640, 640)\n",
      "Number plate detected and stored for frame 566\n",
      "Processed frame 566\n",
      "\n",
      "0: 640x640 1 license, 9.3ms\n",
      "Speed: 4.3ms preprocess, 9.3ms inference, 4.3ms postprocess per image at shape (1, 3, 640, 640)\n",
      "Number plate detected and stored for frame 567\n",
      "Processed frame 567\n",
      "\n",
      "0: 640x640 1 license, 9.9ms\n",
      "Speed: 6.5ms preprocess, 9.9ms inference, 2.1ms postprocess per image at shape (1, 3, 640, 640)\n",
      "Number plate detected and stored for frame 568\n",
      "Processed frame 568\n",
      "\n",
      "0: 640x640 1 license, 19.1ms\n",
      "Speed: 4.5ms preprocess, 19.1ms inference, 0.0ms postprocess per image at shape (1, 3, 640, 640)\n",
      "Number plate detected and stored for frame 569\n",
      "Processed frame 569\n",
      "\n",
      "0: 640x640 1 license, 17.2ms\n",
      "Speed: 7.1ms preprocess, 17.2ms inference, 7.0ms postprocess per image at shape (1, 3, 640, 640)\n",
      "Number plate detected and stored for frame 570\n",
      "Processed frame 570\n",
      "\n",
      "0: 640x640 1 license, 18.3ms\n",
      "Speed: 9.0ms preprocess, 18.3ms inference, 5.5ms postprocess per image at shape (1, 3, 640, 640)\n",
      "Number plate detected and stored for frame 571\n",
      "Processed frame 571\n",
      "\n",
      "0: 640x640 1 license, 24.2ms\n",
      "Speed: 6.8ms preprocess, 24.2ms inference, 3.9ms postprocess per image at shape (1, 3, 640, 640)\n",
      "Number plate detected and stored for frame 572\n",
      "Processed frame 572\n",
      "\n",
      "0: 640x640 1 license, 25.0ms\n",
      "Speed: 3.0ms preprocess, 25.0ms inference, 6.0ms postprocess per image at shape (1, 3, 640, 640)\n",
      "Number plate detected and stored for frame 573\n",
      "Processed frame 573\n",
      "\n",
      "0: 640x640 1 license, 69.6ms\n",
      "Speed: 1.2ms preprocess, 69.6ms inference, 0.0ms postprocess per image at shape (1, 3, 640, 640)\n",
      "Number plate detected and stored for frame 574\n",
      "Processed frame 574\n",
      "\n",
      "0: 640x640 1 license, 64.5ms\n",
      "Speed: 9.1ms preprocess, 64.5ms inference, 1.4ms postprocess per image at shape (1, 3, 640, 640)\n",
      "Number plate detected and stored for frame 575\n",
      "Processed frame 575\n",
      "\n",
      "0: 640x640 1 license, 60.7ms\n",
      "Speed: 8.4ms preprocess, 60.7ms inference, 8.7ms postprocess per image at shape (1, 3, 640, 640)\n",
      "Number plate detected and stored for frame 576\n",
      "Processed frame 576\n",
      "\n",
      "0: 640x640 1 license, 60.9ms\n",
      "Speed: 2.5ms preprocess, 60.9ms inference, 6.0ms postprocess per image at shape (1, 3, 640, 640)\n",
      "Number plate detected and stored for frame 577\n",
      "Processed frame 577\n",
      "\n",
      "0: 640x640 1 license, 61.2ms\n",
      "Speed: 6.1ms preprocess, 61.2ms inference, 0.6ms postprocess per image at shape (1, 3, 640, 640)\n",
      "Number plate detected and stored for frame 578\n",
      "Processed frame 578\n",
      "\n",
      "0: 640x640 1 license, 69.6ms\n",
      "Speed: 3.9ms preprocess, 69.6ms inference, 0.0ms postprocess per image at shape (1, 3, 640, 640)\n",
      "Number plate detected and stored for frame 579\n",
      "Processed frame 579\n",
      "\n",
      "0: 640x640 1 license, 59.6ms\n",
      "Speed: 7.6ms preprocess, 59.6ms inference, 0.0ms postprocess per image at shape (1, 3, 640, 640)\n",
      "Number plate detected and stored for frame 580\n",
      "Processed frame 580\n",
      "\n",
      "0: 640x640 1 license, 58.2ms\n",
      "Speed: 6.1ms preprocess, 58.2ms inference, 0.0ms postprocess per image at shape (1, 3, 640, 640)\n",
      "Number plate detected and stored for frame 581\n",
      "Processed frame 581\n",
      "\n",
      "0: 640x640 1 license, 58.7ms\n",
      "Speed: 8.8ms preprocess, 58.7ms inference, 6.7ms postprocess per image at shape (1, 3, 640, 640)\n",
      "Number plate detected and stored for frame 582\n",
      "Processed frame 582\n",
      "\n",
      "0: 640x640 1 license, 62.2ms\n",
      "Speed: 0.0ms preprocess, 62.2ms inference, 4.5ms postprocess per image at shape (1, 3, 640, 640)\n",
      "Number plate detected and stored for frame 583\n",
      "Processed frame 583\n",
      "\n",
      "0: 640x640 1 license, 56.5ms\n",
      "Speed: 6.9ms preprocess, 56.5ms inference, 0.0ms postprocess per image at shape (1, 3, 640, 640)\n",
      "Number plate detected and stored for frame 584\n",
      "Processed frame 584\n",
      "\n",
      "0: 640x640 1 license, 64.5ms\n",
      "Speed: 3.2ms preprocess, 64.5ms inference, 2.0ms postprocess per image at shape (1, 3, 640, 640)\n",
      "Number plate detected and stored for frame 585\n",
      "Processed frame 585\n",
      "\n",
      "0: 640x640 1 license, 51.7ms\n",
      "Speed: 10.5ms preprocess, 51.7ms inference, 0.0ms postprocess per image at shape (1, 3, 640, 640)\n",
      "Number plate detected and stored for frame 586\n",
      "Processed frame 586\n",
      "\n",
      "0: 640x640 1 license, 52.8ms\n",
      "Speed: 4.5ms preprocess, 52.8ms inference, 0.0ms postprocess per image at shape (1, 3, 640, 640)\n",
      "Number plate detected and stored for frame 587\n",
      "Processed frame 587\n",
      "\n",
      "0: 640x640 1 license, 61.3ms\n",
      "Speed: 8.8ms preprocess, 61.3ms inference, 0.0ms postprocess per image at shape (1, 3, 640, 640)\n",
      "Number plate detected and stored for frame 588\n",
      "Processed frame 588\n",
      "\n",
      "0: 640x640 1 license, 12.7ms\n",
      "Speed: 1.5ms preprocess, 12.7ms inference, 1.5ms postprocess per image at shape (1, 3, 640, 640)\n",
      "Number plate detected and stored for frame 589\n",
      "Processed frame 589\n",
      "\n",
      "0: 640x640 1 license, 8.0ms\n",
      "Speed: 1.5ms preprocess, 8.0ms inference, 5.7ms postprocess per image at shape (1, 3, 640, 640)\n",
      "Number plate detected and stored for frame 590\n",
      "Processed frame 590\n",
      "\n",
      "0: 640x640 1 license, 13.9ms\n",
      "Speed: 2.8ms preprocess, 13.9ms inference, 0.0ms postprocess per image at shape (1, 3, 640, 640)\n",
      "Number plate detected and stored for frame 591\n",
      "Processed frame 591\n",
      "\n",
      "0: 640x640 (no detections), 12.1ms\n",
      "Speed: 1.5ms preprocess, 12.1ms inference, 0.0ms postprocess per image at shape (1, 3, 640, 640)\n",
      "Processed frame 592\n",
      "\n",
      "0: 640x640 (no detections), 16.2ms\n",
      "Speed: 4.6ms preprocess, 16.2ms inference, 0.0ms postprocess per image at shape (1, 3, 640, 640)\n",
      "Processed frame 593\n",
      "\n",
      "0: 640x640 1 license, 8.7ms\n",
      "Speed: 7.1ms preprocess, 8.7ms inference, 4.8ms postprocess per image at shape (1, 3, 640, 640)\n",
      "Number plate detected and stored for frame 594\n",
      "Processed frame 594\n",
      "\n",
      "0: 640x640 1 license, 12.0ms\n",
      "Speed: 2.3ms preprocess, 12.0ms inference, 0.0ms postprocess per image at shape (1, 3, 640, 640)\n",
      "Number plate detected and stored for frame 595\n",
      "Processed frame 595\n",
      "\n",
      "0: 640x640 (no detections), 14.9ms\n",
      "Speed: 0.0ms preprocess, 14.9ms inference, 0.0ms postprocess per image at shape (1, 3, 640, 640)\n",
      "Processed frame 596\n",
      "\n",
      "0: 640x640 (no detections), 10.2ms\n",
      "Speed: 2.4ms preprocess, 10.2ms inference, 3.4ms postprocess per image at shape (1, 3, 640, 640)\n",
      "Processed frame 597\n",
      "\n",
      "0: 640x640 (no detections), 15.4ms\n",
      "Speed: 5.1ms preprocess, 15.4ms inference, 1.0ms postprocess per image at shape (1, 3, 640, 640)\n",
      "Processed frame 598\n",
      "\n",
      "0: 640x640 (no detections), 15.0ms\n",
      "Speed: 0.5ms preprocess, 15.0ms inference, 2.0ms postprocess per image at shape (1, 3, 640, 640)\n",
      "Processed frame 599\n",
      "\n",
      "0: 640x640 (no detections), 8.3ms\n",
      "Speed: 4.8ms preprocess, 8.3ms inference, 3.3ms postprocess per image at shape (1, 3, 640, 640)\n",
      "Processed frame 600\n",
      "\n",
      "0: 640x640 (no detections), 11.5ms\n",
      "Speed: 3.2ms preprocess, 11.5ms inference, 0.0ms postprocess per image at shape (1, 3, 640, 640)\n",
      "Processed frame 601\n",
      "\n",
      "0: 640x640 (no detections), 11.3ms\n",
      "Speed: 0.0ms preprocess, 11.3ms inference, 0.0ms postprocess per image at shape (1, 3, 640, 640)\n",
      "Processed frame 602\n",
      "\n",
      "0: 640x640 (no detections), 12.3ms\n",
      "Speed: 5.0ms preprocess, 12.3ms inference, 0.0ms postprocess per image at shape (1, 3, 640, 640)\n",
      "Processed frame 603\n",
      "\n",
      "0: 640x640 (no detections), 9.6ms\n",
      "Speed: 0.0ms preprocess, 9.6ms inference, 4.4ms postprocess per image at shape (1, 3, 640, 640)\n",
      "Processed frame 604\n",
      "\n",
      "0: 640x640 (no detections), 17.7ms\n",
      "Speed: 3.0ms preprocess, 17.7ms inference, 0.0ms postprocess per image at shape (1, 3, 640, 640)\n",
      "Processed frame 605\n",
      "\n",
      "0: 640x640 (no detections), 21.5ms\n",
      "Speed: 0.0ms preprocess, 21.5ms inference, 0.0ms postprocess per image at shape (1, 3, 640, 640)\n",
      "Processed frame 606\n",
      "\n",
      "0: 640x640 (no detections), 9.5ms\n",
      "Speed: 4.0ms preprocess, 9.5ms inference, 0.0ms postprocess per image at shape (1, 3, 640, 640)\n",
      "Processed frame 607\n",
      "\n",
      "0: 640x640 (no detections), 8.2ms\n",
      "Speed: 4.4ms preprocess, 8.2ms inference, 3.0ms postprocess per image at shape (1, 3, 640, 640)\n",
      "Processed frame 608\n",
      "\n",
      "0: 640x640 (no detections), 13.3ms\n",
      "Speed: 1.6ms preprocess, 13.3ms inference, 1.6ms postprocess per image at shape (1, 3, 640, 640)\n",
      "Processed frame 609\n",
      "\n",
      "0: 640x640 (no detections), 9.6ms\n",
      "Speed: 3.0ms preprocess, 9.6ms inference, 0.0ms postprocess per image at shape (1, 3, 640, 640)\n",
      "Processed frame 610\n",
      "\n",
      "0: 640x640 (no detections), 15.1ms\n",
      "Speed: 5.4ms preprocess, 15.1ms inference, 4.3ms postprocess per image at shape (1, 3, 640, 640)\n",
      "Processed frame 611\n",
      "\n",
      "0: 640x640 (no detections), 13.9ms\n",
      "Speed: 0.0ms preprocess, 13.9ms inference, 0.0ms postprocess per image at shape (1, 3, 640, 640)\n",
      "Processed frame 612\n",
      "\n",
      "0: 640x640 (no detections), 11.4ms\n",
      "Speed: 0.0ms preprocess, 11.4ms inference, 0.0ms postprocess per image at shape (1, 3, 640, 640)\n",
      "Processed frame 613\n",
      "\n",
      "0: 640x640 (no detections), 16.9ms\n",
      "Speed: 4.2ms preprocess, 16.9ms inference, 0.0ms postprocess per image at shape (1, 3, 640, 640)\n",
      "Processed frame 614\n",
      "\n",
      "0: 640x640 (no detections), 13.3ms\n",
      "Speed: 0.0ms preprocess, 13.3ms inference, 0.0ms postprocess per image at shape (1, 3, 640, 640)\n",
      "Processed frame 615\n",
      "\n",
      "0: 640x640 (no detections), 14.9ms\n",
      "Speed: 0.0ms preprocess, 14.9ms inference, 0.0ms postprocess per image at shape (1, 3, 640, 640)\n",
      "Processed frame 616\n",
      "\n",
      "0: 640x640 (no detections), 10.7ms\n",
      "Speed: 1.6ms preprocess, 10.7ms inference, 2.9ms postprocess per image at shape (1, 3, 640, 640)\n",
      "Processed frame 617\n",
      "\n",
      "0: 640x640 (no detections), 16.6ms\n",
      "Speed: 1.2ms preprocess, 16.6ms inference, 0.0ms postprocess per image at shape (1, 3, 640, 640)\n",
      "Processed frame 618\n",
      "\n",
      "0: 640x640 (no detections), 10.7ms\n",
      "Speed: 0.0ms preprocess, 10.7ms inference, 1.2ms postprocess per image at shape (1, 3, 640, 640)\n",
      "Processed frame 619\n",
      "\n",
      "0: 640x640 (no detections), 20.1ms\n",
      "Speed: 0.8ms preprocess, 20.1ms inference, 0.8ms postprocess per image at shape (1, 3, 640, 640)\n",
      "Processed frame 620\n",
      "\n",
      "0: 640x640 (no detections), 9.9ms\n",
      "Speed: 3.4ms preprocess, 9.9ms inference, 3.3ms postprocess per image at shape (1, 3, 640, 640)\n",
      "Processed frame 621\n",
      "\n",
      "0: 640x640 1 license, 19.4ms\n",
      "Speed: 3.3ms preprocess, 19.4ms inference, 3.6ms postprocess per image at shape (1, 3, 640, 640)\n",
      "Number plate detected and stored for frame 622\n",
      "Processed frame 622\n",
      "\n",
      "0: 640x640 1 license, 13.6ms\n",
      "Speed: 0.3ms preprocess, 13.6ms inference, 3.9ms postprocess per image at shape (1, 3, 640, 640)\n",
      "Number plate detected and stored for frame 623\n",
      "Processed frame 623\n",
      "\n",
      "0: 640x640 (no detections), 13.2ms\n",
      "Speed: 7.4ms preprocess, 13.2ms inference, 0.0ms postprocess per image at shape (1, 3, 640, 640)\n",
      "Processed frame 624\n",
      "\n",
      "0: 640x640 (no detections), 11.6ms\n",
      "Speed: 3.7ms preprocess, 11.6ms inference, 0.0ms postprocess per image at shape (1, 3, 640, 640)\n",
      "Processed frame 625\n",
      "\n",
      "0: 640x640 1 license, 11.5ms\n",
      "Speed: 3.2ms preprocess, 11.5ms inference, 2.2ms postprocess per image at shape (1, 3, 640, 640)\n",
      "Number plate detected and stored for frame 626\n",
      "Processed frame 626\n",
      "\n",
      "0: 640x640 2 licenses, 20.1ms\n",
      "Speed: 0.0ms preprocess, 20.1ms inference, 0.0ms postprocess per image at shape (1, 3, 640, 640)\n",
      "Number plate detected and stored for frame 627\n",
      "Processed frame 627\n",
      "\n",
      "0: 640x640 2 licenses, 20.4ms\n",
      "Speed: 0.0ms preprocess, 20.4ms inference, 2.6ms postprocess per image at shape (1, 3, 640, 640)\n",
      "Number plate detected and stored for frame 628\n",
      "Processed frame 628\n",
      "\n",
      "0: 640x640 2 licenses, 22.5ms\n",
      "Speed: 5.3ms preprocess, 22.5ms inference, 0.0ms postprocess per image at shape (1, 3, 640, 640)\n",
      "Number plate detected and stored for frame 629\n",
      "Processed frame 629\n",
      "\n",
      "0: 640x640 2 licenses, 33.9ms\n",
      "Speed: 3.5ms preprocess, 33.9ms inference, 0.0ms postprocess per image at shape (1, 3, 640, 640)\n",
      "Number plate detected and stored for frame 630\n",
      "Processed frame 630\n",
      "\n",
      "0: 640x640 2 licenses, 62.6ms\n",
      "Speed: 6.5ms preprocess, 62.6ms inference, 6.7ms postprocess per image at shape (1, 3, 640, 640)\n",
      "Number plate detected and stored for frame 631\n",
      "Processed frame 631\n",
      "Number plates recognized and stored successfully.\n"
     ]
    }
   ],
   "source": [
    "import cv2\n",
    "import csv\n",
    "import pytesseract\n",
    "\n",
    "video_path = r'C:\\Users\\aksha\\Downloads\\a.mp4'\n",
    "cap = cv2.VideoCapture(video_path)\n",
    "\n",
    "csv_file_path = 'recognized_number_plates.csv'\n",
    "\n",
    "with open(csv_file_path, mode='w', newline='') as file:\n",
    "    writer = csv.writer(file)\n",
    "    writer.writerow(['Frame', 'Number Plate'])  # Write header\n",
    "\n",
    "    frame_count = 0\n",
    "    while cap.isOpened():\n",
    "        ret, frame = cap.read()\n",
    "        if not ret:\n",
    "            break\n",
    "\n",
    "        frame_count += 1\n",
    "\n",
    "        resized_frame = cv2.resize(frame, (640, 640))\n",
    "\n",
    "        results = model(resized_frame)\n",
    "\n",
    "        detections = results[0].boxes.xyxy.cpu().numpy()\n",
    "\n",
    "        number_plate_images = []\n",
    "        for detection in detections:\n",
    "            x1, y1, x2, y2 = detection[:4]\n",
    "            number_plate_image = resized_frame[int(y1):int(y2), int(x1):int(x2)]\n",
    "            number_plate_images.append(number_plate_image)\n",
    "\n",
    "        def ocr_image(image):\n",
    "            return pytesseract.image_to_string(image, config='--psm 8')\n",
    "\n",
    "        number_plate_detected = False\n",
    "        for number_plate_image in number_plate_images:\n",
    "            number_plate_text = ocr_image(number_plate_image).strip()\n",
    "            if number_plate_text:\n",
    "                writer.writerow([frame_count, number_plate_text])\n",
    "                number_plate_detected = True\n",
    "                break  # Exit the loop after finding and storing the first number plate\n",
    "\n",
    "        if number_plate_detected:\n",
    "            print(f\"Number plate detected and stored for frame {frame_count}\")\n",
    "\n",
    "        print(f\"Processed frame {frame_count}\")\n",
    "\n",
    "cap.release()\n",
    "\n",
    "print(\"Number plates recognized and stored successfully.\")\n"
   ]
  },
  {
   "cell_type": "code",
   "execution_count": null,
   "metadata": {},
   "outputs": [],
   "source": []
  }
 ],
 "metadata": {
  "kernelspec": {
   "display_name": "base",
   "language": "python",
   "name": "python3"
  },
  "language_info": {
   "codemirror_mode": {
    "name": "ipython",
    "version": 3
   },
   "file_extension": ".py",
   "mimetype": "text/x-python",
   "name": "python",
   "nbconvert_exporter": "python",
   "pygments_lexer": "ipython3",
   "version": "3.10.14"
  }
 },
 "nbformat": 4,
 "nbformat_minor": 2
}
